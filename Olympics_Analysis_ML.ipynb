{
 "cells": [
  {
   "cell_type": "markdown",
   "id": "36fd2a72",
   "metadata": {},
   "source": [
    "# Olympic Dataset Analysis"
   ]
  },
  {
   "cell_type": "markdown",
   "id": "09b0f5a3",
   "metadata": {},
   "source": [
    "## Group 4: Swetha Vijaya Raju, Swetha Sarma, Joyce Tse, Surbhi Zambad, Fanyu Kong"
   ]
  },
  {
   "cell_type": "markdown",
   "id": "05ee4300",
   "metadata": {},
   "source": [
    "### Date: 12/3/21"
   ]
  },
  {
   "cell_type": "markdown",
   "id": "b3a169f0",
   "metadata": {},
   "source": [
    "### Goal: The overall goal for this project was to do an in depth look at the Olympics as a business, in this we wanted to understand what was the correlation between the GDP and the Olympics and look further in the Olympics to see if there were any interesting or unexpected findings. \n",
    " "
   ]
  },
  {
   "cell_type": "markdown",
   "id": "1d77c787",
   "metadata": {},
   "source": [
    "## Importing Data/Libraries"
   ]
  },
  {
   "cell_type": "markdown",
   "id": "8f3a15ce",
   "metadata": {},
   "source": [
    "Import the Libraries needed for the Analysis"
   ]
  },
  {
   "cell_type": "code",
   "execution_count": 1,
   "id": "1e99a8d6",
   "metadata": {},
   "outputs": [
    {
     "name": "stdout",
     "output_type": "stream",
     "text": [
      "Populating the interactive namespace from numpy and matplotlib\n"
     ]
    },
    {
     "name": "stderr",
     "output_type": "stream",
     "text": [
      "/opt/anaconda3/lib/python3.9/site-packages/IPython/core/magics/pylab.py:159: UserWarning: pylab import has clobbered these variables: ['datetime']\n",
      "`%matplotlib` prevents importing * from pylab and numpy\n",
      "  warn(\"pylab import has clobbered these variables: %s\"  % clobbered +\n"
     ]
    }
   ],
   "source": [
    "import pandas as pd\n",
    "import numpy as np\n",
    "import seaborn as sns\n",
    "from datetime import datetime,date\n",
    "\n",
    "%pylab inline\n",
    "\n",
    "import sklearn as sk\n",
    "import sklearn.tree as tree\n",
    "\n",
    "from IPython.display import Image  \n",
    "import pydotplus\n",
    "from sklearn import linear_model\n",
    "from sklearn.model_selection import train_test_split\n",
    "from sklearn.metrics import confusion_matrix\n",
    "from sklearn.ensemble import RandomForestClassifier\n",
    "\n",
    "import warnings\n",
    "warnings.filterwarnings('ignore')"
   ]
  },
  {
   "cell_type": "markdown",
   "id": "35f471d2",
   "metadata": {},
   "source": [
    "## Olympics Dataset Used for Analysis"
   ]
  },
  {
   "cell_type": "markdown",
   "id": "11598dfe",
   "metadata": {},
   "source": [
    "### Tokyo 2021 Medals Dataset"
   ]
  },
  {
   "cell_type": "markdown",
   "id": "adc5c934",
   "metadata": {},
   "source": [
    "**Tokyo2021_medals.csv**"
   ]
  },
  {
   "cell_type": "markdown",
   "id": "05d89a2d",
   "metadata": {},
   "source": [
    "Description:\n",
    "\n",
    "The Tokyo2021_medals.csv file contains the information regarding those who won a medal(s) for Tokyo Olympics 2021.\n",
    "Each row is an athlete who won a medal in the Tokyo Olympics. \n",
    "\n",
    "Columns include:\n",
    "- **Medal type**: Gold,Silver,Bronze\n",
    "- **Medal code**: Gold =1,Silver=2,Bronze=3\n",
    "- **Athlete name**: Name of Athlete\n",
    "- **Short athlete name**: short version of name of athlete\n",
    "- **Athlete sex**: Male(M), Female(F), Mixed(X), Not Given(O)\n",
    "- **Link of the athlete**: profile on athlete \n",
    "- **Country**: country the athlete represents\n",
    "- **Country code**: abbreviation of the country.\n",
    "- **Discipline**: the sport the athlete participated in.\n",
    "- **Event**: type of event in discipline the athlete particpated in."
   ]
  },
  {
   "cell_type": "code",
   "execution_count": 2,
   "id": "4c72440f",
   "metadata": {},
   "outputs": [],
   "source": [
    "df_m = pd.read_csv('Tokyo2021_medals.csv')"
   ]
  },
  {
   "cell_type": "markdown",
   "id": "852aa60c",
   "metadata": {},
   "source": [
    "### Tokyo 2021 Athletes dataset"
   ]
  },
  {
   "cell_type": "markdown",
   "id": "10368a90",
   "metadata": {},
   "source": [
    "**Tokyo2021_athletes.csv**"
   ]
  },
  {
   "cell_type": "markdown",
   "id": "cbe4223b",
   "metadata": {},
   "source": [
    "Description:\n",
    "\n",
    "The Tokyo2021_athletes.csv file contains the information regarding those partcipated in the Tokyo Olympics 2021. \n",
    "Each row is an athlete who partcipated in the Tokyo Olympics 2021. \n",
    "\n",
    "Columns include:\n",
    "- **name**: name of athlete\n",
    "- **short_name**: short versin of name\n",
    "- **gender**: athlete gender (Male/Female)\n",
    "- **birth_date**: birth_date of athlete\n",
    "- **birth_place**: place of birth\n",
    "- **country**: country the athlete represents\n",
    "- **country code**: abbreviation of the country.\n",
    "- **discipline**: the sport the athlete participated in.\n",
    "- **discipline_code**: abbreviation of discipline\n",
    "- **residence_place**: name of city athlete resides in\n",
    "- **residence_country**: name of country athlete resides in\n",
    "- **heightm/ft**: athlete height in meters and feet\n",
    "- **url**: athlete profile link"
   ]
  },
  {
   "cell_type": "code",
   "execution_count": 3,
   "id": "23f1e2ad",
   "metadata": {},
   "outputs": [],
   "source": [
    "df_a  = pd.read_csv('Tokyo2021_athletes.csv')"
   ]
  },
  {
   "cell_type": "markdown",
   "id": "13eba8dd",
   "metadata": {},
   "source": [
    "### 120 Years of Olympics dataset"
   ]
  },
  {
   "cell_type": "markdown",
   "id": "5191ac44",
   "metadata": {},
   "source": [
    "**120years_athlete_events**"
   ]
  },
  {
   "cell_type": "markdown",
   "id": "d5aaea75",
   "metadata": {},
   "source": [
    "Description: \n",
    "\n",
    "The 120 Year_athlete_events.csv contains the information regarding all the Olympics from 1990-2016, this includes the country names, the medals won by the athletes and the season in which the olympics these athletes participated in.\n",
    "\n",
    "Each row represent an athlete that participated in a certain year of the olympics in either Winter/Summer and their attributes: \n",
    "\n",
    "Columns include:\n",
    "- **ID** - Identification number for each row ( athlete)\n",
    "- **Name** - Name of Athlete\n",
    "- **Sex** - Sex of Athlete (M/F)\n",
    "- **Age** - Age of the athlete\n",
    "- **Height** - Height in centimeters\n",
    "- **Weight** - Weight in kilograms\n",
    "- **Team**- Name of team the athlete represented\n",
    "- **NOC**- Abbreviation of Name of Country\n",
    "- **Games**- Year and Season of Games the athlete participated in\n",
    "- **Year**- The year of the olympics the athlete partcipated in.\n",
    "- **Season** - The season of the olympics the athlete partcipated in.\n",
    "- **City**- The city in which the olympics was hosted\n",
    "- **Sport**- The sport the athlete participated in. \n",
    "- **Event**- The event the athlete participated in.\n",
    "- **Medal**- What medal the athlete earned(Gold, Silver,Bronze) and not earned it's NA (NA)\n"
   ]
  },
  {
   "cell_type": "code",
   "execution_count": 4,
   "id": "abf85a39",
   "metadata": {},
   "outputs": [],
   "source": [
    "df_120 = pd.read_csv('120years_athlete_events.csv')"
   ]
  },
  {
   "cell_type": "markdown",
   "id": "8171aaf4",
   "metadata": {},
   "source": [
    "### GDP Dataset used for Analysis"
   ]
  },
  {
   "cell_type": "markdown",
   "id": "122df09c",
   "metadata": {},
   "source": [
    "**GDP.csv**"
   ]
  },
  {
   "cell_type": "markdown",
   "id": "4544ba5c",
   "metadata": {},
   "source": [
    "Description:\n",
    "\n",
    "The GDP.csv file contains the information regarding the GDP of countries.\n",
    "\n",
    "Each row represents GDP value for each country by the year column. \n",
    "\n",
    "Columns include:\n",
    "- **Country**: name of Country\n",
    "- **Country Code**: abbreviation of country\n",
    "- **1990** - **2018**: GDP value for each of the years (year is by column)"
   ]
  },
  {
   "cell_type": "code",
   "execution_count": 5,
   "id": "7eaec87b",
   "metadata": {},
   "outputs": [],
   "source": [
    "df_gdp = pd.read_csv('GDP.csv')"
   ]
  },
  {
   "cell_type": "markdown",
   "id": "c3d2da0c",
   "metadata": {},
   "source": [
    "### Population By Country Dataset"
   ]
  },
  {
   "cell_type": "markdown",
   "id": "1aedcaff",
   "metadata": {},
   "source": [
    "Description:\n",
    "\n",
    "The population_by_country_2020.csv file contains the information regarding the population, and the population statisitcs of countries.\n",
    "\n",
    "Each row represents a country. \n",
    "\n",
    "Columns include:\n",
    "- **Country**: name of Country\n",
    "- **Population**: population of each country\n",
    "- **Yearly Change**: Population change by year\n",
    "- **Net Change**: Net change in population\n",
    "- **Density(P/Km^2)**: Density of population\n",
    "- **Land Area (Km^2)**: Land area in terms of kilometer\n",
    "- **Migrants (net)**: migrants of each country\n",
    "- **Fert. Rate**: Fertility or growth rate of the individual countries\n",
    "- **Med. Age**: Median Age lifespan of the country\n",
    "- **Urban Pop%**: The urban population in percentage"
   ]
  },
  {
   "cell_type": "code",
   "execution_count": 6,
   "id": "7d488389",
   "metadata": {},
   "outputs": [],
   "source": [
    "df_pop = pd.read_csv('population_by_country_2020.csv')"
   ]
  },
  {
   "cell_type": "markdown",
   "id": "983763fc",
   "metadata": {},
   "source": [
    "-------------------------------------------------------------------------------------------------------------------------------"
   ]
  },
  {
   "cell_type": "markdown",
   "id": "73f646fa",
   "metadata": {},
   "source": [
    "## Data Cleaning"
   ]
  },
  {
   "cell_type": "markdown",
   "id": "ee6db564",
   "metadata": {},
   "source": [
    "### Cleaning the Tokyo2021_medals.csv "
   ]
  },
  {
   "cell_type": "markdown",
   "id": "fc3361cb",
   "metadata": {},
   "source": [
    "#### Cleaning the dataset for medals is that we need to remove the NaN values, drop columns that we dont need, remove any uncecessary/redundent columns and reformat the athlete_sex column"
   ]
  },
  {
   "cell_type": "code",
   "execution_count": 7,
   "id": "c451af61",
   "metadata": {},
   "outputs": [
    {
     "data": {
      "text/html": [
       "<div>\n",
       "<style scoped>\n",
       "    .dataframe tbody tr th:only-of-type {\n",
       "        vertical-align: middle;\n",
       "    }\n",
       "\n",
       "    .dataframe tbody tr th {\n",
       "        vertical-align: top;\n",
       "    }\n",
       "\n",
       "    .dataframe thead th {\n",
       "        text-align: right;\n",
       "    }\n",
       "</style>\n",
       "<table border=\"1\" class=\"dataframe\">\n",
       "  <thead>\n",
       "    <tr style=\"text-align: right;\">\n",
       "      <th></th>\n",
       "      <th>medal_type</th>\n",
       "      <th>medal_code</th>\n",
       "      <th>medal_date</th>\n",
       "      <th>athlete_short_name</th>\n",
       "      <th>athlete_name</th>\n",
       "      <th>athlete_sex</th>\n",
       "      <th>athlete_link</th>\n",
       "      <th>country_code</th>\n",
       "      <th>discipline_code</th>\n",
       "      <th>event</th>\n",
       "      <th>country</th>\n",
       "      <th>discipline</th>\n",
       "    </tr>\n",
       "  </thead>\n",
       "  <tbody>\n",
       "    <tr>\n",
       "      <th>0</th>\n",
       "      <td>Bronze Medal</td>\n",
       "      <td>3</td>\n",
       "      <td>00:00.0</td>\n",
       "      <td>ALVAREZ S</td>\n",
       "      <td>ALVAREZ Santiago</td>\n",
       "      <td>M</td>\n",
       "      <td>../../../en/results/rugby-sevens/athlete-profi...</td>\n",
       "      <td>ARG</td>\n",
       "      <td>RUG</td>\n",
       "      <td>Men</td>\n",
       "      <td>Argentina</td>\n",
       "      <td>Rugby Sevens</td>\n",
       "    </tr>\n",
       "    <tr>\n",
       "      <th>1</th>\n",
       "      <td>Bronze Medal</td>\n",
       "      <td>3</td>\n",
       "      <td>00:00.0</td>\n",
       "      <td>BAZAN VELEZ L</td>\n",
       "      <td>BAZAN VELEZ Lautaro</td>\n",
       "      <td>M</td>\n",
       "      <td>../../../en/results/rugby-sevens/athlete-profi...</td>\n",
       "      <td>ARG</td>\n",
       "      <td>RUG</td>\n",
       "      <td>Men</td>\n",
       "      <td>Argentina</td>\n",
       "      <td>Rugby Sevens</td>\n",
       "    </tr>\n",
       "    <tr>\n",
       "      <th>2</th>\n",
       "      <td>Bronze Medal</td>\n",
       "      <td>3</td>\n",
       "      <td>00:00.0</td>\n",
       "      <td>del MESTRE F</td>\n",
       "      <td>del MESTRE Felipe</td>\n",
       "      <td>M</td>\n",
       "      <td>../../../en/results/rugby-sevens/athlete-profi...</td>\n",
       "      <td>ARG</td>\n",
       "      <td>RUG</td>\n",
       "      <td>Men</td>\n",
       "      <td>Argentina</td>\n",
       "      <td>Rugby Sevens</td>\n",
       "    </tr>\n",
       "  </tbody>\n",
       "</table>\n",
       "</div>"
      ],
      "text/plain": [
       "     medal_type  medal_code medal_date athlete_short_name  \\\n",
       "0  Bronze Medal           3    00:00.0          ALVAREZ S   \n",
       "1  Bronze Medal           3    00:00.0      BAZAN VELEZ L   \n",
       "2  Bronze Medal           3    00:00.0       del MESTRE F   \n",
       "\n",
       "          athlete_name athlete_sex  \\\n",
       "0     ALVAREZ Santiago           M   \n",
       "1  BAZAN VELEZ Lautaro           M   \n",
       "2    del MESTRE Felipe           M   \n",
       "\n",
       "                                        athlete_link country_code  \\\n",
       "0  ../../../en/results/rugby-sevens/athlete-profi...          ARG   \n",
       "1  ../../../en/results/rugby-sevens/athlete-profi...          ARG   \n",
       "2  ../../../en/results/rugby-sevens/athlete-profi...          ARG   \n",
       "\n",
       "  discipline_code event    country    discipline  \n",
       "0             RUG   Men  Argentina  Rugby Sevens  \n",
       "1             RUG   Men  Argentina  Rugby Sevens  \n",
       "2             RUG   Men  Argentina  Rugby Sevens  "
      ]
     },
     "execution_count": 7,
     "metadata": {},
     "output_type": "execute_result"
    }
   ],
   "source": [
    "df_m.head(3)"
   ]
  },
  {
   "cell_type": "markdown",
   "id": "cf50972c",
   "metadata": {},
   "source": [
    "**Check for NaN**"
   ]
  },
  {
   "cell_type": "code",
   "execution_count": 8,
   "id": "2bfa2a18",
   "metadata": {},
   "outputs": [
    {
     "data": {
      "text/plain": [
       "medal_type            0\n",
       "medal_code            0\n",
       "medal_date            0\n",
       "athlete_short_name    0\n",
       "athlete_name          0\n",
       "athlete_sex           0\n",
       "athlete_link          0\n",
       "country_code          0\n",
       "discipline_code       0\n",
       "event                 0\n",
       "country               0\n",
       "discipline            0\n",
       "dtype: int64"
      ]
     },
     "execution_count": 8,
     "metadata": {},
     "output_type": "execute_result"
    }
   ],
   "source": [
    "df_m.isna().sum()"
   ]
  },
  {
   "cell_type": "markdown",
   "id": "aec9d693",
   "metadata": {},
   "source": [
    "#### Check for blanks"
   ]
  },
  {
   "cell_type": "code",
   "execution_count": 9,
   "id": "478be6bc",
   "metadata": {},
   "outputs": [
    {
     "data": {
      "text/plain": [
       "medal_type            False\n",
       "medal_code            False\n",
       "medal_date            False\n",
       "athlete_short_name    False\n",
       "athlete_name          False\n",
       "athlete_sex           False\n",
       "athlete_link          False\n",
       "country_code          False\n",
       "discipline_code       False\n",
       "event                 False\n",
       "country               False\n",
       "discipline            False\n",
       "dtype: bool"
      ]
     },
     "execution_count": 9,
     "metadata": {},
     "output_type": "execute_result"
    }
   ],
   "source": [
    "df_m[df_m == ' '].any()"
   ]
  },
  {
   "cell_type": "markdown",
   "id": "79149dbd",
   "metadata": {},
   "source": [
    "**In the medals data there are variables in the sex column that are neither Male or Female, we came to the conlcusion that the variables 'X','M','W' and 'O' represent mixed,male, women and unknown.**\n",
    "\n",
    "**Then we used the athlete's table(Tokyo2021_athletes.csv) made a copy and used it to find out via merge what the sex for each of the athletes are.**"
   ]
  },
  {
   "cell_type": "code",
   "execution_count": 10,
   "id": "17d3db9b",
   "metadata": {},
   "outputs": [
    {
     "data": {
      "text/plain": [
       "array(['M', 'W', 'X', 'O'], dtype=object)"
      ]
     },
     "execution_count": 10,
     "metadata": {},
     "output_type": "execute_result"
    }
   ],
   "source": [
    "df_m.athlete_sex.unique()"
   ]
  },
  {
   "cell_type": "markdown",
   "id": "ab9fb66f",
   "metadata": {},
   "source": [
    "#### This copy of the athlete's csv file is meant for cleaning ONLY and will help clean the Medals csv file and not effect the orginal athlete's file. "
   ]
  },
  {
   "cell_type": "code",
   "execution_count": 11,
   "id": "6c67ae81",
   "metadata": {},
   "outputs": [],
   "source": [
    "df_a1 = df_a.copy()"
   ]
  },
  {
   "cell_type": "code",
   "execution_count": 12,
   "id": "ba8b16be",
   "metadata": {},
   "outputs": [
    {
     "data": {
      "text/html": [
       "<div>\n",
       "<style scoped>\n",
       "    .dataframe tbody tr th:only-of-type {\n",
       "        vertical-align: middle;\n",
       "    }\n",
       "\n",
       "    .dataframe tbody tr th {\n",
       "        vertical-align: top;\n",
       "    }\n",
       "\n",
       "    .dataframe thead th {\n",
       "        text-align: right;\n",
       "    }\n",
       "</style>\n",
       "<table border=\"1\" class=\"dataframe\">\n",
       "  <thead>\n",
       "    <tr style=\"text-align: right;\">\n",
       "      <th></th>\n",
       "      <th>name</th>\n",
       "      <th>short_name</th>\n",
       "      <th>gender</th>\n",
       "      <th>birth_date</th>\n",
       "      <th>birth_place</th>\n",
       "      <th>birth_country</th>\n",
       "      <th>country</th>\n",
       "      <th>country_code</th>\n",
       "      <th>discipline</th>\n",
       "      <th>discipline_code</th>\n",
       "      <th>residence_place</th>\n",
       "      <th>residence_country</th>\n",
       "      <th>height_m/ft</th>\n",
       "      <th>url</th>\n",
       "    </tr>\n",
       "  </thead>\n",
       "  <tbody>\n",
       "    <tr>\n",
       "      <th>0</th>\n",
       "      <td>AALERUD Katrine</td>\n",
       "      <td>AALERUD K</td>\n",
       "      <td>Female</td>\n",
       "      <td>12/4/1994</td>\n",
       "      <td>VESTBY</td>\n",
       "      <td>Norway</td>\n",
       "      <td>Norway</td>\n",
       "      <td>NOR</td>\n",
       "      <td>Cycling Road</td>\n",
       "      <td>CRD</td>\n",
       "      <td>NaN</td>\n",
       "      <td>NaN</td>\n",
       "      <td>NaN</td>\n",
       "      <td>../../../en/results/cycling-road/athlete-profi...</td>\n",
       "    </tr>\n",
       "    <tr>\n",
       "      <th>1</th>\n",
       "      <td>ABAD Nestor</td>\n",
       "      <td>ABAD N</td>\n",
       "      <td>Male</td>\n",
       "      <td>3/29/1993</td>\n",
       "      <td>ALCOI</td>\n",
       "      <td>Spain</td>\n",
       "      <td>Spain</td>\n",
       "      <td>ESP</td>\n",
       "      <td>Artistic Gymnastics</td>\n",
       "      <td>GAR</td>\n",
       "      <td>MADRID</td>\n",
       "      <td>Spain</td>\n",
       "      <td>1.65/5'4''</td>\n",
       "      <td>../../../en/results/artistic-gymnastics/athlet...</td>\n",
       "    </tr>\n",
       "    <tr>\n",
       "      <th>2</th>\n",
       "      <td>ABAGNALE Giovanni</td>\n",
       "      <td>ABAGNALE G</td>\n",
       "      <td>Male</td>\n",
       "      <td>1/11/1995</td>\n",
       "      <td>GRAGNANO</td>\n",
       "      <td>Italy</td>\n",
       "      <td>Italy</td>\n",
       "      <td>ITA</td>\n",
       "      <td>Rowing</td>\n",
       "      <td>ROW</td>\n",
       "      <td>SABAUDIA</td>\n",
       "      <td>Italy</td>\n",
       "      <td>1.98/6'5''</td>\n",
       "      <td>../../../en/results/rowing/athlete-profile-n13...</td>\n",
       "    </tr>\n",
       "    <tr>\n",
       "      <th>3</th>\n",
       "      <td>ABALDE Alberto</td>\n",
       "      <td>ABALDE A</td>\n",
       "      <td>Male</td>\n",
       "      <td>12/15/1995</td>\n",
       "      <td>FERROL</td>\n",
       "      <td>Spain</td>\n",
       "      <td>Spain</td>\n",
       "      <td>ESP</td>\n",
       "      <td>Basketball</td>\n",
       "      <td>BKB</td>\n",
       "      <td>NaN</td>\n",
       "      <td>NaN</td>\n",
       "      <td>2.00/6'6''</td>\n",
       "      <td>../../../en/results/basketball/athlete-profile...</td>\n",
       "    </tr>\n",
       "    <tr>\n",
       "      <th>4</th>\n",
       "      <td>ABALDE Tamara</td>\n",
       "      <td>ABALDE T</td>\n",
       "      <td>Female</td>\n",
       "      <td>2/6/1989</td>\n",
       "      <td>VIGO</td>\n",
       "      <td>Spain</td>\n",
       "      <td>Spain</td>\n",
       "      <td>ESP</td>\n",
       "      <td>Basketball</td>\n",
       "      <td>BKB</td>\n",
       "      <td>NaN</td>\n",
       "      <td>NaN</td>\n",
       "      <td>1.92/6'3''</td>\n",
       "      <td>../../../en/results/basketball/athlete-profile...</td>\n",
       "    </tr>\n",
       "  </tbody>\n",
       "</table>\n",
       "</div>"
      ],
      "text/plain": [
       "                name  short_name  gender  birth_date birth_place  \\\n",
       "0    AALERUD Katrine   AALERUD K  Female   12/4/1994      VESTBY   \n",
       "1        ABAD Nestor      ABAD N    Male   3/29/1993       ALCOI   \n",
       "2  ABAGNALE Giovanni  ABAGNALE G    Male   1/11/1995    GRAGNANO   \n",
       "3     ABALDE Alberto    ABALDE A    Male  12/15/1995      FERROL   \n",
       "4      ABALDE Tamara    ABALDE T  Female    2/6/1989        VIGO   \n",
       "\n",
       "  birth_country country country_code           discipline discipline_code  \\\n",
       "0        Norway  Norway          NOR         Cycling Road             CRD   \n",
       "1         Spain   Spain          ESP  Artistic Gymnastics             GAR   \n",
       "2         Italy   Italy          ITA               Rowing             ROW   \n",
       "3         Spain   Spain          ESP           Basketball             BKB   \n",
       "4         Spain   Spain          ESP           Basketball             BKB   \n",
       "\n",
       "  residence_place residence_country height_m/ft  \\\n",
       "0             NaN               NaN         NaN   \n",
       "1          MADRID             Spain  1.65/5'4''   \n",
       "2        SABAUDIA             Italy  1.98/6'5''   \n",
       "3             NaN               NaN  2.00/6'6''   \n",
       "4             NaN               NaN  1.92/6'3''   \n",
       "\n",
       "                                                 url  \n",
       "0  ../../../en/results/cycling-road/athlete-profi...  \n",
       "1  ../../../en/results/artistic-gymnastics/athlet...  \n",
       "2  ../../../en/results/rowing/athlete-profile-n13...  \n",
       "3  ../../../en/results/basketball/athlete-profile...  \n",
       "4  ../../../en/results/basketball/athlete-profile...  "
      ]
     },
     "execution_count": 12,
     "metadata": {},
     "output_type": "execute_result"
    }
   ],
   "source": [
    "df_a1.head()"
   ]
  },
  {
   "cell_type": "markdown",
   "id": "6eb6fc68",
   "metadata": {},
   "source": [
    "#### Drop the unnessary columns that are NOT needed for medals(df_a1) file"
   ]
  },
  {
   "cell_type": "code",
   "execution_count": 13,
   "id": "5ae73726",
   "metadata": {},
   "outputs": [],
   "source": [
    "df_a1.drop(columns=['short_name','birth_date','birth_place','birth_country','country','country_code',\\\n",
    "                    'discipline','discipline_code','residence_place','residence_country','height_m/ft','url'],inplace=True)"
   ]
  },
  {
   "cell_type": "markdown",
   "id": "7f0f22d5",
   "metadata": {},
   "source": [
    "#### Merge Athletes Copy (df_a1) with Medal File (df_m) to replace the medal file with the correct gender from athletes"
   ]
  },
  {
   "cell_type": "code",
   "execution_count": 14,
   "id": "fb632755",
   "metadata": {},
   "outputs": [],
   "source": [
    "df_a1_merge_m = df_m.merge(df_a1, left_on ='athlete_name', right_on='name', how='left')"
   ]
  },
  {
   "cell_type": "code",
   "execution_count": 15,
   "id": "a6188e4e",
   "metadata": {},
   "outputs": [
    {
     "data": {
      "text/html": [
       "<div>\n",
       "<style scoped>\n",
       "    .dataframe tbody tr th:only-of-type {\n",
       "        vertical-align: middle;\n",
       "    }\n",
       "\n",
       "    .dataframe tbody tr th {\n",
       "        vertical-align: top;\n",
       "    }\n",
       "\n",
       "    .dataframe thead th {\n",
       "        text-align: right;\n",
       "    }\n",
       "</style>\n",
       "<table border=\"1\" class=\"dataframe\">\n",
       "  <thead>\n",
       "    <tr style=\"text-align: right;\">\n",
       "      <th></th>\n",
       "      <th>medal_type</th>\n",
       "      <th>medal_code</th>\n",
       "      <th>medal_date</th>\n",
       "      <th>athlete_short_name</th>\n",
       "      <th>athlete_name</th>\n",
       "      <th>athlete_sex</th>\n",
       "      <th>athlete_link</th>\n",
       "      <th>country_code</th>\n",
       "      <th>discipline_code</th>\n",
       "      <th>event</th>\n",
       "      <th>country</th>\n",
       "      <th>discipline</th>\n",
       "      <th>name</th>\n",
       "      <th>gender</th>\n",
       "    </tr>\n",
       "  </thead>\n",
       "  <tbody>\n",
       "    <tr>\n",
       "      <th>0</th>\n",
       "      <td>Bronze Medal</td>\n",
       "      <td>3</td>\n",
       "      <td>00:00.0</td>\n",
       "      <td>ALVAREZ S</td>\n",
       "      <td>ALVAREZ Santiago</td>\n",
       "      <td>M</td>\n",
       "      <td>../../../en/results/rugby-sevens/athlete-profi...</td>\n",
       "      <td>ARG</td>\n",
       "      <td>RUG</td>\n",
       "      <td>Men</td>\n",
       "      <td>Argentina</td>\n",
       "      <td>Rugby Sevens</td>\n",
       "      <td>ALVAREZ Santiago</td>\n",
       "      <td>Male</td>\n",
       "    </tr>\n",
       "    <tr>\n",
       "      <th>1</th>\n",
       "      <td>Bronze Medal</td>\n",
       "      <td>3</td>\n",
       "      <td>00:00.0</td>\n",
       "      <td>BAZAN VELEZ L</td>\n",
       "      <td>BAZAN VELEZ Lautaro</td>\n",
       "      <td>M</td>\n",
       "      <td>../../../en/results/rugby-sevens/athlete-profi...</td>\n",
       "      <td>ARG</td>\n",
       "      <td>RUG</td>\n",
       "      <td>Men</td>\n",
       "      <td>Argentina</td>\n",
       "      <td>Rugby Sevens</td>\n",
       "      <td>BAZAN VELEZ Lautaro</td>\n",
       "      <td>Male</td>\n",
       "    </tr>\n",
       "    <tr>\n",
       "      <th>2</th>\n",
       "      <td>Bronze Medal</td>\n",
       "      <td>3</td>\n",
       "      <td>00:00.0</td>\n",
       "      <td>del MESTRE F</td>\n",
       "      <td>del MESTRE Felipe</td>\n",
       "      <td>M</td>\n",
       "      <td>../../../en/results/rugby-sevens/athlete-profi...</td>\n",
       "      <td>ARG</td>\n",
       "      <td>RUG</td>\n",
       "      <td>Men</td>\n",
       "      <td>Argentina</td>\n",
       "      <td>Rugby Sevens</td>\n",
       "      <td>del MESTRE Felipe</td>\n",
       "      <td>Male</td>\n",
       "    </tr>\n",
       "    <tr>\n",
       "      <th>3</th>\n",
       "      <td>Bronze Medal</td>\n",
       "      <td>3</td>\n",
       "      <td>00:00.0</td>\n",
       "      <td>OSADCZUK M</td>\n",
       "      <td>OSADCZUK Matias</td>\n",
       "      <td>M</td>\n",
       "      <td>../../../en/results/rugby-sevens/athlete-profi...</td>\n",
       "      <td>ARG</td>\n",
       "      <td>RUG</td>\n",
       "      <td>Men</td>\n",
       "      <td>Argentina</td>\n",
       "      <td>Rugby Sevens</td>\n",
       "      <td>OSADCZUK Matias</td>\n",
       "      <td>Male</td>\n",
       "    </tr>\n",
       "    <tr>\n",
       "      <th>4</th>\n",
       "      <td>Bronze Medal</td>\n",
       "      <td>3</td>\n",
       "      <td>00:00.0</td>\n",
       "      <td>ETCHART R</td>\n",
       "      <td>ETCHART Rodrigo</td>\n",
       "      <td>M</td>\n",
       "      <td>../../../en/results/rugby-sevens/athlete-profi...</td>\n",
       "      <td>ARG</td>\n",
       "      <td>RUG</td>\n",
       "      <td>Men</td>\n",
       "      <td>Argentina</td>\n",
       "      <td>Rugby Sevens</td>\n",
       "      <td>ETCHART Rodrigo</td>\n",
       "      <td>Male</td>\n",
       "    </tr>\n",
       "  </tbody>\n",
       "</table>\n",
       "</div>"
      ],
      "text/plain": [
       "     medal_type  medal_code medal_date athlete_short_name  \\\n",
       "0  Bronze Medal           3    00:00.0          ALVAREZ S   \n",
       "1  Bronze Medal           3    00:00.0      BAZAN VELEZ L   \n",
       "2  Bronze Medal           3    00:00.0       del MESTRE F   \n",
       "3  Bronze Medal           3    00:00.0         OSADCZUK M   \n",
       "4  Bronze Medal           3    00:00.0          ETCHART R   \n",
       "\n",
       "          athlete_name athlete_sex  \\\n",
       "0     ALVAREZ Santiago           M   \n",
       "1  BAZAN VELEZ Lautaro           M   \n",
       "2    del MESTRE Felipe           M   \n",
       "3      OSADCZUK Matias           M   \n",
       "4      ETCHART Rodrigo           M   \n",
       "\n",
       "                                        athlete_link country_code  \\\n",
       "0  ../../../en/results/rugby-sevens/athlete-profi...          ARG   \n",
       "1  ../../../en/results/rugby-sevens/athlete-profi...          ARG   \n",
       "2  ../../../en/results/rugby-sevens/athlete-profi...          ARG   \n",
       "3  ../../../en/results/rugby-sevens/athlete-profi...          ARG   \n",
       "4  ../../../en/results/rugby-sevens/athlete-profi...          ARG   \n",
       "\n",
       "  discipline_code event    country    discipline                 name gender  \n",
       "0             RUG   Men  Argentina  Rugby Sevens     ALVAREZ Santiago   Male  \n",
       "1             RUG   Men  Argentina  Rugby Sevens  BAZAN VELEZ Lautaro   Male  \n",
       "2             RUG   Men  Argentina  Rugby Sevens    del MESTRE Felipe   Male  \n",
       "3             RUG   Men  Argentina  Rugby Sevens      OSADCZUK Matias   Male  \n",
       "4             RUG   Men  Argentina  Rugby Sevens      ETCHART Rodrigo   Male  "
      ]
     },
     "execution_count": 15,
     "metadata": {},
     "output_type": "execute_result"
    }
   ],
   "source": [
    "df_a1_merge_m.head()"
   ]
  },
  {
   "cell_type": "markdown",
   "id": "d8c6e14c",
   "metadata": {},
   "source": [
    "**Check for NaN in merged dataset**"
   ]
  },
  {
   "cell_type": "code",
   "execution_count": 16,
   "id": "39afb8ea",
   "metadata": {},
   "outputs": [
    {
     "data": {
      "text/plain": [
       "medal_type             0\n",
       "medal_code             0\n",
       "medal_date             0\n",
       "athlete_short_name     0\n",
       "athlete_name           0\n",
       "athlete_sex            0\n",
       "athlete_link           0\n",
       "country_code           0\n",
       "discipline_code        0\n",
       "event                  0\n",
       "country                0\n",
       "discipline             0\n",
       "name                   0\n",
       "gender                20\n",
       "dtype: int64"
      ]
     },
     "execution_count": 16,
     "metadata": {},
     "output_type": "execute_result"
    }
   ],
   "source": [
    "df_a1_merge_m.isna().sum()"
   ]
  },
  {
   "cell_type": "markdown",
   "id": "ed294448",
   "metadata": {},
   "source": [
    "#### There are 20 NaN values in the merged dataset coming from the atheletes copy dataset. Thus, to figure out if those values are represented in the medals we wont drop the athlete_sex column. \n",
    "\n",
    "#### Replace the values in the 'athlete_sex' column with the 'gender' column."
   ]
  },
  {
   "cell_type": "code",
   "execution_count": 17,
   "id": "8625fd04",
   "metadata": {},
   "outputs": [],
   "source": [
    "df_a1_merge_m.loc[(df_a1_merge_m.gender.notnull()), 'athlete_sex'] = df_a1_merge_m.gender"
   ]
  },
  {
   "cell_type": "code",
   "execution_count": 18,
   "id": "e4cc892e",
   "metadata": {},
   "outputs": [
    {
     "data": {
      "text/plain": [
       "0"
      ]
     },
     "execution_count": 18,
     "metadata": {},
     "output_type": "execute_result"
    }
   ],
   "source": [
    "df_a1_merge_m.athlete_sex.isna().sum()"
   ]
  },
  {
   "cell_type": "markdown",
   "id": "dde18814",
   "metadata": {},
   "source": [
    "**Number of records that are STILL not replaced by gender column from athlete copy file because the athlete copy file contains NaN values for those twenty records.** "
   ]
  },
  {
   "cell_type": "code",
   "execution_count": 19,
   "id": "7fd40494",
   "metadata": {},
   "outputs": [
    {
     "data": {
      "text/plain": [
       "20"
      ]
     },
     "execution_count": 19,
     "metadata": {},
     "output_type": "execute_result"
    }
   ],
   "source": [
    "df_a1_merge_m[(df_a1_merge_m.athlete_sex != 'Male') & (df_a1_merge_m.athlete_sex != 'Female')].athlete_sex.size"
   ]
  },
  {
   "cell_type": "code",
   "execution_count": 20,
   "id": "433bacb8",
   "metadata": {},
   "outputs": [
    {
     "data": {
      "text/plain": [
       "array(['Male', 'Female', 'W', 'M', 'O'], dtype=object)"
      ]
     },
     "execution_count": 20,
     "metadata": {},
     "output_type": "execute_result"
    }
   ],
   "source": [
    "df_a1_merge_m.athlete_sex.unique()"
   ]
  },
  {
   "cell_type": "markdown",
   "id": "f8700c87",
   "metadata": {},
   "source": [
    "**Replace the 'M','O','W'**"
   ]
  },
  {
   "cell_type": "code",
   "execution_count": 21,
   "id": "f2b2fa24",
   "metadata": {},
   "outputs": [],
   "source": [
    "df_a1_merge_m.loc[(df_a1_merge_m.athlete_sex == 'M'), 'athlete_sex'] = 'Male'"
   ]
  },
  {
   "cell_type": "code",
   "execution_count": 22,
   "id": "dc2bb0b3",
   "metadata": {},
   "outputs": [],
   "source": [
    "df_a1_merge_m.loc[(df_a1_merge_m.athlete_sex == 'W'), 'athlete_sex'] = 'Female'"
   ]
  },
  {
   "cell_type": "markdown",
   "id": "8e351dd0",
   "metadata": {},
   "source": [
    "**Replace the 'O' records with Unknown**"
   ]
  },
  {
   "cell_type": "code",
   "execution_count": 23,
   "id": "a5098724",
   "metadata": {},
   "outputs": [
    {
     "data": {
      "text/plain": [
       "1"
      ]
     },
     "execution_count": 23,
     "metadata": {},
     "output_type": "execute_result"
    }
   ],
   "source": [
    "(df_a1_merge_m.athlete_sex =='O').sum()"
   ]
  },
  {
   "cell_type": "code",
   "execution_count": 24,
   "id": "9760af27",
   "metadata": {},
   "outputs": [],
   "source": [
    "df_a1_merge_m.loc[(df_a1_merge_m.athlete_sex == 'O'), 'athlete_sex'] = 'Unknown'"
   ]
  },
  {
   "cell_type": "code",
   "execution_count": 25,
   "id": "a2459837",
   "metadata": {},
   "outputs": [
    {
     "data": {
      "text/plain": [
       "0"
      ]
     },
     "execution_count": 25,
     "metadata": {},
     "output_type": "execute_result"
    }
   ],
   "source": [
    "(df_a1_merge_m.athlete_sex =='O').sum()"
   ]
  },
  {
   "cell_type": "markdown",
   "id": "29ea4053",
   "metadata": {},
   "source": [
    "**Convert the 'medal_date' column to year integer format from the (df_m) Medal Data**"
   ]
  },
  {
   "cell_type": "code",
   "execution_count": 26,
   "id": "34e2cab3",
   "metadata": {},
   "outputs": [],
   "source": [
    "df_a1_merge_m['medal_date'] = 2021"
   ]
  },
  {
   "cell_type": "markdown",
   "id": "55fbe3bc",
   "metadata": {},
   "source": [
    "**Rename the 'medal_date' column header to 'year'**"
   ]
  },
  {
   "cell_type": "code",
   "execution_count": 27,
   "id": "614d451a",
   "metadata": {},
   "outputs": [],
   "source": [
    "df_a1_merge_m.rename(columns = {'medal_date' : 'year'}, inplace = True)"
   ]
  },
  {
   "cell_type": "code",
   "execution_count": 28,
   "id": "c0ce6cfe",
   "metadata": {},
   "outputs": [],
   "source": [
    "df_a1_merge_m.drop(columns = ['gender', 'name', 'athlete_short_name', 'medal_code', 'athlete_link',\\\n",
    "                         'country_code', 'discipline_code'], inplace = True)"
   ]
  },
  {
   "cell_type": "markdown",
   "id": "837fb9ad",
   "metadata": {},
   "source": [
    "**Reassign the merged dataset to the original dataset to use for analysis**"
   ]
  },
  {
   "cell_type": "code",
   "execution_count": 29,
   "id": "a654a31c",
   "metadata": {},
   "outputs": [],
   "source": [
    "df_m = df_a1_merge_m"
   ]
  },
  {
   "cell_type": "code",
   "execution_count": 30,
   "id": "7e9b6ed2",
   "metadata": {},
   "outputs": [
    {
     "data": {
      "text/html": [
       "<div>\n",
       "<style scoped>\n",
       "    .dataframe tbody tr th:only-of-type {\n",
       "        vertical-align: middle;\n",
       "    }\n",
       "\n",
       "    .dataframe tbody tr th {\n",
       "        vertical-align: top;\n",
       "    }\n",
       "\n",
       "    .dataframe thead th {\n",
       "        text-align: right;\n",
       "    }\n",
       "</style>\n",
       "<table border=\"1\" class=\"dataframe\">\n",
       "  <thead>\n",
       "    <tr style=\"text-align: right;\">\n",
       "      <th></th>\n",
       "      <th>medal_type</th>\n",
       "      <th>year</th>\n",
       "      <th>athlete_name</th>\n",
       "      <th>athlete_sex</th>\n",
       "      <th>event</th>\n",
       "      <th>country</th>\n",
       "      <th>discipline</th>\n",
       "    </tr>\n",
       "  </thead>\n",
       "  <tbody>\n",
       "    <tr>\n",
       "      <th>0</th>\n",
       "      <td>Bronze Medal</td>\n",
       "      <td>2021</td>\n",
       "      <td>ALVAREZ Santiago</td>\n",
       "      <td>Male</td>\n",
       "      <td>Men</td>\n",
       "      <td>Argentina</td>\n",
       "      <td>Rugby Sevens</td>\n",
       "    </tr>\n",
       "    <tr>\n",
       "      <th>1</th>\n",
       "      <td>Bronze Medal</td>\n",
       "      <td>2021</td>\n",
       "      <td>BAZAN VELEZ Lautaro</td>\n",
       "      <td>Male</td>\n",
       "      <td>Men</td>\n",
       "      <td>Argentina</td>\n",
       "      <td>Rugby Sevens</td>\n",
       "    </tr>\n",
       "    <tr>\n",
       "      <th>2</th>\n",
       "      <td>Bronze Medal</td>\n",
       "      <td>2021</td>\n",
       "      <td>del MESTRE Felipe</td>\n",
       "      <td>Male</td>\n",
       "      <td>Men</td>\n",
       "      <td>Argentina</td>\n",
       "      <td>Rugby Sevens</td>\n",
       "    </tr>\n",
       "    <tr>\n",
       "      <th>3</th>\n",
       "      <td>Bronze Medal</td>\n",
       "      <td>2021</td>\n",
       "      <td>OSADCZUK Matias</td>\n",
       "      <td>Male</td>\n",
       "      <td>Men</td>\n",
       "      <td>Argentina</td>\n",
       "      <td>Rugby Sevens</td>\n",
       "    </tr>\n",
       "    <tr>\n",
       "      <th>4</th>\n",
       "      <td>Bronze Medal</td>\n",
       "      <td>2021</td>\n",
       "      <td>ETCHART Rodrigo</td>\n",
       "      <td>Male</td>\n",
       "      <td>Men</td>\n",
       "      <td>Argentina</td>\n",
       "      <td>Rugby Sevens</td>\n",
       "    </tr>\n",
       "  </tbody>\n",
       "</table>\n",
       "</div>"
      ],
      "text/plain": [
       "     medal_type  year         athlete_name athlete_sex event    country  \\\n",
       "0  Bronze Medal  2021     ALVAREZ Santiago        Male   Men  Argentina   \n",
       "1  Bronze Medal  2021  BAZAN VELEZ Lautaro        Male   Men  Argentina   \n",
       "2  Bronze Medal  2021    del MESTRE Felipe        Male   Men  Argentina   \n",
       "3  Bronze Medal  2021      OSADCZUK Matias        Male   Men  Argentina   \n",
       "4  Bronze Medal  2021      ETCHART Rodrigo        Male   Men  Argentina   \n",
       "\n",
       "     discipline  \n",
       "0  Rugby Sevens  \n",
       "1  Rugby Sevens  \n",
       "2  Rugby Sevens  \n",
       "3  Rugby Sevens  \n",
       "4  Rugby Sevens  "
      ]
     },
     "execution_count": 30,
     "metadata": {},
     "output_type": "execute_result"
    }
   ],
   "source": [
    "df_m.head()"
   ]
  },
  {
   "cell_type": "markdown",
   "id": "ce8dafe1",
   "metadata": {},
   "source": [
    "### Cleaning the Tokyo2021_athletes "
   ]
  },
  {
   "cell_type": "markdown",
   "id": "aa2e8254",
   "metadata": {},
   "source": [
    "#### Cleaning the dataset for athletes is that we need to remove the NaN values, only produce the height with feet, remove any uncecessary, redundent and irrelevant columns and add an Age column"
   ]
  },
  {
   "cell_type": "code",
   "execution_count": 31,
   "id": "61a39ebb",
   "metadata": {},
   "outputs": [
    {
     "data": {
      "text/html": [
       "<div>\n",
       "<style scoped>\n",
       "    .dataframe tbody tr th:only-of-type {\n",
       "        vertical-align: middle;\n",
       "    }\n",
       "\n",
       "    .dataframe tbody tr th {\n",
       "        vertical-align: top;\n",
       "    }\n",
       "\n",
       "    .dataframe thead th {\n",
       "        text-align: right;\n",
       "    }\n",
       "</style>\n",
       "<table border=\"1\" class=\"dataframe\">\n",
       "  <thead>\n",
       "    <tr style=\"text-align: right;\">\n",
       "      <th></th>\n",
       "      <th>name</th>\n",
       "      <th>short_name</th>\n",
       "      <th>gender</th>\n",
       "      <th>birth_date</th>\n",
       "      <th>birth_place</th>\n",
       "      <th>birth_country</th>\n",
       "      <th>country</th>\n",
       "      <th>country_code</th>\n",
       "      <th>discipline</th>\n",
       "      <th>discipline_code</th>\n",
       "      <th>residence_place</th>\n",
       "      <th>residence_country</th>\n",
       "      <th>height_m/ft</th>\n",
       "      <th>url</th>\n",
       "    </tr>\n",
       "  </thead>\n",
       "  <tbody>\n",
       "    <tr>\n",
       "      <th>0</th>\n",
       "      <td>AALERUD Katrine</td>\n",
       "      <td>AALERUD K</td>\n",
       "      <td>Female</td>\n",
       "      <td>12/4/1994</td>\n",
       "      <td>VESTBY</td>\n",
       "      <td>Norway</td>\n",
       "      <td>Norway</td>\n",
       "      <td>NOR</td>\n",
       "      <td>Cycling Road</td>\n",
       "      <td>CRD</td>\n",
       "      <td>NaN</td>\n",
       "      <td>NaN</td>\n",
       "      <td>NaN</td>\n",
       "      <td>../../../en/results/cycling-road/athlete-profi...</td>\n",
       "    </tr>\n",
       "    <tr>\n",
       "      <th>1</th>\n",
       "      <td>ABAD Nestor</td>\n",
       "      <td>ABAD N</td>\n",
       "      <td>Male</td>\n",
       "      <td>3/29/1993</td>\n",
       "      <td>ALCOI</td>\n",
       "      <td>Spain</td>\n",
       "      <td>Spain</td>\n",
       "      <td>ESP</td>\n",
       "      <td>Artistic Gymnastics</td>\n",
       "      <td>GAR</td>\n",
       "      <td>MADRID</td>\n",
       "      <td>Spain</td>\n",
       "      <td>1.65/5'4''</td>\n",
       "      <td>../../../en/results/artistic-gymnastics/athlet...</td>\n",
       "    </tr>\n",
       "    <tr>\n",
       "      <th>2</th>\n",
       "      <td>ABAGNALE Giovanni</td>\n",
       "      <td>ABAGNALE G</td>\n",
       "      <td>Male</td>\n",
       "      <td>1/11/1995</td>\n",
       "      <td>GRAGNANO</td>\n",
       "      <td>Italy</td>\n",
       "      <td>Italy</td>\n",
       "      <td>ITA</td>\n",
       "      <td>Rowing</td>\n",
       "      <td>ROW</td>\n",
       "      <td>SABAUDIA</td>\n",
       "      <td>Italy</td>\n",
       "      <td>1.98/6'5''</td>\n",
       "      <td>../../../en/results/rowing/athlete-profile-n13...</td>\n",
       "    </tr>\n",
       "    <tr>\n",
       "      <th>3</th>\n",
       "      <td>ABALDE Alberto</td>\n",
       "      <td>ABALDE A</td>\n",
       "      <td>Male</td>\n",
       "      <td>12/15/1995</td>\n",
       "      <td>FERROL</td>\n",
       "      <td>Spain</td>\n",
       "      <td>Spain</td>\n",
       "      <td>ESP</td>\n",
       "      <td>Basketball</td>\n",
       "      <td>BKB</td>\n",
       "      <td>NaN</td>\n",
       "      <td>NaN</td>\n",
       "      <td>2.00/6'6''</td>\n",
       "      <td>../../../en/results/basketball/athlete-profile...</td>\n",
       "    </tr>\n",
       "    <tr>\n",
       "      <th>4</th>\n",
       "      <td>ABALDE Tamara</td>\n",
       "      <td>ABALDE T</td>\n",
       "      <td>Female</td>\n",
       "      <td>2/6/1989</td>\n",
       "      <td>VIGO</td>\n",
       "      <td>Spain</td>\n",
       "      <td>Spain</td>\n",
       "      <td>ESP</td>\n",
       "      <td>Basketball</td>\n",
       "      <td>BKB</td>\n",
       "      <td>NaN</td>\n",
       "      <td>NaN</td>\n",
       "      <td>1.92/6'3''</td>\n",
       "      <td>../../../en/results/basketball/athlete-profile...</td>\n",
       "    </tr>\n",
       "  </tbody>\n",
       "</table>\n",
       "</div>"
      ],
      "text/plain": [
       "                name  short_name  gender  birth_date birth_place  \\\n",
       "0    AALERUD Katrine   AALERUD K  Female   12/4/1994      VESTBY   \n",
       "1        ABAD Nestor      ABAD N    Male   3/29/1993       ALCOI   \n",
       "2  ABAGNALE Giovanni  ABAGNALE G    Male   1/11/1995    GRAGNANO   \n",
       "3     ABALDE Alberto    ABALDE A    Male  12/15/1995      FERROL   \n",
       "4      ABALDE Tamara    ABALDE T  Female    2/6/1989        VIGO   \n",
       "\n",
       "  birth_country country country_code           discipline discipline_code  \\\n",
       "0        Norway  Norway          NOR         Cycling Road             CRD   \n",
       "1         Spain   Spain          ESP  Artistic Gymnastics             GAR   \n",
       "2         Italy   Italy          ITA               Rowing             ROW   \n",
       "3         Spain   Spain          ESP           Basketball             BKB   \n",
       "4         Spain   Spain          ESP           Basketball             BKB   \n",
       "\n",
       "  residence_place residence_country height_m/ft  \\\n",
       "0             NaN               NaN         NaN   \n",
       "1          MADRID             Spain  1.65/5'4''   \n",
       "2        SABAUDIA             Italy  1.98/6'5''   \n",
       "3             NaN               NaN  2.00/6'6''   \n",
       "4             NaN               NaN  1.92/6'3''   \n",
       "\n",
       "                                                 url  \n",
       "0  ../../../en/results/cycling-road/athlete-profi...  \n",
       "1  ../../../en/results/artistic-gymnastics/athlet...  \n",
       "2  ../../../en/results/rowing/athlete-profile-n13...  \n",
       "3  ../../../en/results/basketball/athlete-profile...  \n",
       "4  ../../../en/results/basketball/athlete-profile...  "
      ]
     },
     "execution_count": 31,
     "metadata": {},
     "output_type": "execute_result"
    }
   ],
   "source": [
    "df_a.head()"
   ]
  },
  {
   "cell_type": "markdown",
   "id": "d08583fe",
   "metadata": {},
   "source": [
    "**Dropping the URL Column due to not needed information**"
   ]
  },
  {
   "cell_type": "code",
   "execution_count": 32,
   "id": "e677fadb",
   "metadata": {},
   "outputs": [],
   "source": [
    "df_a.drop(columns='url',inplace=True)"
   ]
  },
  {
   "cell_type": "code",
   "execution_count": 33,
   "id": "200ef5c7",
   "metadata": {},
   "outputs": [
    {
     "data": {
      "text/html": [
       "<div>\n",
       "<style scoped>\n",
       "    .dataframe tbody tr th:only-of-type {\n",
       "        vertical-align: middle;\n",
       "    }\n",
       "\n",
       "    .dataframe tbody tr th {\n",
       "        vertical-align: top;\n",
       "    }\n",
       "\n",
       "    .dataframe thead th {\n",
       "        text-align: right;\n",
       "    }\n",
       "</style>\n",
       "<table border=\"1\" class=\"dataframe\">\n",
       "  <thead>\n",
       "    <tr style=\"text-align: right;\">\n",
       "      <th></th>\n",
       "      <th>name</th>\n",
       "      <th>short_name</th>\n",
       "      <th>gender</th>\n",
       "      <th>birth_date</th>\n",
       "      <th>birth_place</th>\n",
       "      <th>birth_country</th>\n",
       "      <th>country</th>\n",
       "      <th>country_code</th>\n",
       "      <th>discipline</th>\n",
       "      <th>discipline_code</th>\n",
       "      <th>residence_place</th>\n",
       "      <th>residence_country</th>\n",
       "      <th>height_m/ft</th>\n",
       "    </tr>\n",
       "  </thead>\n",
       "  <tbody>\n",
       "    <tr>\n",
       "      <th>0</th>\n",
       "      <td>AALERUD Katrine</td>\n",
       "      <td>AALERUD K</td>\n",
       "      <td>Female</td>\n",
       "      <td>12/4/1994</td>\n",
       "      <td>VESTBY</td>\n",
       "      <td>Norway</td>\n",
       "      <td>Norway</td>\n",
       "      <td>NOR</td>\n",
       "      <td>Cycling Road</td>\n",
       "      <td>CRD</td>\n",
       "      <td>NaN</td>\n",
       "      <td>NaN</td>\n",
       "      <td>NaN</td>\n",
       "    </tr>\n",
       "    <tr>\n",
       "      <th>1</th>\n",
       "      <td>ABAD Nestor</td>\n",
       "      <td>ABAD N</td>\n",
       "      <td>Male</td>\n",
       "      <td>3/29/1993</td>\n",
       "      <td>ALCOI</td>\n",
       "      <td>Spain</td>\n",
       "      <td>Spain</td>\n",
       "      <td>ESP</td>\n",
       "      <td>Artistic Gymnastics</td>\n",
       "      <td>GAR</td>\n",
       "      <td>MADRID</td>\n",
       "      <td>Spain</td>\n",
       "      <td>1.65/5'4''</td>\n",
       "    </tr>\n",
       "    <tr>\n",
       "      <th>2</th>\n",
       "      <td>ABAGNALE Giovanni</td>\n",
       "      <td>ABAGNALE G</td>\n",
       "      <td>Male</td>\n",
       "      <td>1/11/1995</td>\n",
       "      <td>GRAGNANO</td>\n",
       "      <td>Italy</td>\n",
       "      <td>Italy</td>\n",
       "      <td>ITA</td>\n",
       "      <td>Rowing</td>\n",
       "      <td>ROW</td>\n",
       "      <td>SABAUDIA</td>\n",
       "      <td>Italy</td>\n",
       "      <td>1.98/6'5''</td>\n",
       "    </tr>\n",
       "    <tr>\n",
       "      <th>3</th>\n",
       "      <td>ABALDE Alberto</td>\n",
       "      <td>ABALDE A</td>\n",
       "      <td>Male</td>\n",
       "      <td>12/15/1995</td>\n",
       "      <td>FERROL</td>\n",
       "      <td>Spain</td>\n",
       "      <td>Spain</td>\n",
       "      <td>ESP</td>\n",
       "      <td>Basketball</td>\n",
       "      <td>BKB</td>\n",
       "      <td>NaN</td>\n",
       "      <td>NaN</td>\n",
       "      <td>2.00/6'6''</td>\n",
       "    </tr>\n",
       "    <tr>\n",
       "      <th>4</th>\n",
       "      <td>ABALDE Tamara</td>\n",
       "      <td>ABALDE T</td>\n",
       "      <td>Female</td>\n",
       "      <td>2/6/1989</td>\n",
       "      <td>VIGO</td>\n",
       "      <td>Spain</td>\n",
       "      <td>Spain</td>\n",
       "      <td>ESP</td>\n",
       "      <td>Basketball</td>\n",
       "      <td>BKB</td>\n",
       "      <td>NaN</td>\n",
       "      <td>NaN</td>\n",
       "      <td>1.92/6'3''</td>\n",
       "    </tr>\n",
       "  </tbody>\n",
       "</table>\n",
       "</div>"
      ],
      "text/plain": [
       "                name  short_name  gender  birth_date birth_place  \\\n",
       "0    AALERUD Katrine   AALERUD K  Female   12/4/1994      VESTBY   \n",
       "1        ABAD Nestor      ABAD N    Male   3/29/1993       ALCOI   \n",
       "2  ABAGNALE Giovanni  ABAGNALE G    Male   1/11/1995    GRAGNANO   \n",
       "3     ABALDE Alberto    ABALDE A    Male  12/15/1995      FERROL   \n",
       "4      ABALDE Tamara    ABALDE T  Female    2/6/1989        VIGO   \n",
       "\n",
       "  birth_country country country_code           discipline discipline_code  \\\n",
       "0        Norway  Norway          NOR         Cycling Road             CRD   \n",
       "1         Spain   Spain          ESP  Artistic Gymnastics             GAR   \n",
       "2         Italy   Italy          ITA               Rowing             ROW   \n",
       "3         Spain   Spain          ESP           Basketball             BKB   \n",
       "4         Spain   Spain          ESP           Basketball             BKB   \n",
       "\n",
       "  residence_place residence_country height_m/ft  \n",
       "0             NaN               NaN         NaN  \n",
       "1          MADRID             Spain  1.65/5'4''  \n",
       "2        SABAUDIA             Italy  1.98/6'5''  \n",
       "3             NaN               NaN  2.00/6'6''  \n",
       "4             NaN               NaN  1.92/6'3''  "
      ]
     },
     "execution_count": 33,
     "metadata": {},
     "output_type": "execute_result"
    }
   ],
   "source": [
    "df_a.head()"
   ]
  },
  {
   "cell_type": "markdown",
   "id": "0152808a",
   "metadata": {},
   "source": [
    "**Dropping residence_place,residence_country,short_name,birth_place,birth_country,country_code,discipline_code due to redundent info or not used data.**"
   ]
  },
  {
   "cell_type": "code",
   "execution_count": 34,
   "id": "40e4d4b8",
   "metadata": {},
   "outputs": [],
   "source": [
    "df_a.drop(columns=['residence_place','residence_country','short_name','birth_place','birth_country',\\\n",
    "                   'country_code','discipline_code'],inplace = True)"
   ]
  },
  {
   "cell_type": "code",
   "execution_count": 35,
   "id": "c52970ce",
   "metadata": {},
   "outputs": [
    {
     "data": {
      "text/html": [
       "<div>\n",
       "<style scoped>\n",
       "    .dataframe tbody tr th:only-of-type {\n",
       "        vertical-align: middle;\n",
       "    }\n",
       "\n",
       "    .dataframe tbody tr th {\n",
       "        vertical-align: top;\n",
       "    }\n",
       "\n",
       "    .dataframe thead th {\n",
       "        text-align: right;\n",
       "    }\n",
       "</style>\n",
       "<table border=\"1\" class=\"dataframe\">\n",
       "  <thead>\n",
       "    <tr style=\"text-align: right;\">\n",
       "      <th></th>\n",
       "      <th>name</th>\n",
       "      <th>gender</th>\n",
       "      <th>birth_date</th>\n",
       "      <th>country</th>\n",
       "      <th>discipline</th>\n",
       "      <th>height_m/ft</th>\n",
       "    </tr>\n",
       "  </thead>\n",
       "  <tbody>\n",
       "    <tr>\n",
       "      <th>0</th>\n",
       "      <td>AALERUD Katrine</td>\n",
       "      <td>Female</td>\n",
       "      <td>12/4/1994</td>\n",
       "      <td>Norway</td>\n",
       "      <td>Cycling Road</td>\n",
       "      <td>NaN</td>\n",
       "    </tr>\n",
       "    <tr>\n",
       "      <th>1</th>\n",
       "      <td>ABAD Nestor</td>\n",
       "      <td>Male</td>\n",
       "      <td>3/29/1993</td>\n",
       "      <td>Spain</td>\n",
       "      <td>Artistic Gymnastics</td>\n",
       "      <td>1.65/5'4''</td>\n",
       "    </tr>\n",
       "    <tr>\n",
       "      <th>2</th>\n",
       "      <td>ABAGNALE Giovanni</td>\n",
       "      <td>Male</td>\n",
       "      <td>1/11/1995</td>\n",
       "      <td>Italy</td>\n",
       "      <td>Rowing</td>\n",
       "      <td>1.98/6'5''</td>\n",
       "    </tr>\n",
       "    <tr>\n",
       "      <th>3</th>\n",
       "      <td>ABALDE Alberto</td>\n",
       "      <td>Male</td>\n",
       "      <td>12/15/1995</td>\n",
       "      <td>Spain</td>\n",
       "      <td>Basketball</td>\n",
       "      <td>2.00/6'6''</td>\n",
       "    </tr>\n",
       "    <tr>\n",
       "      <th>4</th>\n",
       "      <td>ABALDE Tamara</td>\n",
       "      <td>Female</td>\n",
       "      <td>2/6/1989</td>\n",
       "      <td>Spain</td>\n",
       "      <td>Basketball</td>\n",
       "      <td>1.92/6'3''</td>\n",
       "    </tr>\n",
       "  </tbody>\n",
       "</table>\n",
       "</div>"
      ],
      "text/plain": [
       "                name  gender  birth_date country           discipline  \\\n",
       "0    AALERUD Katrine  Female   12/4/1994  Norway         Cycling Road   \n",
       "1        ABAD Nestor    Male   3/29/1993   Spain  Artistic Gymnastics   \n",
       "2  ABAGNALE Giovanni    Male   1/11/1995   Italy               Rowing   \n",
       "3     ABALDE Alberto    Male  12/15/1995   Spain           Basketball   \n",
       "4      ABALDE Tamara  Female    2/6/1989   Spain           Basketball   \n",
       "\n",
       "  height_m/ft  \n",
       "0         NaN  \n",
       "1  1.65/5'4''  \n",
       "2  1.98/6'5''  \n",
       "3  2.00/6'6''  \n",
       "4  1.92/6'3''  "
      ]
     },
     "execution_count": 35,
     "metadata": {},
     "output_type": "execute_result"
    }
   ],
   "source": [
    "df_a.head()"
   ]
  },
  {
   "cell_type": "markdown",
   "id": "d8cf77cf",
   "metadata": {},
   "source": [
    "**Convert the BirthDate into Age**"
   ]
  },
  {
   "cell_type": "code",
   "execution_count": 36,
   "id": "39037681",
   "metadata": {},
   "outputs": [],
   "source": [
    "from datetime import datetime,date"
   ]
  },
  {
   "cell_type": "code",
   "execution_count": 37,
   "id": "bb953631",
   "metadata": {},
   "outputs": [],
   "source": [
    "df_a['DateTime'] = pd.to_datetime(df_a.birth_date)"
   ]
  },
  {
   "cell_type": "code",
   "execution_count": 38,
   "id": "9c4a11fc",
   "metadata": {},
   "outputs": [
    {
     "data": {
      "text/html": [
       "<div>\n",
       "<style scoped>\n",
       "    .dataframe tbody tr th:only-of-type {\n",
       "        vertical-align: middle;\n",
       "    }\n",
       "\n",
       "    .dataframe tbody tr th {\n",
       "        vertical-align: top;\n",
       "    }\n",
       "\n",
       "    .dataframe thead th {\n",
       "        text-align: right;\n",
       "    }\n",
       "</style>\n",
       "<table border=\"1\" class=\"dataframe\">\n",
       "  <thead>\n",
       "    <tr style=\"text-align: right;\">\n",
       "      <th></th>\n",
       "      <th>name</th>\n",
       "      <th>gender</th>\n",
       "      <th>birth_date</th>\n",
       "      <th>country</th>\n",
       "      <th>discipline</th>\n",
       "      <th>height_m/ft</th>\n",
       "      <th>DateTime</th>\n",
       "    </tr>\n",
       "  </thead>\n",
       "  <tbody>\n",
       "    <tr>\n",
       "      <th>0</th>\n",
       "      <td>AALERUD Katrine</td>\n",
       "      <td>Female</td>\n",
       "      <td>12/4/1994</td>\n",
       "      <td>Norway</td>\n",
       "      <td>Cycling Road</td>\n",
       "      <td>NaN</td>\n",
       "      <td>1994-12-04</td>\n",
       "    </tr>\n",
       "    <tr>\n",
       "      <th>1</th>\n",
       "      <td>ABAD Nestor</td>\n",
       "      <td>Male</td>\n",
       "      <td>3/29/1993</td>\n",
       "      <td>Spain</td>\n",
       "      <td>Artistic Gymnastics</td>\n",
       "      <td>1.65/5'4''</td>\n",
       "      <td>1993-03-29</td>\n",
       "    </tr>\n",
       "    <tr>\n",
       "      <th>2</th>\n",
       "      <td>ABAGNALE Giovanni</td>\n",
       "      <td>Male</td>\n",
       "      <td>1/11/1995</td>\n",
       "      <td>Italy</td>\n",
       "      <td>Rowing</td>\n",
       "      <td>1.98/6'5''</td>\n",
       "      <td>1995-01-11</td>\n",
       "    </tr>\n",
       "    <tr>\n",
       "      <th>3</th>\n",
       "      <td>ABALDE Alberto</td>\n",
       "      <td>Male</td>\n",
       "      <td>12/15/1995</td>\n",
       "      <td>Spain</td>\n",
       "      <td>Basketball</td>\n",
       "      <td>2.00/6'6''</td>\n",
       "      <td>1995-12-15</td>\n",
       "    </tr>\n",
       "    <tr>\n",
       "      <th>4</th>\n",
       "      <td>ABALDE Tamara</td>\n",
       "      <td>Female</td>\n",
       "      <td>2/6/1989</td>\n",
       "      <td>Spain</td>\n",
       "      <td>Basketball</td>\n",
       "      <td>1.92/6'3''</td>\n",
       "      <td>1989-02-06</td>\n",
       "    </tr>\n",
       "  </tbody>\n",
       "</table>\n",
       "</div>"
      ],
      "text/plain": [
       "                name  gender  birth_date country           discipline  \\\n",
       "0    AALERUD Katrine  Female   12/4/1994  Norway         Cycling Road   \n",
       "1        ABAD Nestor    Male   3/29/1993   Spain  Artistic Gymnastics   \n",
       "2  ABAGNALE Giovanni    Male   1/11/1995   Italy               Rowing   \n",
       "3     ABALDE Alberto    Male  12/15/1995   Spain           Basketball   \n",
       "4      ABALDE Tamara  Female    2/6/1989   Spain           Basketball   \n",
       "\n",
       "  height_m/ft   DateTime  \n",
       "0         NaN 1994-12-04  \n",
       "1  1.65/5'4'' 1993-03-29  \n",
       "2  1.98/6'5'' 1995-01-11  \n",
       "3  2.00/6'6'' 1995-12-15  \n",
       "4  1.92/6'3'' 1989-02-06  "
      ]
     },
     "execution_count": 38,
     "metadata": {},
     "output_type": "execute_result"
    }
   ],
   "source": [
    "df_a.head()"
   ]
  },
  {
   "cell_type": "markdown",
   "id": "c928e43c",
   "metadata": {},
   "source": [
    "**Create function to change from datetime to age:**"
   ]
  },
  {
   "cell_type": "code",
   "execution_count": 39,
   "id": "6dabfc74",
   "metadata": {},
   "outputs": [],
   "source": [
    "def from_dob_to_age(born):\n",
    "    oday = datetime.strptime('2021 Jul 23', '%Y %b %d')\n",
    "    return oday.year - born.year - ((oday.month, oday.day) < (born.month, born.day))"
   ]
  },
  {
   "cell_type": "markdown",
   "id": "820558ec",
   "metadata": {},
   "source": [
    "**Create Dummy Column for Age**"
   ]
  },
  {
   "cell_type": "code",
   "execution_count": 40,
   "id": "047f2c4e",
   "metadata": {},
   "outputs": [],
   "source": [
    "df_a['Age'] = df_a['DateTime'].apply(lambda x: from_dob_to_age(x))"
   ]
  },
  {
   "cell_type": "code",
   "execution_count": 41,
   "id": "eb5aa58e",
   "metadata": {},
   "outputs": [
    {
     "data": {
      "text/html": [
       "<div>\n",
       "<style scoped>\n",
       "    .dataframe tbody tr th:only-of-type {\n",
       "        vertical-align: middle;\n",
       "    }\n",
       "\n",
       "    .dataframe tbody tr th {\n",
       "        vertical-align: top;\n",
       "    }\n",
       "\n",
       "    .dataframe thead th {\n",
       "        text-align: right;\n",
       "    }\n",
       "</style>\n",
       "<table border=\"1\" class=\"dataframe\">\n",
       "  <thead>\n",
       "    <tr style=\"text-align: right;\">\n",
       "      <th></th>\n",
       "      <th>name</th>\n",
       "      <th>gender</th>\n",
       "      <th>birth_date</th>\n",
       "      <th>country</th>\n",
       "      <th>discipline</th>\n",
       "      <th>height_m/ft</th>\n",
       "      <th>DateTime</th>\n",
       "      <th>Age</th>\n",
       "    </tr>\n",
       "  </thead>\n",
       "  <tbody>\n",
       "    <tr>\n",
       "      <th>0</th>\n",
       "      <td>AALERUD Katrine</td>\n",
       "      <td>Female</td>\n",
       "      <td>12/4/1994</td>\n",
       "      <td>Norway</td>\n",
       "      <td>Cycling Road</td>\n",
       "      <td>NaN</td>\n",
       "      <td>1994-12-04</td>\n",
       "      <td>26.0</td>\n",
       "    </tr>\n",
       "    <tr>\n",
       "      <th>1</th>\n",
       "      <td>ABAD Nestor</td>\n",
       "      <td>Male</td>\n",
       "      <td>3/29/1993</td>\n",
       "      <td>Spain</td>\n",
       "      <td>Artistic Gymnastics</td>\n",
       "      <td>1.65/5'4''</td>\n",
       "      <td>1993-03-29</td>\n",
       "      <td>28.0</td>\n",
       "    </tr>\n",
       "    <tr>\n",
       "      <th>2</th>\n",
       "      <td>ABAGNALE Giovanni</td>\n",
       "      <td>Male</td>\n",
       "      <td>1/11/1995</td>\n",
       "      <td>Italy</td>\n",
       "      <td>Rowing</td>\n",
       "      <td>1.98/6'5''</td>\n",
       "      <td>1995-01-11</td>\n",
       "      <td>26.0</td>\n",
       "    </tr>\n",
       "    <tr>\n",
       "      <th>3</th>\n",
       "      <td>ABALDE Alberto</td>\n",
       "      <td>Male</td>\n",
       "      <td>12/15/1995</td>\n",
       "      <td>Spain</td>\n",
       "      <td>Basketball</td>\n",
       "      <td>2.00/6'6''</td>\n",
       "      <td>1995-12-15</td>\n",
       "      <td>25.0</td>\n",
       "    </tr>\n",
       "    <tr>\n",
       "      <th>4</th>\n",
       "      <td>ABALDE Tamara</td>\n",
       "      <td>Female</td>\n",
       "      <td>2/6/1989</td>\n",
       "      <td>Spain</td>\n",
       "      <td>Basketball</td>\n",
       "      <td>1.92/6'3''</td>\n",
       "      <td>1989-02-06</td>\n",
       "      <td>32.0</td>\n",
       "    </tr>\n",
       "  </tbody>\n",
       "</table>\n",
       "</div>"
      ],
      "text/plain": [
       "                name  gender  birth_date country           discipline  \\\n",
       "0    AALERUD Katrine  Female   12/4/1994  Norway         Cycling Road   \n",
       "1        ABAD Nestor    Male   3/29/1993   Spain  Artistic Gymnastics   \n",
       "2  ABAGNALE Giovanni    Male   1/11/1995   Italy               Rowing   \n",
       "3     ABALDE Alberto    Male  12/15/1995   Spain           Basketball   \n",
       "4      ABALDE Tamara  Female    2/6/1989   Spain           Basketball   \n",
       "\n",
       "  height_m/ft   DateTime   Age  \n",
       "0         NaN 1994-12-04  26.0  \n",
       "1  1.65/5'4'' 1993-03-29  28.0  \n",
       "2  1.98/6'5'' 1995-01-11  26.0  \n",
       "3  2.00/6'6'' 1995-12-15  25.0  \n",
       "4  1.92/6'3'' 1989-02-06  32.0  "
      ]
     },
     "execution_count": 41,
     "metadata": {},
     "output_type": "execute_result"
    }
   ],
   "source": [
    "df_a.head()"
   ]
  },
  {
   "cell_type": "code",
   "execution_count": 42,
   "id": "36dc964f",
   "metadata": {},
   "outputs": [],
   "source": [
    "df_a.drop(columns='DateTime',inplace=True)"
   ]
  },
  {
   "cell_type": "code",
   "execution_count": 43,
   "id": "5779ed54",
   "metadata": {},
   "outputs": [
    {
     "data": {
      "text/html": [
       "<div>\n",
       "<style scoped>\n",
       "    .dataframe tbody tr th:only-of-type {\n",
       "        vertical-align: middle;\n",
       "    }\n",
       "\n",
       "    .dataframe tbody tr th {\n",
       "        vertical-align: top;\n",
       "    }\n",
       "\n",
       "    .dataframe thead th {\n",
       "        text-align: right;\n",
       "    }\n",
       "</style>\n",
       "<table border=\"1\" class=\"dataframe\">\n",
       "  <thead>\n",
       "    <tr style=\"text-align: right;\">\n",
       "      <th></th>\n",
       "      <th>name</th>\n",
       "      <th>gender</th>\n",
       "      <th>birth_date</th>\n",
       "      <th>country</th>\n",
       "      <th>discipline</th>\n",
       "      <th>height_m/ft</th>\n",
       "      <th>Age</th>\n",
       "    </tr>\n",
       "  </thead>\n",
       "  <tbody>\n",
       "    <tr>\n",
       "      <th>0</th>\n",
       "      <td>AALERUD Katrine</td>\n",
       "      <td>Female</td>\n",
       "      <td>12/4/1994</td>\n",
       "      <td>Norway</td>\n",
       "      <td>Cycling Road</td>\n",
       "      <td>NaN</td>\n",
       "      <td>26.0</td>\n",
       "    </tr>\n",
       "    <tr>\n",
       "      <th>1</th>\n",
       "      <td>ABAD Nestor</td>\n",
       "      <td>Male</td>\n",
       "      <td>3/29/1993</td>\n",
       "      <td>Spain</td>\n",
       "      <td>Artistic Gymnastics</td>\n",
       "      <td>1.65/5'4''</td>\n",
       "      <td>28.0</td>\n",
       "    </tr>\n",
       "    <tr>\n",
       "      <th>2</th>\n",
       "      <td>ABAGNALE Giovanni</td>\n",
       "      <td>Male</td>\n",
       "      <td>1/11/1995</td>\n",
       "      <td>Italy</td>\n",
       "      <td>Rowing</td>\n",
       "      <td>1.98/6'5''</td>\n",
       "      <td>26.0</td>\n",
       "    </tr>\n",
       "    <tr>\n",
       "      <th>3</th>\n",
       "      <td>ABALDE Alberto</td>\n",
       "      <td>Male</td>\n",
       "      <td>12/15/1995</td>\n",
       "      <td>Spain</td>\n",
       "      <td>Basketball</td>\n",
       "      <td>2.00/6'6''</td>\n",
       "      <td>25.0</td>\n",
       "    </tr>\n",
       "    <tr>\n",
       "      <th>4</th>\n",
       "      <td>ABALDE Tamara</td>\n",
       "      <td>Female</td>\n",
       "      <td>2/6/1989</td>\n",
       "      <td>Spain</td>\n",
       "      <td>Basketball</td>\n",
       "      <td>1.92/6'3''</td>\n",
       "      <td>32.0</td>\n",
       "    </tr>\n",
       "  </tbody>\n",
       "</table>\n",
       "</div>"
      ],
      "text/plain": [
       "                name  gender  birth_date country           discipline  \\\n",
       "0    AALERUD Katrine  Female   12/4/1994  Norway         Cycling Road   \n",
       "1        ABAD Nestor    Male   3/29/1993   Spain  Artistic Gymnastics   \n",
       "2  ABAGNALE Giovanni    Male   1/11/1995   Italy               Rowing   \n",
       "3     ABALDE Alberto    Male  12/15/1995   Spain           Basketball   \n",
       "4      ABALDE Tamara  Female    2/6/1989   Spain           Basketball   \n",
       "\n",
       "  height_m/ft   Age  \n",
       "0         NaN  26.0  \n",
       "1  1.65/5'4''  28.0  \n",
       "2  1.98/6'5''  26.0  \n",
       "3  2.00/6'6''  25.0  \n",
       "4  1.92/6'3''  32.0  "
      ]
     },
     "execution_count": 43,
     "metadata": {},
     "output_type": "execute_result"
    }
   ],
   "source": [
    "df_a.head()"
   ]
  },
  {
   "cell_type": "markdown",
   "id": "fa4c9e6d",
   "metadata": {},
   "source": [
    "**Only produce height in feet**"
   ]
  },
  {
   "cell_type": "markdown",
   "id": "dd8c4978",
   "metadata": {},
   "source": [
    "**Rename the Height column to remove the '/'**"
   ]
  },
  {
   "cell_type": "code",
   "execution_count": 44,
   "id": "03f30933",
   "metadata": {},
   "outputs": [],
   "source": [
    "df_a.rename(columns ={'height_m/ft':'height_m_ft'},inplace=True)"
   ]
  },
  {
   "cell_type": "code",
   "execution_count": 45,
   "id": "1dec4d82",
   "metadata": {},
   "outputs": [
    {
     "data": {
      "text/html": [
       "<div>\n",
       "<style scoped>\n",
       "    .dataframe tbody tr th:only-of-type {\n",
       "        vertical-align: middle;\n",
       "    }\n",
       "\n",
       "    .dataframe tbody tr th {\n",
       "        vertical-align: top;\n",
       "    }\n",
       "\n",
       "    .dataframe thead th {\n",
       "        text-align: right;\n",
       "    }\n",
       "</style>\n",
       "<table border=\"1\" class=\"dataframe\">\n",
       "  <thead>\n",
       "    <tr style=\"text-align: right;\">\n",
       "      <th></th>\n",
       "      <th>name</th>\n",
       "      <th>gender</th>\n",
       "      <th>birth_date</th>\n",
       "      <th>country</th>\n",
       "      <th>discipline</th>\n",
       "      <th>height_m_ft</th>\n",
       "      <th>Age</th>\n",
       "    </tr>\n",
       "  </thead>\n",
       "  <tbody>\n",
       "    <tr>\n",
       "      <th>0</th>\n",
       "      <td>AALERUD Katrine</td>\n",
       "      <td>Female</td>\n",
       "      <td>12/4/1994</td>\n",
       "      <td>Norway</td>\n",
       "      <td>Cycling Road</td>\n",
       "      <td>NaN</td>\n",
       "      <td>26.0</td>\n",
       "    </tr>\n",
       "  </tbody>\n",
       "</table>\n",
       "</div>"
      ],
      "text/plain": [
       "              name  gender birth_date country    discipline height_m_ft   Age\n",
       "0  AALERUD Katrine  Female  12/4/1994  Norway  Cycling Road         NaN  26.0"
      ]
     },
     "execution_count": 45,
     "metadata": {},
     "output_type": "execute_result"
    }
   ],
   "source": [
    "df_a.head(1)"
   ]
  },
  {
   "cell_type": "code",
   "execution_count": 46,
   "id": "efa11bbf",
   "metadata": {},
   "outputs": [
    {
     "data": {
      "text/plain": [
       "0               NaN\n",
       "1        1.65/5'4''\n",
       "2        1.98/6'5''\n",
       "3        2.00/6'6''\n",
       "4        1.92/6'3''\n",
       "            ...    \n",
       "11651    1.76/5'9''\n",
       "11652           NaN\n",
       "11653           NaN\n",
       "11654           NaN\n",
       "11655           NaN\n",
       "Name: height_m_ft, Length: 11656, dtype: object"
      ]
     },
     "execution_count": 46,
     "metadata": {},
     "output_type": "execute_result"
    }
   ],
   "source": [
    "df_a.height_m_ft"
   ]
  },
  {
   "cell_type": "markdown",
   "id": "4a455e2c",
   "metadata": {},
   "source": [
    "#### Split the original string into two parts and then take the index at 1. "
   ]
  },
  {
   "cell_type": "code",
   "execution_count": 47,
   "id": "262c1e8f",
   "metadata": {},
   "outputs": [],
   "source": [
    "df_a['height_feet'] = df_a['height_m_ft'].str.split('/').str[1]"
   ]
  },
  {
   "cell_type": "code",
   "execution_count": 48,
   "id": "f0f6a31f",
   "metadata": {},
   "outputs": [
    {
     "data": {
      "text/html": [
       "<div>\n",
       "<style scoped>\n",
       "    .dataframe tbody tr th:only-of-type {\n",
       "        vertical-align: middle;\n",
       "    }\n",
       "\n",
       "    .dataframe tbody tr th {\n",
       "        vertical-align: top;\n",
       "    }\n",
       "\n",
       "    .dataframe thead th {\n",
       "        text-align: right;\n",
       "    }\n",
       "</style>\n",
       "<table border=\"1\" class=\"dataframe\">\n",
       "  <thead>\n",
       "    <tr style=\"text-align: right;\">\n",
       "      <th></th>\n",
       "      <th>name</th>\n",
       "      <th>gender</th>\n",
       "      <th>birth_date</th>\n",
       "      <th>country</th>\n",
       "      <th>discipline</th>\n",
       "      <th>height_m_ft</th>\n",
       "      <th>Age</th>\n",
       "      <th>height_feet</th>\n",
       "    </tr>\n",
       "  </thead>\n",
       "  <tbody>\n",
       "    <tr>\n",
       "      <th>0</th>\n",
       "      <td>AALERUD Katrine</td>\n",
       "      <td>Female</td>\n",
       "      <td>12/4/1994</td>\n",
       "      <td>Norway</td>\n",
       "      <td>Cycling Road</td>\n",
       "      <td>NaN</td>\n",
       "      <td>26.0</td>\n",
       "      <td>NaN</td>\n",
       "    </tr>\n",
       "    <tr>\n",
       "      <th>1</th>\n",
       "      <td>ABAD Nestor</td>\n",
       "      <td>Male</td>\n",
       "      <td>3/29/1993</td>\n",
       "      <td>Spain</td>\n",
       "      <td>Artistic Gymnastics</td>\n",
       "      <td>1.65/5'4''</td>\n",
       "      <td>28.0</td>\n",
       "      <td>5'4''</td>\n",
       "    </tr>\n",
       "    <tr>\n",
       "      <th>2</th>\n",
       "      <td>ABAGNALE Giovanni</td>\n",
       "      <td>Male</td>\n",
       "      <td>1/11/1995</td>\n",
       "      <td>Italy</td>\n",
       "      <td>Rowing</td>\n",
       "      <td>1.98/6'5''</td>\n",
       "      <td>26.0</td>\n",
       "      <td>6'5''</td>\n",
       "    </tr>\n",
       "    <tr>\n",
       "      <th>3</th>\n",
       "      <td>ABALDE Alberto</td>\n",
       "      <td>Male</td>\n",
       "      <td>12/15/1995</td>\n",
       "      <td>Spain</td>\n",
       "      <td>Basketball</td>\n",
       "      <td>2.00/6'6''</td>\n",
       "      <td>25.0</td>\n",
       "      <td>6'6''</td>\n",
       "    </tr>\n",
       "    <tr>\n",
       "      <th>4</th>\n",
       "      <td>ABALDE Tamara</td>\n",
       "      <td>Female</td>\n",
       "      <td>2/6/1989</td>\n",
       "      <td>Spain</td>\n",
       "      <td>Basketball</td>\n",
       "      <td>1.92/6'3''</td>\n",
       "      <td>32.0</td>\n",
       "      <td>6'3''</td>\n",
       "    </tr>\n",
       "  </tbody>\n",
       "</table>\n",
       "</div>"
      ],
      "text/plain": [
       "                name  gender  birth_date country           discipline  \\\n",
       "0    AALERUD Katrine  Female   12/4/1994  Norway         Cycling Road   \n",
       "1        ABAD Nestor    Male   3/29/1993   Spain  Artistic Gymnastics   \n",
       "2  ABAGNALE Giovanni    Male   1/11/1995   Italy               Rowing   \n",
       "3     ABALDE Alberto    Male  12/15/1995   Spain           Basketball   \n",
       "4      ABALDE Tamara  Female    2/6/1989   Spain           Basketball   \n",
       "\n",
       "  height_m_ft   Age height_feet  \n",
       "0         NaN  26.0         NaN  \n",
       "1  1.65/5'4''  28.0       5'4''  \n",
       "2  1.98/6'5''  26.0       6'5''  \n",
       "3  2.00/6'6''  25.0       6'6''  \n",
       "4  1.92/6'3''  32.0       6'3''  "
      ]
     },
     "execution_count": 48,
     "metadata": {},
     "output_type": "execute_result"
    }
   ],
   "source": [
    "df_a.head()"
   ]
  },
  {
   "cell_type": "markdown",
   "id": "ccc21dbe",
   "metadata": {},
   "source": [
    "**Replace all NaN values with Unknown**"
   ]
  },
  {
   "cell_type": "code",
   "execution_count": 49,
   "id": "aa9c2e7c",
   "metadata": {},
   "outputs": [
    {
     "data": {
      "text/plain": [
       "name              0\n",
       "gender          159\n",
       "birth_date      159\n",
       "country           0\n",
       "discipline      159\n",
       "height_m_ft    7001\n",
       "Age             159\n",
       "height_feet    7001\n",
       "dtype: int64"
      ]
     },
     "execution_count": 49,
     "metadata": {},
     "output_type": "execute_result"
    }
   ],
   "source": [
    "df_a.isna().sum()"
   ]
  },
  {
   "cell_type": "code",
   "execution_count": 50,
   "id": "4a787e4d",
   "metadata": {},
   "outputs": [],
   "source": [
    "df_a.fillna(\"Unknown\",inplace=True)"
   ]
  },
  {
   "cell_type": "code",
   "execution_count": 51,
   "id": "40bcf0fd",
   "metadata": {},
   "outputs": [
    {
     "data": {
      "text/plain": [
       "name           0\n",
       "gender         0\n",
       "birth_date     0\n",
       "country        0\n",
       "discipline     0\n",
       "height_m_ft    0\n",
       "Age            0\n",
       "height_feet    0\n",
       "dtype: int64"
      ]
     },
     "execution_count": 51,
     "metadata": {},
     "output_type": "execute_result"
    }
   ],
   "source": [
    "df_a.isna().sum()"
   ]
  },
  {
   "cell_type": "code",
   "execution_count": 52,
   "id": "c0595926",
   "metadata": {},
   "outputs": [
    {
     "data": {
      "text/html": [
       "<div>\n",
       "<style scoped>\n",
       "    .dataframe tbody tr th:only-of-type {\n",
       "        vertical-align: middle;\n",
       "    }\n",
       "\n",
       "    .dataframe tbody tr th {\n",
       "        vertical-align: top;\n",
       "    }\n",
       "\n",
       "    .dataframe thead th {\n",
       "        text-align: right;\n",
       "    }\n",
       "</style>\n",
       "<table border=\"1\" class=\"dataframe\">\n",
       "  <thead>\n",
       "    <tr style=\"text-align: right;\">\n",
       "      <th></th>\n",
       "      <th>name</th>\n",
       "      <th>gender</th>\n",
       "      <th>birth_date</th>\n",
       "      <th>country</th>\n",
       "      <th>discipline</th>\n",
       "      <th>height_m_ft</th>\n",
       "      <th>Age</th>\n",
       "      <th>height_feet</th>\n",
       "    </tr>\n",
       "  </thead>\n",
       "  <tbody>\n",
       "    <tr>\n",
       "      <th>0</th>\n",
       "      <td>AALERUD Katrine</td>\n",
       "      <td>Female</td>\n",
       "      <td>12/4/1994</td>\n",
       "      <td>Norway</td>\n",
       "      <td>Cycling Road</td>\n",
       "      <td>Unknown</td>\n",
       "      <td>26.0</td>\n",
       "      <td>Unknown</td>\n",
       "    </tr>\n",
       "    <tr>\n",
       "      <th>1</th>\n",
       "      <td>ABAD Nestor</td>\n",
       "      <td>Male</td>\n",
       "      <td>3/29/1993</td>\n",
       "      <td>Spain</td>\n",
       "      <td>Artistic Gymnastics</td>\n",
       "      <td>1.65/5'4''</td>\n",
       "      <td>28.0</td>\n",
       "      <td>5'4''</td>\n",
       "    </tr>\n",
       "    <tr>\n",
       "      <th>2</th>\n",
       "      <td>ABAGNALE Giovanni</td>\n",
       "      <td>Male</td>\n",
       "      <td>1/11/1995</td>\n",
       "      <td>Italy</td>\n",
       "      <td>Rowing</td>\n",
       "      <td>1.98/6'5''</td>\n",
       "      <td>26.0</td>\n",
       "      <td>6'5''</td>\n",
       "    </tr>\n",
       "    <tr>\n",
       "      <th>3</th>\n",
       "      <td>ABALDE Alberto</td>\n",
       "      <td>Male</td>\n",
       "      <td>12/15/1995</td>\n",
       "      <td>Spain</td>\n",
       "      <td>Basketball</td>\n",
       "      <td>2.00/6'6''</td>\n",
       "      <td>25.0</td>\n",
       "      <td>6'6''</td>\n",
       "    </tr>\n",
       "    <tr>\n",
       "      <th>4</th>\n",
       "      <td>ABALDE Tamara</td>\n",
       "      <td>Female</td>\n",
       "      <td>2/6/1989</td>\n",
       "      <td>Spain</td>\n",
       "      <td>Basketball</td>\n",
       "      <td>1.92/6'3''</td>\n",
       "      <td>32.0</td>\n",
       "      <td>6'3''</td>\n",
       "    </tr>\n",
       "  </tbody>\n",
       "</table>\n",
       "</div>"
      ],
      "text/plain": [
       "                name  gender  birth_date country           discipline  \\\n",
       "0    AALERUD Katrine  Female   12/4/1994  Norway         Cycling Road   \n",
       "1        ABAD Nestor    Male   3/29/1993   Spain  Artistic Gymnastics   \n",
       "2  ABAGNALE Giovanni    Male   1/11/1995   Italy               Rowing   \n",
       "3     ABALDE Alberto    Male  12/15/1995   Spain           Basketball   \n",
       "4      ABALDE Tamara  Female    2/6/1989   Spain           Basketball   \n",
       "\n",
       "  height_m_ft   Age height_feet  \n",
       "0     Unknown  26.0     Unknown  \n",
       "1  1.65/5'4''  28.0       5'4''  \n",
       "2  1.98/6'5''  26.0       6'5''  \n",
       "3  2.00/6'6''  25.0       6'6''  \n",
       "4  1.92/6'3''  32.0       6'3''  "
      ]
     },
     "execution_count": 52,
     "metadata": {},
     "output_type": "execute_result"
    }
   ],
   "source": [
    "df_a.head()"
   ]
  },
  {
   "cell_type": "markdown",
   "id": "14448a75",
   "metadata": {},
   "source": [
    "### Cleaning the GDP.csv"
   ]
  },
  {
   "cell_type": "markdown",
   "id": "b7dbca87",
   "metadata": {},
   "source": [
    "#### Cleaning the dataset for GDP included rounding to two decimal places for accuracy, removing any space in header column names and removing NaN values"
   ]
  },
  {
   "cell_type": "code",
   "execution_count": 53,
   "id": "3243a262",
   "metadata": {},
   "outputs": [
    {
     "data": {
      "text/html": [
       "<div>\n",
       "<style scoped>\n",
       "    .dataframe tbody tr th:only-of-type {\n",
       "        vertical-align: middle;\n",
       "    }\n",
       "\n",
       "    .dataframe tbody tr th {\n",
       "        vertical-align: top;\n",
       "    }\n",
       "\n",
       "    .dataframe thead th {\n",
       "        text-align: right;\n",
       "    }\n",
       "</style>\n",
       "<table border=\"1\" class=\"dataframe\">\n",
       "  <thead>\n",
       "    <tr style=\"text-align: right;\">\n",
       "      <th></th>\n",
       "      <th>Country</th>\n",
       "      <th>Country Code</th>\n",
       "      <th>1990</th>\n",
       "      <th>1991</th>\n",
       "      <th>1992</th>\n",
       "      <th>1993</th>\n",
       "      <th>1994</th>\n",
       "      <th>1995</th>\n",
       "      <th>1996</th>\n",
       "      <th>1997</th>\n",
       "      <th>...</th>\n",
       "      <th>2010</th>\n",
       "      <th>2011</th>\n",
       "      <th>2012</th>\n",
       "      <th>2013</th>\n",
       "      <th>2014</th>\n",
       "      <th>2015</th>\n",
       "      <th>2016</th>\n",
       "      <th>2017</th>\n",
       "      <th>2018</th>\n",
       "      <th>2019</th>\n",
       "    </tr>\n",
       "  </thead>\n",
       "  <tbody>\n",
       "    <tr>\n",
       "      <th>0</th>\n",
       "      <td>Aruba</td>\n",
       "      <td>ABW</td>\n",
       "      <td>24101.109430</td>\n",
       "      <td>25870.755940</td>\n",
       "      <td>26533.343900</td>\n",
       "      <td>27430.752400</td>\n",
       "      <td>28656.520210</td>\n",
       "      <td>28648.990020</td>\n",
       "      <td>28499.089430</td>\n",
       "      <td>30215.949230</td>\n",
       "      <td>...</td>\n",
       "      <td>33732.847450</td>\n",
       "      <td>35492.618490</td>\n",
       "      <td>35498.982090</td>\n",
       "      <td>37419.892820</td>\n",
       "      <td>38223.372260</td>\n",
       "      <td>38249.054870</td>\n",
       "      <td>38390.271650</td>\n",
       "      <td>39454.629830</td>\n",
       "      <td>NaN</td>\n",
       "      <td>NaN</td>\n",
       "    </tr>\n",
       "    <tr>\n",
       "      <th>1</th>\n",
       "      <td>Afghanistan</td>\n",
       "      <td>AFG</td>\n",
       "      <td>NaN</td>\n",
       "      <td>NaN</td>\n",
       "      <td>NaN</td>\n",
       "      <td>NaN</td>\n",
       "      <td>NaN</td>\n",
       "      <td>NaN</td>\n",
       "      <td>NaN</td>\n",
       "      <td>NaN</td>\n",
       "      <td>...</td>\n",
       "      <td>1637.377987</td>\n",
       "      <td>1626.764793</td>\n",
       "      <td>1806.763930</td>\n",
       "      <td>1874.765634</td>\n",
       "      <td>1897.525938</td>\n",
       "      <td>1886.692977</td>\n",
       "      <td>1896.992520</td>\n",
       "      <td>1934.636754</td>\n",
       "      <td>1955.006208</td>\n",
       "      <td>NaN</td>\n",
       "    </tr>\n",
       "    <tr>\n",
       "      <th>2</th>\n",
       "      <td>Angola</td>\n",
       "      <td>AGO</td>\n",
       "      <td>3089.683369</td>\n",
       "      <td>3120.356148</td>\n",
       "      <td>2908.160798</td>\n",
       "      <td>2190.768160</td>\n",
       "      <td>2195.532289</td>\n",
       "      <td>2496.199493</td>\n",
       "      <td>2794.896906</td>\n",
       "      <td>2953.342709</td>\n",
       "      <td>...</td>\n",
       "      <td>6230.297028</td>\n",
       "      <td>6346.395122</td>\n",
       "      <td>6772.528333</td>\n",
       "      <td>6980.423038</td>\n",
       "      <td>7199.245478</td>\n",
       "      <td>7096.600615</td>\n",
       "      <td>6756.935074</td>\n",
       "      <td>6650.584940</td>\n",
       "      <td>6452.355165</td>\n",
       "      <td>NaN</td>\n",
       "    </tr>\n",
       "    <tr>\n",
       "      <th>3</th>\n",
       "      <td>Albania</td>\n",
       "      <td>ALB</td>\n",
       "      <td>2549.473022</td>\n",
       "      <td>1909.114038</td>\n",
       "      <td>1823.307673</td>\n",
       "      <td>2057.449657</td>\n",
       "      <td>2289.873135</td>\n",
       "      <td>2665.764906</td>\n",
       "      <td>2980.066288</td>\n",
       "      <td>2717.362124</td>\n",
       "      <td>...</td>\n",
       "      <td>9628.025783</td>\n",
       "      <td>10207.752350</td>\n",
       "      <td>10526.235450</td>\n",
       "      <td>10571.010650</td>\n",
       "      <td>11259.225890</td>\n",
       "      <td>11662.030480</td>\n",
       "      <td>11868.178970</td>\n",
       "      <td>12930.140030</td>\n",
       "      <td>13364.155400</td>\n",
       "      <td>NaN</td>\n",
       "    </tr>\n",
       "    <tr>\n",
       "      <th>4</th>\n",
       "      <td>Arab World</td>\n",
       "      <td>ARB</td>\n",
       "      <td>6808.206995</td>\n",
       "      <td>6872.273195</td>\n",
       "      <td>7255.328362</td>\n",
       "      <td>7458.647059</td>\n",
       "      <td>7645.682856</td>\n",
       "      <td>7774.207360</td>\n",
       "      <td>8094.149842</td>\n",
       "      <td>8397.515692</td>\n",
       "      <td>...</td>\n",
       "      <td>14127.778020</td>\n",
       "      <td>14518.827450</td>\n",
       "      <td>15423.465390</td>\n",
       "      <td>15824.780110</td>\n",
       "      <td>16153.244860</td>\n",
       "      <td>16501.792590</td>\n",
       "      <td>16935.383300</td>\n",
       "      <td>17099.889390</td>\n",
       "      <td>17570.137600</td>\n",
       "      <td>NaN</td>\n",
       "    </tr>\n",
       "  </tbody>\n",
       "</table>\n",
       "<p>5 rows × 32 columns</p>\n",
       "</div>"
      ],
      "text/plain": [
       "      Country  Country Code          1990          1991          1992  \\\n",
       "0        Aruba          ABW  24101.109430  25870.755940  26533.343900   \n",
       "1  Afghanistan          AFG           NaN           NaN           NaN   \n",
       "2       Angola          AGO   3089.683369   3120.356148   2908.160798   \n",
       "3      Albania          ALB   2549.473022   1909.114038   1823.307673   \n",
       "4   Arab World          ARB   6808.206995   6872.273195   7255.328362   \n",
       "\n",
       "           1993          1994          1995          1996          1997  ...  \\\n",
       "0  27430.752400  28656.520210  28648.990020  28499.089430  30215.949230  ...   \n",
       "1           NaN           NaN           NaN           NaN           NaN  ...   \n",
       "2   2190.768160   2195.532289   2496.199493   2794.896906   2953.342709  ...   \n",
       "3   2057.449657   2289.873135   2665.764906   2980.066288   2717.362124  ...   \n",
       "4   7458.647059   7645.682856   7774.207360   8094.149842   8397.515692  ...   \n",
       "\n",
       "           2010          2011          2012          2013          2014  \\\n",
       "0  33732.847450  35492.618490  35498.982090  37419.892820  38223.372260   \n",
       "1   1637.377987   1626.764793   1806.763930   1874.765634   1897.525938   \n",
       "2   6230.297028   6346.395122   6772.528333   6980.423038   7199.245478   \n",
       "3   9628.025783  10207.752350  10526.235450  10571.010650  11259.225890   \n",
       "4  14127.778020  14518.827450  15423.465390  15824.780110  16153.244860   \n",
       "\n",
       "           2015          2016          2017          2018  2019  \n",
       "0  38249.054870  38390.271650  39454.629830           NaN   NaN  \n",
       "1   1886.692977   1896.992520   1934.636754   1955.006208   NaN  \n",
       "2   7096.600615   6756.935074   6650.584940   6452.355165   NaN  \n",
       "3  11662.030480  11868.178970  12930.140030  13364.155400   NaN  \n",
       "4  16501.792590  16935.383300  17099.889390  17570.137600   NaN  \n",
       "\n",
       "[5 rows x 32 columns]"
      ]
     },
     "execution_count": 53,
     "metadata": {},
     "output_type": "execute_result"
    }
   ],
   "source": [
    "df_gdp.head()"
   ]
  },
  {
   "cell_type": "markdown",
   "id": "d451d0d3",
   "metadata": {},
   "source": [
    "**Remove the white space in the column names (ex: 'Country ' vs 'Country')**"
   ]
  },
  {
   "cell_type": "code",
   "execution_count": 54,
   "id": "e3ee20b5",
   "metadata": {},
   "outputs": [
    {
     "data": {
      "text/plain": [
       "Index(['Country ', 'Country Code', '1990', '1991', '1992', '1993', '1994',\n",
       "       '1995', '1996', '1997', '1998', '1999', '2000', '2001', '2002', '2003',\n",
       "       '2004', '2005', '2006', '2007', '2008', '2009', '2010', '2011', '2012',\n",
       "       '2013', '2014', '2015', '2016', '2017', '2018', '2019'],\n",
       "      dtype='object')"
      ]
     },
     "execution_count": 54,
     "metadata": {},
     "output_type": "execute_result"
    }
   ],
   "source": [
    "df_gdp.columns"
   ]
  },
  {
   "cell_type": "code",
   "execution_count": 55,
   "id": "be86f150",
   "metadata": {},
   "outputs": [],
   "source": [
    "df_gdp.columns = df_gdp.columns.str.strip()\n"
   ]
  },
  {
   "cell_type": "code",
   "execution_count": 56,
   "id": "45291252",
   "metadata": {},
   "outputs": [
    {
     "data": {
      "text/plain": [
       "Index(['Country', 'Country Code', '1990', '1991', '1992', '1993', '1994',\n",
       "       '1995', '1996', '1997', '1998', '1999', '2000', '2001', '2002', '2003',\n",
       "       '2004', '2005', '2006', '2007', '2008', '2009', '2010', '2011', '2012',\n",
       "       '2013', '2014', '2015', '2016', '2017', '2018', '2019'],\n",
       "      dtype='object')"
      ]
     },
     "execution_count": 56,
     "metadata": {},
     "output_type": "execute_result"
    }
   ],
   "source": [
    "df_gdp.columns"
   ]
  },
  {
   "cell_type": "markdown",
   "id": "52eae991",
   "metadata": {},
   "source": [
    "**Rounding up the decimals to two digits for accuracy**"
   ]
  },
  {
   "cell_type": "code",
   "execution_count": 57,
   "id": "115bc3bc",
   "metadata": {},
   "outputs": [],
   "source": [
    "df_gdp = df_gdp.applymap( lambda x:round(x,2) if isinstance(x,float) else x)"
   ]
  },
  {
   "cell_type": "code",
   "execution_count": 58,
   "id": "f0818ea4",
   "metadata": {},
   "outputs": [
    {
     "data": {
      "text/html": [
       "<div>\n",
       "<style scoped>\n",
       "    .dataframe tbody tr th:only-of-type {\n",
       "        vertical-align: middle;\n",
       "    }\n",
       "\n",
       "    .dataframe tbody tr th {\n",
       "        vertical-align: top;\n",
       "    }\n",
       "\n",
       "    .dataframe thead th {\n",
       "        text-align: right;\n",
       "    }\n",
       "</style>\n",
       "<table border=\"1\" class=\"dataframe\">\n",
       "  <thead>\n",
       "    <tr style=\"text-align: right;\">\n",
       "      <th></th>\n",
       "      <th>Country</th>\n",
       "      <th>Country Code</th>\n",
       "      <th>1990</th>\n",
       "      <th>1991</th>\n",
       "      <th>1992</th>\n",
       "      <th>1993</th>\n",
       "      <th>1994</th>\n",
       "      <th>1995</th>\n",
       "      <th>1996</th>\n",
       "      <th>1997</th>\n",
       "      <th>...</th>\n",
       "      <th>2010</th>\n",
       "      <th>2011</th>\n",
       "      <th>2012</th>\n",
       "      <th>2013</th>\n",
       "      <th>2014</th>\n",
       "      <th>2015</th>\n",
       "      <th>2016</th>\n",
       "      <th>2017</th>\n",
       "      <th>2018</th>\n",
       "      <th>2019</th>\n",
       "    </tr>\n",
       "  </thead>\n",
       "  <tbody>\n",
       "    <tr>\n",
       "      <th>0</th>\n",
       "      <td>Aruba</td>\n",
       "      <td>ABW</td>\n",
       "      <td>24101.11</td>\n",
       "      <td>25870.76</td>\n",
       "      <td>26533.34</td>\n",
       "      <td>27430.75</td>\n",
       "      <td>28656.52</td>\n",
       "      <td>28648.99</td>\n",
       "      <td>28499.09</td>\n",
       "      <td>30215.95</td>\n",
       "      <td>...</td>\n",
       "      <td>33732.85</td>\n",
       "      <td>35492.62</td>\n",
       "      <td>35498.98</td>\n",
       "      <td>37419.89</td>\n",
       "      <td>38223.37</td>\n",
       "      <td>38249.05</td>\n",
       "      <td>38390.27</td>\n",
       "      <td>39454.63</td>\n",
       "      <td>NaN</td>\n",
       "      <td>NaN</td>\n",
       "    </tr>\n",
       "    <tr>\n",
       "      <th>1</th>\n",
       "      <td>Afghanistan</td>\n",
       "      <td>AFG</td>\n",
       "      <td>NaN</td>\n",
       "      <td>NaN</td>\n",
       "      <td>NaN</td>\n",
       "      <td>NaN</td>\n",
       "      <td>NaN</td>\n",
       "      <td>NaN</td>\n",
       "      <td>NaN</td>\n",
       "      <td>NaN</td>\n",
       "      <td>...</td>\n",
       "      <td>1637.38</td>\n",
       "      <td>1626.76</td>\n",
       "      <td>1806.76</td>\n",
       "      <td>1874.77</td>\n",
       "      <td>1897.53</td>\n",
       "      <td>1886.69</td>\n",
       "      <td>1896.99</td>\n",
       "      <td>1934.64</td>\n",
       "      <td>1955.01</td>\n",
       "      <td>NaN</td>\n",
       "    </tr>\n",
       "    <tr>\n",
       "      <th>2</th>\n",
       "      <td>Angola</td>\n",
       "      <td>AGO</td>\n",
       "      <td>3089.68</td>\n",
       "      <td>3120.36</td>\n",
       "      <td>2908.16</td>\n",
       "      <td>2190.77</td>\n",
       "      <td>2195.53</td>\n",
       "      <td>2496.20</td>\n",
       "      <td>2794.90</td>\n",
       "      <td>2953.34</td>\n",
       "      <td>...</td>\n",
       "      <td>6230.30</td>\n",
       "      <td>6346.40</td>\n",
       "      <td>6772.53</td>\n",
       "      <td>6980.42</td>\n",
       "      <td>7199.25</td>\n",
       "      <td>7096.60</td>\n",
       "      <td>6756.94</td>\n",
       "      <td>6650.58</td>\n",
       "      <td>6452.36</td>\n",
       "      <td>NaN</td>\n",
       "    </tr>\n",
       "    <tr>\n",
       "      <th>3</th>\n",
       "      <td>Albania</td>\n",
       "      <td>ALB</td>\n",
       "      <td>2549.47</td>\n",
       "      <td>1909.11</td>\n",
       "      <td>1823.31</td>\n",
       "      <td>2057.45</td>\n",
       "      <td>2289.87</td>\n",
       "      <td>2665.76</td>\n",
       "      <td>2980.07</td>\n",
       "      <td>2717.36</td>\n",
       "      <td>...</td>\n",
       "      <td>9628.03</td>\n",
       "      <td>10207.75</td>\n",
       "      <td>10526.24</td>\n",
       "      <td>10571.01</td>\n",
       "      <td>11259.23</td>\n",
       "      <td>11662.03</td>\n",
       "      <td>11868.18</td>\n",
       "      <td>12930.14</td>\n",
       "      <td>13364.16</td>\n",
       "      <td>NaN</td>\n",
       "    </tr>\n",
       "    <tr>\n",
       "      <th>4</th>\n",
       "      <td>Arab World</td>\n",
       "      <td>ARB</td>\n",
       "      <td>6808.21</td>\n",
       "      <td>6872.27</td>\n",
       "      <td>7255.33</td>\n",
       "      <td>7458.65</td>\n",
       "      <td>7645.68</td>\n",
       "      <td>7774.21</td>\n",
       "      <td>8094.15</td>\n",
       "      <td>8397.52</td>\n",
       "      <td>...</td>\n",
       "      <td>14127.78</td>\n",
       "      <td>14518.83</td>\n",
       "      <td>15423.47</td>\n",
       "      <td>15824.78</td>\n",
       "      <td>16153.24</td>\n",
       "      <td>16501.79</td>\n",
       "      <td>16935.38</td>\n",
       "      <td>17099.89</td>\n",
       "      <td>17570.14</td>\n",
       "      <td>NaN</td>\n",
       "    </tr>\n",
       "  </tbody>\n",
       "</table>\n",
       "<p>5 rows × 32 columns</p>\n",
       "</div>"
      ],
      "text/plain": [
       "       Country Country Code      1990      1991      1992      1993      1994  \\\n",
       "0        Aruba          ABW  24101.11  25870.76  26533.34  27430.75  28656.52   \n",
       "1  Afghanistan          AFG       NaN       NaN       NaN       NaN       NaN   \n",
       "2       Angola          AGO   3089.68   3120.36   2908.16   2190.77   2195.53   \n",
       "3      Albania          ALB   2549.47   1909.11   1823.31   2057.45   2289.87   \n",
       "4   Arab World          ARB   6808.21   6872.27   7255.33   7458.65   7645.68   \n",
       "\n",
       "       1995      1996      1997  ...      2010      2011      2012      2013  \\\n",
       "0  28648.99  28499.09  30215.95  ...  33732.85  35492.62  35498.98  37419.89   \n",
       "1       NaN       NaN       NaN  ...   1637.38   1626.76   1806.76   1874.77   \n",
       "2   2496.20   2794.90   2953.34  ...   6230.30   6346.40   6772.53   6980.42   \n",
       "3   2665.76   2980.07   2717.36  ...   9628.03  10207.75  10526.24  10571.01   \n",
       "4   7774.21   8094.15   8397.52  ...  14127.78  14518.83  15423.47  15824.78   \n",
       "\n",
       "       2014      2015      2016      2017      2018  2019  \n",
       "0  38223.37  38249.05  38390.27  39454.63       NaN   NaN  \n",
       "1   1897.53   1886.69   1896.99   1934.64   1955.01   NaN  \n",
       "2   7199.25   7096.60   6756.94   6650.58   6452.36   NaN  \n",
       "3  11259.23  11662.03  11868.18  12930.14  13364.16   NaN  \n",
       "4  16153.24  16501.79  16935.38  17099.89  17570.14   NaN  \n",
       "\n",
       "[5 rows x 32 columns]"
      ]
     },
     "execution_count": 58,
     "metadata": {},
     "output_type": "execute_result"
    }
   ],
   "source": [
    "df_gdp.head()"
   ]
  },
  {
   "cell_type": "markdown",
   "id": "9cee5f34",
   "metadata": {},
   "source": [
    "**Drop the 2019 GDP column due to NaN values througout the column**"
   ]
  },
  {
   "cell_type": "code",
   "execution_count": 59,
   "id": "b6746aa5",
   "metadata": {},
   "outputs": [],
   "source": [
    "df_gdp.drop(columns='2019',inplace=True)"
   ]
  },
  {
   "cell_type": "code",
   "execution_count": 60,
   "id": "5f4840ab",
   "metadata": {},
   "outputs": [
    {
     "data": {
      "text/html": [
       "<div>\n",
       "<style scoped>\n",
       "    .dataframe tbody tr th:only-of-type {\n",
       "        vertical-align: middle;\n",
       "    }\n",
       "\n",
       "    .dataframe tbody tr th {\n",
       "        vertical-align: top;\n",
       "    }\n",
       "\n",
       "    .dataframe thead th {\n",
       "        text-align: right;\n",
       "    }\n",
       "</style>\n",
       "<table border=\"1\" class=\"dataframe\">\n",
       "  <thead>\n",
       "    <tr style=\"text-align: right;\">\n",
       "      <th></th>\n",
       "      <th>Country</th>\n",
       "      <th>Country Code</th>\n",
       "      <th>1990</th>\n",
       "      <th>1991</th>\n",
       "      <th>1992</th>\n",
       "      <th>1993</th>\n",
       "      <th>1994</th>\n",
       "      <th>1995</th>\n",
       "      <th>1996</th>\n",
       "      <th>1997</th>\n",
       "      <th>...</th>\n",
       "      <th>2009</th>\n",
       "      <th>2010</th>\n",
       "      <th>2011</th>\n",
       "      <th>2012</th>\n",
       "      <th>2013</th>\n",
       "      <th>2014</th>\n",
       "      <th>2015</th>\n",
       "      <th>2016</th>\n",
       "      <th>2017</th>\n",
       "      <th>2018</th>\n",
       "    </tr>\n",
       "  </thead>\n",
       "  <tbody>\n",
       "    <tr>\n",
       "      <th>0</th>\n",
       "      <td>Aruba</td>\n",
       "      <td>ABW</td>\n",
       "      <td>24101.11</td>\n",
       "      <td>25870.76</td>\n",
       "      <td>26533.34</td>\n",
       "      <td>27430.75</td>\n",
       "      <td>28656.52</td>\n",
       "      <td>28648.99</td>\n",
       "      <td>28499.09</td>\n",
       "      <td>30215.95</td>\n",
       "      <td>...</td>\n",
       "      <td>34693.09</td>\n",
       "      <td>33732.85</td>\n",
       "      <td>35492.62</td>\n",
       "      <td>35498.98</td>\n",
       "      <td>37419.89</td>\n",
       "      <td>38223.37</td>\n",
       "      <td>38249.05</td>\n",
       "      <td>38390.27</td>\n",
       "      <td>39454.63</td>\n",
       "      <td>NaN</td>\n",
       "    </tr>\n",
       "    <tr>\n",
       "      <th>1</th>\n",
       "      <td>Afghanistan</td>\n",
       "      <td>AFG</td>\n",
       "      <td>NaN</td>\n",
       "      <td>NaN</td>\n",
       "      <td>NaN</td>\n",
       "      <td>NaN</td>\n",
       "      <td>NaN</td>\n",
       "      <td>NaN</td>\n",
       "      <td>NaN</td>\n",
       "      <td>NaN</td>\n",
       "      <td>...</td>\n",
       "      <td>1454.66</td>\n",
       "      <td>1637.38</td>\n",
       "      <td>1626.76</td>\n",
       "      <td>1806.76</td>\n",
       "      <td>1874.77</td>\n",
       "      <td>1897.53</td>\n",
       "      <td>1886.69</td>\n",
       "      <td>1896.99</td>\n",
       "      <td>1934.64</td>\n",
       "      <td>1955.01</td>\n",
       "    </tr>\n",
       "    <tr>\n",
       "      <th>2</th>\n",
       "      <td>Angola</td>\n",
       "      <td>AGO</td>\n",
       "      <td>3089.68</td>\n",
       "      <td>3120.36</td>\n",
       "      <td>2908.16</td>\n",
       "      <td>2190.77</td>\n",
       "      <td>2195.53</td>\n",
       "      <td>2496.20</td>\n",
       "      <td>2794.90</td>\n",
       "      <td>2953.34</td>\n",
       "      <td>...</td>\n",
       "      <td>6092.78</td>\n",
       "      <td>6230.30</td>\n",
       "      <td>6346.40</td>\n",
       "      <td>6772.53</td>\n",
       "      <td>6980.42</td>\n",
       "      <td>7199.25</td>\n",
       "      <td>7096.60</td>\n",
       "      <td>6756.94</td>\n",
       "      <td>6650.58</td>\n",
       "      <td>6452.36</td>\n",
       "    </tr>\n",
       "    <tr>\n",
       "      <th>3</th>\n",
       "      <td>Albania</td>\n",
       "      <td>ALB</td>\n",
       "      <td>2549.47</td>\n",
       "      <td>1909.11</td>\n",
       "      <td>1823.31</td>\n",
       "      <td>2057.45</td>\n",
       "      <td>2289.87</td>\n",
       "      <td>2665.76</td>\n",
       "      <td>2980.07</td>\n",
       "      <td>2717.36</td>\n",
       "      <td>...</td>\n",
       "      <td>8814.81</td>\n",
       "      <td>9628.03</td>\n",
       "      <td>10207.75</td>\n",
       "      <td>10526.24</td>\n",
       "      <td>10571.01</td>\n",
       "      <td>11259.23</td>\n",
       "      <td>11662.03</td>\n",
       "      <td>11868.18</td>\n",
       "      <td>12930.14</td>\n",
       "      <td>13364.16</td>\n",
       "    </tr>\n",
       "    <tr>\n",
       "      <th>4</th>\n",
       "      <td>Arab World</td>\n",
       "      <td>ARB</td>\n",
       "      <td>6808.21</td>\n",
       "      <td>6872.27</td>\n",
       "      <td>7255.33</td>\n",
       "      <td>7458.65</td>\n",
       "      <td>7645.68</td>\n",
       "      <td>7774.21</td>\n",
       "      <td>8094.15</td>\n",
       "      <td>8397.52</td>\n",
       "      <td>...</td>\n",
       "      <td>13640.85</td>\n",
       "      <td>14127.78</td>\n",
       "      <td>14518.83</td>\n",
       "      <td>15423.47</td>\n",
       "      <td>15824.78</td>\n",
       "      <td>16153.24</td>\n",
       "      <td>16501.79</td>\n",
       "      <td>16935.38</td>\n",
       "      <td>17099.89</td>\n",
       "      <td>17570.14</td>\n",
       "    </tr>\n",
       "  </tbody>\n",
       "</table>\n",
       "<p>5 rows × 31 columns</p>\n",
       "</div>"
      ],
      "text/plain": [
       "       Country Country Code      1990      1991      1992      1993      1994  \\\n",
       "0        Aruba          ABW  24101.11  25870.76  26533.34  27430.75  28656.52   \n",
       "1  Afghanistan          AFG       NaN       NaN       NaN       NaN       NaN   \n",
       "2       Angola          AGO   3089.68   3120.36   2908.16   2190.77   2195.53   \n",
       "3      Albania          ALB   2549.47   1909.11   1823.31   2057.45   2289.87   \n",
       "4   Arab World          ARB   6808.21   6872.27   7255.33   7458.65   7645.68   \n",
       "\n",
       "       1995      1996      1997  ...      2009      2010      2011      2012  \\\n",
       "0  28648.99  28499.09  30215.95  ...  34693.09  33732.85  35492.62  35498.98   \n",
       "1       NaN       NaN       NaN  ...   1454.66   1637.38   1626.76   1806.76   \n",
       "2   2496.20   2794.90   2953.34  ...   6092.78   6230.30   6346.40   6772.53   \n",
       "3   2665.76   2980.07   2717.36  ...   8814.81   9628.03  10207.75  10526.24   \n",
       "4   7774.21   8094.15   8397.52  ...  13640.85  14127.78  14518.83  15423.47   \n",
       "\n",
       "       2013      2014      2015      2016      2017      2018  \n",
       "0  37419.89  38223.37  38249.05  38390.27  39454.63       NaN  \n",
       "1   1874.77   1897.53   1886.69   1896.99   1934.64   1955.01  \n",
       "2   6980.42   7199.25   7096.60   6756.94   6650.58   6452.36  \n",
       "3  10571.01  11259.23  11662.03  11868.18  12930.14  13364.16  \n",
       "4  15824.78  16153.24  16501.79  16935.38  17099.89  17570.14  \n",
       "\n",
       "[5 rows x 31 columns]"
      ]
     },
     "execution_count": 60,
     "metadata": {},
     "output_type": "execute_result"
    }
   ],
   "source": [
    "df_gdp.head()"
   ]
  },
  {
   "cell_type": "markdown",
   "id": "92a613d2",
   "metadata": {},
   "source": [
    "**Replace the NaN values with Zero throughout the DataFrame, for easy computing ability**"
   ]
  },
  {
   "cell_type": "code",
   "execution_count": 61,
   "id": "aaee6c5b",
   "metadata": {},
   "outputs": [
    {
     "data": {
      "text/plain": [
       "Country          0\n",
       "Country Code     0\n",
       "1990            51\n",
       "1991            49\n",
       "1992            47\n",
       "1993            45\n",
       "1994            42\n",
       "1995            36\n",
       "1996            36\n",
       "1997            35\n",
       "1998            34\n",
       "1999            33\n",
       "2000            24\n",
       "2001            23\n",
       "2002            22\n",
       "2003            22\n",
       "2004            22\n",
       "2005            22\n",
       "2006            22\n",
       "2007            21\n",
       "2008            20\n",
       "2009            19\n",
       "2010            19\n",
       "2011            17\n",
       "2012            19\n",
       "2013            19\n",
       "2014            20\n",
       "2015            22\n",
       "2016            22\n",
       "2017            22\n",
       "2018            29\n",
       "dtype: int64"
      ]
     },
     "execution_count": 61,
     "metadata": {},
     "output_type": "execute_result"
    }
   ],
   "source": [
    "df_gdp.isna().sum()"
   ]
  },
  {
   "cell_type": "code",
   "execution_count": 62,
   "id": "81e9c6bf",
   "metadata": {},
   "outputs": [],
   "source": [
    "df_gdp.fillna(value=0.0,inplace=True)"
   ]
  },
  {
   "cell_type": "code",
   "execution_count": 63,
   "id": "d38812f9",
   "metadata": {},
   "outputs": [
    {
     "data": {
      "text/plain": [
       "Country         0\n",
       "Country Code    0\n",
       "1990            0\n",
       "1991            0\n",
       "1992            0\n",
       "1993            0\n",
       "1994            0\n",
       "1995            0\n",
       "1996            0\n",
       "1997            0\n",
       "1998            0\n",
       "1999            0\n",
       "2000            0\n",
       "2001            0\n",
       "2002            0\n",
       "2003            0\n",
       "2004            0\n",
       "2005            0\n",
       "2006            0\n",
       "2007            0\n",
       "2008            0\n",
       "2009            0\n",
       "2010            0\n",
       "2011            0\n",
       "2012            0\n",
       "2013            0\n",
       "2014            0\n",
       "2015            0\n",
       "2016            0\n",
       "2017            0\n",
       "2018            0\n",
       "dtype: int64"
      ]
     },
     "execution_count": 63,
     "metadata": {},
     "output_type": "execute_result"
    }
   ],
   "source": [
    "df_gdp.isna().sum()"
   ]
  },
  {
   "cell_type": "code",
   "execution_count": 64,
   "id": "6979996e",
   "metadata": {},
   "outputs": [
    {
     "data": {
      "text/html": [
       "<div>\n",
       "<style scoped>\n",
       "    .dataframe tbody tr th:only-of-type {\n",
       "        vertical-align: middle;\n",
       "    }\n",
       "\n",
       "    .dataframe tbody tr th {\n",
       "        vertical-align: top;\n",
       "    }\n",
       "\n",
       "    .dataframe thead th {\n",
       "        text-align: right;\n",
       "    }\n",
       "</style>\n",
       "<table border=\"1\" class=\"dataframe\">\n",
       "  <thead>\n",
       "    <tr style=\"text-align: right;\">\n",
       "      <th></th>\n",
       "      <th>Country</th>\n",
       "      <th>Country Code</th>\n",
       "      <th>1990</th>\n",
       "      <th>1991</th>\n",
       "      <th>1992</th>\n",
       "      <th>1993</th>\n",
       "      <th>1994</th>\n",
       "      <th>1995</th>\n",
       "      <th>1996</th>\n",
       "      <th>1997</th>\n",
       "      <th>...</th>\n",
       "      <th>2009</th>\n",
       "      <th>2010</th>\n",
       "      <th>2011</th>\n",
       "      <th>2012</th>\n",
       "      <th>2013</th>\n",
       "      <th>2014</th>\n",
       "      <th>2015</th>\n",
       "      <th>2016</th>\n",
       "      <th>2017</th>\n",
       "      <th>2018</th>\n",
       "    </tr>\n",
       "  </thead>\n",
       "  <tbody>\n",
       "    <tr>\n",
       "      <th>0</th>\n",
       "      <td>Aruba</td>\n",
       "      <td>ABW</td>\n",
       "      <td>24101.11</td>\n",
       "      <td>25870.76</td>\n",
       "      <td>26533.34</td>\n",
       "      <td>27430.75</td>\n",
       "      <td>28656.52</td>\n",
       "      <td>28648.99</td>\n",
       "      <td>28499.09</td>\n",
       "      <td>30215.95</td>\n",
       "      <td>...</td>\n",
       "      <td>34693.09</td>\n",
       "      <td>33732.85</td>\n",
       "      <td>35492.62</td>\n",
       "      <td>35498.98</td>\n",
       "      <td>37419.89</td>\n",
       "      <td>38223.37</td>\n",
       "      <td>38249.05</td>\n",
       "      <td>38390.27</td>\n",
       "      <td>39454.63</td>\n",
       "      <td>0.00</td>\n",
       "    </tr>\n",
       "    <tr>\n",
       "      <th>1</th>\n",
       "      <td>Afghanistan</td>\n",
       "      <td>AFG</td>\n",
       "      <td>0.00</td>\n",
       "      <td>0.00</td>\n",
       "      <td>0.00</td>\n",
       "      <td>0.00</td>\n",
       "      <td>0.00</td>\n",
       "      <td>0.00</td>\n",
       "      <td>0.00</td>\n",
       "      <td>0.00</td>\n",
       "      <td>...</td>\n",
       "      <td>1454.66</td>\n",
       "      <td>1637.38</td>\n",
       "      <td>1626.76</td>\n",
       "      <td>1806.76</td>\n",
       "      <td>1874.77</td>\n",
       "      <td>1897.53</td>\n",
       "      <td>1886.69</td>\n",
       "      <td>1896.99</td>\n",
       "      <td>1934.64</td>\n",
       "      <td>1955.01</td>\n",
       "    </tr>\n",
       "    <tr>\n",
       "      <th>2</th>\n",
       "      <td>Angola</td>\n",
       "      <td>AGO</td>\n",
       "      <td>3089.68</td>\n",
       "      <td>3120.36</td>\n",
       "      <td>2908.16</td>\n",
       "      <td>2190.77</td>\n",
       "      <td>2195.53</td>\n",
       "      <td>2496.20</td>\n",
       "      <td>2794.90</td>\n",
       "      <td>2953.34</td>\n",
       "      <td>...</td>\n",
       "      <td>6092.78</td>\n",
       "      <td>6230.30</td>\n",
       "      <td>6346.40</td>\n",
       "      <td>6772.53</td>\n",
       "      <td>6980.42</td>\n",
       "      <td>7199.25</td>\n",
       "      <td>7096.60</td>\n",
       "      <td>6756.94</td>\n",
       "      <td>6650.58</td>\n",
       "      <td>6452.36</td>\n",
       "    </tr>\n",
       "    <tr>\n",
       "      <th>3</th>\n",
       "      <td>Albania</td>\n",
       "      <td>ALB</td>\n",
       "      <td>2549.47</td>\n",
       "      <td>1909.11</td>\n",
       "      <td>1823.31</td>\n",
       "      <td>2057.45</td>\n",
       "      <td>2289.87</td>\n",
       "      <td>2665.76</td>\n",
       "      <td>2980.07</td>\n",
       "      <td>2717.36</td>\n",
       "      <td>...</td>\n",
       "      <td>8814.81</td>\n",
       "      <td>9628.03</td>\n",
       "      <td>10207.75</td>\n",
       "      <td>10526.24</td>\n",
       "      <td>10571.01</td>\n",
       "      <td>11259.23</td>\n",
       "      <td>11662.03</td>\n",
       "      <td>11868.18</td>\n",
       "      <td>12930.14</td>\n",
       "      <td>13364.16</td>\n",
       "    </tr>\n",
       "    <tr>\n",
       "      <th>4</th>\n",
       "      <td>Arab World</td>\n",
       "      <td>ARB</td>\n",
       "      <td>6808.21</td>\n",
       "      <td>6872.27</td>\n",
       "      <td>7255.33</td>\n",
       "      <td>7458.65</td>\n",
       "      <td>7645.68</td>\n",
       "      <td>7774.21</td>\n",
       "      <td>8094.15</td>\n",
       "      <td>8397.52</td>\n",
       "      <td>...</td>\n",
       "      <td>13640.85</td>\n",
       "      <td>14127.78</td>\n",
       "      <td>14518.83</td>\n",
       "      <td>15423.47</td>\n",
       "      <td>15824.78</td>\n",
       "      <td>16153.24</td>\n",
       "      <td>16501.79</td>\n",
       "      <td>16935.38</td>\n",
       "      <td>17099.89</td>\n",
       "      <td>17570.14</td>\n",
       "    </tr>\n",
       "  </tbody>\n",
       "</table>\n",
       "<p>5 rows × 31 columns</p>\n",
       "</div>"
      ],
      "text/plain": [
       "       Country Country Code      1990      1991      1992      1993      1994  \\\n",
       "0        Aruba          ABW  24101.11  25870.76  26533.34  27430.75  28656.52   \n",
       "1  Afghanistan          AFG      0.00      0.00      0.00      0.00      0.00   \n",
       "2       Angola          AGO   3089.68   3120.36   2908.16   2190.77   2195.53   \n",
       "3      Albania          ALB   2549.47   1909.11   1823.31   2057.45   2289.87   \n",
       "4   Arab World          ARB   6808.21   6872.27   7255.33   7458.65   7645.68   \n",
       "\n",
       "       1995      1996      1997  ...      2009      2010      2011      2012  \\\n",
       "0  28648.99  28499.09  30215.95  ...  34693.09  33732.85  35492.62  35498.98   \n",
       "1      0.00      0.00      0.00  ...   1454.66   1637.38   1626.76   1806.76   \n",
       "2   2496.20   2794.90   2953.34  ...   6092.78   6230.30   6346.40   6772.53   \n",
       "3   2665.76   2980.07   2717.36  ...   8814.81   9628.03  10207.75  10526.24   \n",
       "4   7774.21   8094.15   8397.52  ...  13640.85  14127.78  14518.83  15423.47   \n",
       "\n",
       "       2013      2014      2015      2016      2017      2018  \n",
       "0  37419.89  38223.37  38249.05  38390.27  39454.63      0.00  \n",
       "1   1874.77   1897.53   1886.69   1896.99   1934.64   1955.01  \n",
       "2   6980.42   7199.25   7096.60   6756.94   6650.58   6452.36  \n",
       "3  10571.01  11259.23  11662.03  11868.18  12930.14  13364.16  \n",
       "4  15824.78  16153.24  16501.79  16935.38  17099.89  17570.14  \n",
       "\n",
       "[5 rows x 31 columns]"
      ]
     },
     "execution_count": 64,
     "metadata": {},
     "output_type": "execute_result"
    }
   ],
   "source": [
    "df_gdp.head()"
   ]
  },
  {
   "cell_type": "markdown",
   "id": "135058f5",
   "metadata": {},
   "source": [
    "### Cleaning the 120_years_events_athletes"
   ]
  },
  {
   "cell_type": "markdown",
   "id": "b52b30f8",
   "metadata": {},
   "source": [
    "#### Cleaning the dataset for 120 years is that we need to remove the NaN values and remove any uncecessary, redundent and irrelevant columns."
   ]
  },
  {
   "cell_type": "markdown",
   "id": "76bae991",
   "metadata": {},
   "source": [
    "**Understanding the dataset**"
   ]
  },
  {
   "cell_type": "code",
   "execution_count": 65,
   "id": "e4877351",
   "metadata": {},
   "outputs": [
    {
     "data": {
      "text/html": [
       "<div>\n",
       "<style scoped>\n",
       "    .dataframe tbody tr th:only-of-type {\n",
       "        vertical-align: middle;\n",
       "    }\n",
       "\n",
       "    .dataframe tbody tr th {\n",
       "        vertical-align: top;\n",
       "    }\n",
       "\n",
       "    .dataframe thead th {\n",
       "        text-align: right;\n",
       "    }\n",
       "</style>\n",
       "<table border=\"1\" class=\"dataframe\">\n",
       "  <thead>\n",
       "    <tr style=\"text-align: right;\">\n",
       "      <th></th>\n",
       "      <th>ID</th>\n",
       "      <th>Name</th>\n",
       "      <th>Sex</th>\n",
       "      <th>Age</th>\n",
       "      <th>Height</th>\n",
       "      <th>Weight</th>\n",
       "      <th>Team</th>\n",
       "      <th>NOC</th>\n",
       "      <th>Games</th>\n",
       "      <th>Year</th>\n",
       "      <th>Season</th>\n",
       "      <th>City</th>\n",
       "      <th>Sport</th>\n",
       "      <th>Event</th>\n",
       "      <th>Medal</th>\n",
       "    </tr>\n",
       "  </thead>\n",
       "  <tbody>\n",
       "    <tr>\n",
       "      <th>0</th>\n",
       "      <td>1</td>\n",
       "      <td>A Dijiang</td>\n",
       "      <td>M</td>\n",
       "      <td>24.0</td>\n",
       "      <td>180.0</td>\n",
       "      <td>80.0</td>\n",
       "      <td>China</td>\n",
       "      <td>CHN</td>\n",
       "      <td>1992 Summer</td>\n",
       "      <td>1992</td>\n",
       "      <td>Summer</td>\n",
       "      <td>Barcelona</td>\n",
       "      <td>Basketball</td>\n",
       "      <td>Basketball Men's Basketball</td>\n",
       "      <td>NaN</td>\n",
       "    </tr>\n",
       "    <tr>\n",
       "      <th>1</th>\n",
       "      <td>2</td>\n",
       "      <td>A Lamusi</td>\n",
       "      <td>M</td>\n",
       "      <td>23.0</td>\n",
       "      <td>170.0</td>\n",
       "      <td>60.0</td>\n",
       "      <td>China</td>\n",
       "      <td>CHN</td>\n",
       "      <td>2012 Summer</td>\n",
       "      <td>2012</td>\n",
       "      <td>Summer</td>\n",
       "      <td>London</td>\n",
       "      <td>Judo</td>\n",
       "      <td>Judo Men's Extra-Lightweight</td>\n",
       "      <td>NaN</td>\n",
       "    </tr>\n",
       "    <tr>\n",
       "      <th>2</th>\n",
       "      <td>3</td>\n",
       "      <td>Gunnar Nielsen Aaby</td>\n",
       "      <td>M</td>\n",
       "      <td>24.0</td>\n",
       "      <td>NaN</td>\n",
       "      <td>NaN</td>\n",
       "      <td>Denmark</td>\n",
       "      <td>DEN</td>\n",
       "      <td>1920 Summer</td>\n",
       "      <td>1920</td>\n",
       "      <td>Summer</td>\n",
       "      <td>Antwerpen</td>\n",
       "      <td>Football</td>\n",
       "      <td>Football Men's Football</td>\n",
       "      <td>NaN</td>\n",
       "    </tr>\n",
       "    <tr>\n",
       "      <th>3</th>\n",
       "      <td>4</td>\n",
       "      <td>Edgar Lindenau Aabye</td>\n",
       "      <td>M</td>\n",
       "      <td>34.0</td>\n",
       "      <td>NaN</td>\n",
       "      <td>NaN</td>\n",
       "      <td>Denmark/Sweden</td>\n",
       "      <td>DEN</td>\n",
       "      <td>1900 Summer</td>\n",
       "      <td>1900</td>\n",
       "      <td>Summer</td>\n",
       "      <td>Paris</td>\n",
       "      <td>Tug-Of-War</td>\n",
       "      <td>Tug-Of-War Men's Tug-Of-War</td>\n",
       "      <td>Gold</td>\n",
       "    </tr>\n",
       "    <tr>\n",
       "      <th>4</th>\n",
       "      <td>5</td>\n",
       "      <td>Christine Jacoba Aaftink</td>\n",
       "      <td>F</td>\n",
       "      <td>21.0</td>\n",
       "      <td>185.0</td>\n",
       "      <td>82.0</td>\n",
       "      <td>Netherlands</td>\n",
       "      <td>NED</td>\n",
       "      <td>1988 Winter</td>\n",
       "      <td>1988</td>\n",
       "      <td>Winter</td>\n",
       "      <td>Calgary</td>\n",
       "      <td>Speed Skating</td>\n",
       "      <td>Speed Skating Women's 500 metres</td>\n",
       "      <td>NaN</td>\n",
       "    </tr>\n",
       "  </tbody>\n",
       "</table>\n",
       "</div>"
      ],
      "text/plain": [
       "   ID                      Name Sex   Age  Height  Weight            Team  \\\n",
       "0   1                 A Dijiang   M  24.0   180.0    80.0           China   \n",
       "1   2                  A Lamusi   M  23.0   170.0    60.0           China   \n",
       "2   3       Gunnar Nielsen Aaby   M  24.0     NaN     NaN         Denmark   \n",
       "3   4      Edgar Lindenau Aabye   M  34.0     NaN     NaN  Denmark/Sweden   \n",
       "4   5  Christine Jacoba Aaftink   F  21.0   185.0    82.0     Netherlands   \n",
       "\n",
       "   NOC        Games  Year  Season       City          Sport  \\\n",
       "0  CHN  1992 Summer  1992  Summer  Barcelona     Basketball   \n",
       "1  CHN  2012 Summer  2012  Summer     London           Judo   \n",
       "2  DEN  1920 Summer  1920  Summer  Antwerpen       Football   \n",
       "3  DEN  1900 Summer  1900  Summer      Paris     Tug-Of-War   \n",
       "4  NED  1988 Winter  1988  Winter    Calgary  Speed Skating   \n",
       "\n",
       "                              Event Medal  \n",
       "0       Basketball Men's Basketball   NaN  \n",
       "1      Judo Men's Extra-Lightweight   NaN  \n",
       "2           Football Men's Football   NaN  \n",
       "3       Tug-Of-War Men's Tug-Of-War  Gold  \n",
       "4  Speed Skating Women's 500 metres   NaN  "
      ]
     },
     "execution_count": 65,
     "metadata": {},
     "output_type": "execute_result"
    }
   ],
   "source": [
    "df_120.head()"
   ]
  },
  {
   "cell_type": "markdown",
   "id": "8e54eadb",
   "metadata": {},
   "source": [
    "**Checking for NaNs and Missing Values**"
   ]
  },
  {
   "cell_type": "code",
   "execution_count": 66,
   "id": "d62ebdef",
   "metadata": {},
   "outputs": [
    {
     "data": {
      "text/plain": [
       "ID        False\n",
       "Name      False\n",
       "Sex       False\n",
       "Age        True\n",
       "Height     True\n",
       "Weight     True\n",
       "Team      False\n",
       "NOC       False\n",
       "Games     False\n",
       "Year      False\n",
       "Season    False\n",
       "City      False\n",
       "Sport     False\n",
       "Event     False\n",
       "Medal      True\n",
       "dtype: bool"
      ]
     },
     "execution_count": 66,
     "metadata": {},
     "output_type": "execute_result"
    }
   ],
   "source": [
    "df_120.isna().any()"
   ]
  },
  {
   "cell_type": "code",
   "execution_count": 67,
   "id": "6bc9817c",
   "metadata": {},
   "outputs": [
    {
     "data": {
      "text/plain": [
       "ID        False\n",
       "Name      False\n",
       "Sex       False\n",
       "Age       False\n",
       "Height    False\n",
       "Weight    False\n",
       "Team      False\n",
       "NOC       False\n",
       "Games     False\n",
       "Year      False\n",
       "Season    False\n",
       "City      False\n",
       "Sport     False\n",
       "Event     False\n",
       "Medal     False\n",
       "dtype: bool"
      ]
     },
     "execution_count": 67,
     "metadata": {},
     "output_type": "execute_result"
    }
   ],
   "source": [
    "(df_120 == '').any()"
   ]
  },
  {
   "cell_type": "markdown",
   "id": "0c2f5eca",
   "metadata": {},
   "source": [
    "**Percentage of NaN values in the 4 columns - 'Age', 'Height', 'Weight' and 'Medals'**"
   ]
  },
  {
   "cell_type": "code",
   "execution_count": 68,
   "id": "507ae0b7",
   "metadata": {},
   "outputs": [
    {
     "data": {
      "text/plain": [
       "\"Nulls in 'Age' column: 3.49%\""
      ]
     },
     "execution_count": 68,
     "metadata": {},
     "output_type": "execute_result"
    }
   ],
   "source": [
    "age_null_per = ((df_120['Age'].isna().sum()) / df_120.Age.size) * 100\n",
    "'Nulls in \\'Age\\' column: %0.2f%%' %age_null_per"
   ]
  },
  {
   "cell_type": "code",
   "execution_count": 69,
   "id": "d76a0194",
   "metadata": {},
   "outputs": [
    {
     "data": {
      "text/plain": [
       "\"Nulls in 'Height' column: 22.19%\""
      ]
     },
     "execution_count": 69,
     "metadata": {},
     "output_type": "execute_result"
    }
   ],
   "source": [
    "ht_null_per = ((df_120['Height'].isna().sum()) / df_120.Height.size) * 100\n",
    "'Nulls in \\'Height\\' column: %0.2f%%'%ht_null_per"
   ]
  },
  {
   "cell_type": "code",
   "execution_count": 70,
   "id": "51b949a2",
   "metadata": {},
   "outputs": [
    {
     "data": {
      "text/plain": [
       "\"Nulls in 'Weight' column: 23.19%\""
      ]
     },
     "execution_count": 70,
     "metadata": {},
     "output_type": "execute_result"
    }
   ],
   "source": [
    "wt_null_per = ((df_120['Weight'].isna().sum()) / df_120.Weight.size) * 100\n",
    "'Nulls in \\'Weight\\' column: %0.2f%%'%wt_null_per"
   ]
  },
  {
   "cell_type": "code",
   "execution_count": 71,
   "id": "ae9eecd4",
   "metadata": {},
   "outputs": [
    {
     "data": {
      "text/plain": [
       "\"Nulls in 'Medals' column 85.33%\""
      ]
     },
     "execution_count": 71,
     "metadata": {},
     "output_type": "execute_result"
    }
   ],
   "source": [
    "med_null_per = ((df_120['Medal'].isna().sum()) / df_120.Medal.size) * 100\n",
    "'Nulls in \\'Medals\\' column %0.2f%%'%med_null_per"
   ]
  },
  {
   "cell_type": "markdown",
   "id": "e7374805",
   "metadata": {},
   "source": [
    "**Fill in NaNs with 'No medal won' in 'Medal' Column**"
   ]
  },
  {
   "cell_type": "code",
   "execution_count": 72,
   "id": "4ad1734a",
   "metadata": {},
   "outputs": [],
   "source": [
    "df_120.Medal.fillna('No medal won', inplace = True)"
   ]
  },
  {
   "cell_type": "markdown",
   "id": "a8ebd225",
   "metadata": {},
   "source": [
    "**Fill the NaNs with 'Unknown' in the 'Age', 'Height' and 'Weight' columns**"
   ]
  },
  {
   "cell_type": "code",
   "execution_count": 73,
   "id": "7c89bb1b",
   "metadata": {},
   "outputs": [],
   "source": [
    "df_120.Age.fillna('Unknown', inplace = True)\n",
    "df_120.Height.fillna('Unknown', inplace = True)\n",
    "df_120.Weight.fillna('Unknown', inplace = True)"
   ]
  },
  {
   "cell_type": "markdown",
   "id": "bbd9c60d",
   "metadata": {},
   "source": [
    "**Check for NaNs and Missing Values**"
   ]
  },
  {
   "cell_type": "code",
   "execution_count": 74,
   "id": "47f2add2",
   "metadata": {},
   "outputs": [
    {
     "data": {
      "text/plain": [
       "ID        False\n",
       "Name      False\n",
       "Sex       False\n",
       "Age       False\n",
       "Height    False\n",
       "Weight    False\n",
       "Team      False\n",
       "NOC       False\n",
       "Games     False\n",
       "Year      False\n",
       "Season    False\n",
       "City      False\n",
       "Sport     False\n",
       "Event     False\n",
       "Medal     False\n",
       "dtype: bool"
      ]
     },
     "execution_count": 74,
     "metadata": {},
     "output_type": "execute_result"
    }
   ],
   "source": [
    "df_120.isna().any()"
   ]
  },
  {
   "cell_type": "markdown",
   "id": "1a18fea3",
   "metadata": {},
   "source": [
    "**Drop extra columns/Column that is not relevant**"
   ]
  },
  {
   "cell_type": "code",
   "execution_count": 75,
   "id": "8e732e48",
   "metadata": {},
   "outputs": [],
   "source": [
    "df_120.drop(columns = ['ID'], inplace = True)"
   ]
  },
  {
   "cell_type": "code",
   "execution_count": 76,
   "id": "0f3514e2",
   "metadata": {},
   "outputs": [
    {
     "data": {
      "text/html": [
       "<div>\n",
       "<style scoped>\n",
       "    .dataframe tbody tr th:only-of-type {\n",
       "        vertical-align: middle;\n",
       "    }\n",
       "\n",
       "    .dataframe tbody tr th {\n",
       "        vertical-align: top;\n",
       "    }\n",
       "\n",
       "    .dataframe thead th {\n",
       "        text-align: right;\n",
       "    }\n",
       "</style>\n",
       "<table border=\"1\" class=\"dataframe\">\n",
       "  <thead>\n",
       "    <tr style=\"text-align: right;\">\n",
       "      <th></th>\n",
       "      <th>Name</th>\n",
       "      <th>Sex</th>\n",
       "      <th>Age</th>\n",
       "      <th>Height</th>\n",
       "      <th>Weight</th>\n",
       "      <th>Team</th>\n",
       "      <th>NOC</th>\n",
       "      <th>Games</th>\n",
       "      <th>Year</th>\n",
       "      <th>Season</th>\n",
       "      <th>City</th>\n",
       "      <th>Sport</th>\n",
       "      <th>Event</th>\n",
       "      <th>Medal</th>\n",
       "    </tr>\n",
       "  </thead>\n",
       "  <tbody>\n",
       "    <tr>\n",
       "      <th>0</th>\n",
       "      <td>A Dijiang</td>\n",
       "      <td>M</td>\n",
       "      <td>24.0</td>\n",
       "      <td>180.0</td>\n",
       "      <td>80.0</td>\n",
       "      <td>China</td>\n",
       "      <td>CHN</td>\n",
       "      <td>1992 Summer</td>\n",
       "      <td>1992</td>\n",
       "      <td>Summer</td>\n",
       "      <td>Barcelona</td>\n",
       "      <td>Basketball</td>\n",
       "      <td>Basketball Men's Basketball</td>\n",
       "      <td>No medal won</td>\n",
       "    </tr>\n",
       "    <tr>\n",
       "      <th>1</th>\n",
       "      <td>A Lamusi</td>\n",
       "      <td>M</td>\n",
       "      <td>23.0</td>\n",
       "      <td>170.0</td>\n",
       "      <td>60.0</td>\n",
       "      <td>China</td>\n",
       "      <td>CHN</td>\n",
       "      <td>2012 Summer</td>\n",
       "      <td>2012</td>\n",
       "      <td>Summer</td>\n",
       "      <td>London</td>\n",
       "      <td>Judo</td>\n",
       "      <td>Judo Men's Extra-Lightweight</td>\n",
       "      <td>No medal won</td>\n",
       "    </tr>\n",
       "    <tr>\n",
       "      <th>2</th>\n",
       "      <td>Gunnar Nielsen Aaby</td>\n",
       "      <td>M</td>\n",
       "      <td>24.0</td>\n",
       "      <td>Unknown</td>\n",
       "      <td>Unknown</td>\n",
       "      <td>Denmark</td>\n",
       "      <td>DEN</td>\n",
       "      <td>1920 Summer</td>\n",
       "      <td>1920</td>\n",
       "      <td>Summer</td>\n",
       "      <td>Antwerpen</td>\n",
       "      <td>Football</td>\n",
       "      <td>Football Men's Football</td>\n",
       "      <td>No medal won</td>\n",
       "    </tr>\n",
       "    <tr>\n",
       "      <th>3</th>\n",
       "      <td>Edgar Lindenau Aabye</td>\n",
       "      <td>M</td>\n",
       "      <td>34.0</td>\n",
       "      <td>Unknown</td>\n",
       "      <td>Unknown</td>\n",
       "      <td>Denmark/Sweden</td>\n",
       "      <td>DEN</td>\n",
       "      <td>1900 Summer</td>\n",
       "      <td>1900</td>\n",
       "      <td>Summer</td>\n",
       "      <td>Paris</td>\n",
       "      <td>Tug-Of-War</td>\n",
       "      <td>Tug-Of-War Men's Tug-Of-War</td>\n",
       "      <td>Gold</td>\n",
       "    </tr>\n",
       "    <tr>\n",
       "      <th>4</th>\n",
       "      <td>Christine Jacoba Aaftink</td>\n",
       "      <td>F</td>\n",
       "      <td>21.0</td>\n",
       "      <td>185.0</td>\n",
       "      <td>82.0</td>\n",
       "      <td>Netherlands</td>\n",
       "      <td>NED</td>\n",
       "      <td>1988 Winter</td>\n",
       "      <td>1988</td>\n",
       "      <td>Winter</td>\n",
       "      <td>Calgary</td>\n",
       "      <td>Speed Skating</td>\n",
       "      <td>Speed Skating Women's 500 metres</td>\n",
       "      <td>No medal won</td>\n",
       "    </tr>\n",
       "  </tbody>\n",
       "</table>\n",
       "</div>"
      ],
      "text/plain": [
       "                       Name Sex   Age   Height   Weight            Team  NOC  \\\n",
       "0                 A Dijiang   M  24.0    180.0     80.0           China  CHN   \n",
       "1                  A Lamusi   M  23.0    170.0     60.0           China  CHN   \n",
       "2       Gunnar Nielsen Aaby   M  24.0  Unknown  Unknown         Denmark  DEN   \n",
       "3      Edgar Lindenau Aabye   M  34.0  Unknown  Unknown  Denmark/Sweden  DEN   \n",
       "4  Christine Jacoba Aaftink   F  21.0    185.0     82.0     Netherlands  NED   \n",
       "\n",
       "         Games  Year  Season       City          Sport  \\\n",
       "0  1992 Summer  1992  Summer  Barcelona     Basketball   \n",
       "1  2012 Summer  2012  Summer     London           Judo   \n",
       "2  1920 Summer  1920  Summer  Antwerpen       Football   \n",
       "3  1900 Summer  1900  Summer      Paris     Tug-Of-War   \n",
       "4  1988 Winter  1988  Winter    Calgary  Speed Skating   \n",
       "\n",
       "                              Event         Medal  \n",
       "0       Basketball Men's Basketball  No medal won  \n",
       "1      Judo Men's Extra-Lightweight  No medal won  \n",
       "2           Football Men's Football  No medal won  \n",
       "3       Tug-Of-War Men's Tug-Of-War          Gold  \n",
       "4  Speed Skating Women's 500 metres  No medal won  "
      ]
     },
     "execution_count": 76,
     "metadata": {},
     "output_type": "execute_result"
    }
   ],
   "source": [
    "df_120.head()"
   ]
  },
  {
   "cell_type": "markdown",
   "id": "357ff327",
   "metadata": {},
   "source": [
    "### Cleaning the Population by Country dataset "
   ]
  },
  {
   "cell_type": "markdown",
   "id": "dc3282b1",
   "metadata": {},
   "source": [
    "#### Cleaning the dataset is to remove the NaN values and remove the 'N.A.' and replace with zero. "
   ]
  },
  {
   "cell_type": "code",
   "execution_count": 77,
   "id": "b447a7b4",
   "metadata": {},
   "outputs": [
    {
     "data": {
      "text/html": [
       "<div>\n",
       "<style scoped>\n",
       "    .dataframe tbody tr th:only-of-type {\n",
       "        vertical-align: middle;\n",
       "    }\n",
       "\n",
       "    .dataframe tbody tr th {\n",
       "        vertical-align: top;\n",
       "    }\n",
       "\n",
       "    .dataframe thead th {\n",
       "        text-align: right;\n",
       "    }\n",
       "</style>\n",
       "<table border=\"1\" class=\"dataframe\">\n",
       "  <thead>\n",
       "    <tr style=\"text-align: right;\">\n",
       "      <th></th>\n",
       "      <th>Country (or dependency)</th>\n",
       "      <th>Population (2020)</th>\n",
       "      <th>Yearly Change</th>\n",
       "      <th>Net Change</th>\n",
       "      <th>Density (P/Km²)</th>\n",
       "      <th>Land Area (Km²)</th>\n",
       "      <th>Migrants (net)</th>\n",
       "      <th>Fert. Rate</th>\n",
       "      <th>Med. Age</th>\n",
       "      <th>Urban Pop %</th>\n",
       "      <th>World Share</th>\n",
       "    </tr>\n",
       "  </thead>\n",
       "  <tbody>\n",
       "    <tr>\n",
       "      <th>0</th>\n",
       "      <td>China</td>\n",
       "      <td>1440297825</td>\n",
       "      <td>0.39 %</td>\n",
       "      <td>5540090</td>\n",
       "      <td>153</td>\n",
       "      <td>9388211</td>\n",
       "      <td>-348399.0</td>\n",
       "      <td>1.7</td>\n",
       "      <td>38</td>\n",
       "      <td>61 %</td>\n",
       "      <td>18.47 %</td>\n",
       "    </tr>\n",
       "    <tr>\n",
       "      <th>1</th>\n",
       "      <td>India</td>\n",
       "      <td>1382345085</td>\n",
       "      <td>0.99 %</td>\n",
       "      <td>13586631</td>\n",
       "      <td>464</td>\n",
       "      <td>2973190</td>\n",
       "      <td>-532687.0</td>\n",
       "      <td>2.2</td>\n",
       "      <td>28</td>\n",
       "      <td>35 %</td>\n",
       "      <td>17.70 %</td>\n",
       "    </tr>\n",
       "    <tr>\n",
       "      <th>2</th>\n",
       "      <td>United States</td>\n",
       "      <td>331341050</td>\n",
       "      <td>0.59 %</td>\n",
       "      <td>1937734</td>\n",
       "      <td>36</td>\n",
       "      <td>9147420</td>\n",
       "      <td>954806.0</td>\n",
       "      <td>1.8</td>\n",
       "      <td>38</td>\n",
       "      <td>83 %</td>\n",
       "      <td>4.25 %</td>\n",
       "    </tr>\n",
       "    <tr>\n",
       "      <th>3</th>\n",
       "      <td>Indonesia</td>\n",
       "      <td>274021604</td>\n",
       "      <td>1.07 %</td>\n",
       "      <td>2898047</td>\n",
       "      <td>151</td>\n",
       "      <td>1811570</td>\n",
       "      <td>-98955.0</td>\n",
       "      <td>2.3</td>\n",
       "      <td>30</td>\n",
       "      <td>56 %</td>\n",
       "      <td>3.51 %</td>\n",
       "    </tr>\n",
       "    <tr>\n",
       "      <th>4</th>\n",
       "      <td>Pakistan</td>\n",
       "      <td>221612785</td>\n",
       "      <td>2.00 %</td>\n",
       "      <td>4327022</td>\n",
       "      <td>287</td>\n",
       "      <td>770880</td>\n",
       "      <td>-233379.0</td>\n",
       "      <td>3.6</td>\n",
       "      <td>23</td>\n",
       "      <td>35 %</td>\n",
       "      <td>2.83 %</td>\n",
       "    </tr>\n",
       "  </tbody>\n",
       "</table>\n",
       "</div>"
      ],
      "text/plain": [
       "  Country (or dependency)  Population (2020) Yearly Change  Net Change  \\\n",
       "0                   China         1440297825        0.39 %     5540090   \n",
       "1                   India         1382345085        0.99 %    13586631   \n",
       "2           United States          331341050        0.59 %     1937734   \n",
       "3               Indonesia          274021604        1.07 %     2898047   \n",
       "4                Pakistan          221612785        2.00 %     4327022   \n",
       "\n",
       "   Density (P/Km²)  Land Area (Km²)  Migrants (net) Fert. Rate Med. Age  \\\n",
       "0              153          9388211       -348399.0        1.7       38   \n",
       "1              464          2973190       -532687.0        2.2       28   \n",
       "2               36          9147420        954806.0        1.8       38   \n",
       "3              151          1811570        -98955.0        2.3       30   \n",
       "4              287           770880       -233379.0        3.6       23   \n",
       "\n",
       "  Urban Pop % World Share  \n",
       "0        61 %     18.47 %  \n",
       "1        35 %     17.70 %  \n",
       "2        83 %      4.25 %  \n",
       "3        56 %      3.51 %  \n",
       "4        35 %      2.83 %  "
      ]
     },
     "execution_count": 77,
     "metadata": {},
     "output_type": "execute_result"
    }
   ],
   "source": [
    "df_pop.head()"
   ]
  },
  {
   "cell_type": "markdown",
   "id": "a86e54e4",
   "metadata": {},
   "source": [
    "**Check for NaN Values**"
   ]
  },
  {
   "cell_type": "code",
   "execution_count": 78,
   "id": "b48b5f54",
   "metadata": {},
   "outputs": [
    {
     "data": {
      "text/plain": [
       "Country (or dependency)     0\n",
       "Population (2020)           0\n",
       "Yearly Change               0\n",
       "Net Change                  0\n",
       "Density (P/Km²)             0\n",
       "Land Area (Km²)             0\n",
       "Migrants (net)             34\n",
       "Fert. Rate                  0\n",
       "Med. Age                    0\n",
       "Urban Pop %                 0\n",
       "World Share                 0\n",
       "dtype: int64"
      ]
     },
     "execution_count": 78,
     "metadata": {},
     "output_type": "execute_result"
    }
   ],
   "source": [
    "df_pop.isna().sum()"
   ]
  },
  {
   "cell_type": "markdown",
   "id": "640e6ca6",
   "metadata": {},
   "source": [
    "**Replace the NaN Values with Zero**"
   ]
  },
  {
   "cell_type": "code",
   "execution_count": 79,
   "id": "ab2726b5",
   "metadata": {},
   "outputs": [],
   "source": [
    "df_pop.fillna(value= 0.0,inplace=True)"
   ]
  },
  {
   "cell_type": "code",
   "execution_count": 80,
   "id": "8cc9dc33",
   "metadata": {},
   "outputs": [
    {
     "data": {
      "text/html": [
       "<div>\n",
       "<style scoped>\n",
       "    .dataframe tbody tr th:only-of-type {\n",
       "        vertical-align: middle;\n",
       "    }\n",
       "\n",
       "    .dataframe tbody tr th {\n",
       "        vertical-align: top;\n",
       "    }\n",
       "\n",
       "    .dataframe thead th {\n",
       "        text-align: right;\n",
       "    }\n",
       "</style>\n",
       "<table border=\"1\" class=\"dataframe\">\n",
       "  <thead>\n",
       "    <tr style=\"text-align: right;\">\n",
       "      <th></th>\n",
       "      <th>Country (or dependency)</th>\n",
       "      <th>Population (2020)</th>\n",
       "      <th>Yearly Change</th>\n",
       "      <th>Net Change</th>\n",
       "      <th>Density (P/Km²)</th>\n",
       "      <th>Land Area (Km²)</th>\n",
       "      <th>Migrants (net)</th>\n",
       "      <th>Fert. Rate</th>\n",
       "      <th>Med. Age</th>\n",
       "      <th>Urban Pop %</th>\n",
       "      <th>World Share</th>\n",
       "    </tr>\n",
       "  </thead>\n",
       "  <tbody>\n",
       "    <tr>\n",
       "      <th>230</th>\n",
       "      <td>Montserrat</td>\n",
       "      <td>4993</td>\n",
       "      <td>0.06 %</td>\n",
       "      <td>3</td>\n",
       "      <td>50</td>\n",
       "      <td>100</td>\n",
       "      <td>0.0</td>\n",
       "      <td>N.A.</td>\n",
       "      <td>N.A.</td>\n",
       "      <td>10 %</td>\n",
       "      <td>0.00 %</td>\n",
       "    </tr>\n",
       "    <tr>\n",
       "      <th>231</th>\n",
       "      <td>Falkland Islands</td>\n",
       "      <td>3497</td>\n",
       "      <td>3.05 %</td>\n",
       "      <td>103</td>\n",
       "      <td>0</td>\n",
       "      <td>12170</td>\n",
       "      <td>0.0</td>\n",
       "      <td>N.A.</td>\n",
       "      <td>N.A.</td>\n",
       "      <td>66 %</td>\n",
       "      <td>0.00 %</td>\n",
       "    </tr>\n",
       "    <tr>\n",
       "      <th>232</th>\n",
       "      <td>Niue</td>\n",
       "      <td>1628</td>\n",
       "      <td>0.68 %</td>\n",
       "      <td>11</td>\n",
       "      <td>6</td>\n",
       "      <td>260</td>\n",
       "      <td>0.0</td>\n",
       "      <td>N.A.</td>\n",
       "      <td>N.A.</td>\n",
       "      <td>46 %</td>\n",
       "      <td>0.00 %</td>\n",
       "    </tr>\n",
       "    <tr>\n",
       "      <th>233</th>\n",
       "      <td>Tokelau</td>\n",
       "      <td>1360</td>\n",
       "      <td>1.27 %</td>\n",
       "      <td>17</td>\n",
       "      <td>136</td>\n",
       "      <td>10</td>\n",
       "      <td>0.0</td>\n",
       "      <td>N.A.</td>\n",
       "      <td>N.A.</td>\n",
       "      <td>0 %</td>\n",
       "      <td>0.00 %</td>\n",
       "    </tr>\n",
       "    <tr>\n",
       "      <th>234</th>\n",
       "      <td>Holy See</td>\n",
       "      <td>801</td>\n",
       "      <td>0.25 %</td>\n",
       "      <td>2</td>\n",
       "      <td>2003</td>\n",
       "      <td>0</td>\n",
       "      <td>0.0</td>\n",
       "      <td>N.A.</td>\n",
       "      <td>N.A.</td>\n",
       "      <td>N.A.</td>\n",
       "      <td>0.00 %</td>\n",
       "    </tr>\n",
       "  </tbody>\n",
       "</table>\n",
       "</div>"
      ],
      "text/plain": [
       "    Country (or dependency)  Population (2020) Yearly Change  Net Change  \\\n",
       "230              Montserrat               4993        0.06 %           3   \n",
       "231        Falkland Islands               3497        3.05 %         103   \n",
       "232                    Niue               1628        0.68 %          11   \n",
       "233                 Tokelau               1360        1.27 %          17   \n",
       "234                Holy See                801        0.25 %           2   \n",
       "\n",
       "     Density (P/Km²)  Land Area (Km²)  Migrants (net) Fert. Rate Med. Age  \\\n",
       "230               50              100             0.0       N.A.     N.A.   \n",
       "231                0            12170             0.0       N.A.     N.A.   \n",
       "232                6              260             0.0       N.A.     N.A.   \n",
       "233              136               10             0.0       N.A.     N.A.   \n",
       "234             2003                0             0.0       N.A.     N.A.   \n",
       "\n",
       "    Urban Pop % World Share  \n",
       "230        10 %      0.00 %  \n",
       "231        66 %      0.00 %  \n",
       "232        46 %      0.00 %  \n",
       "233         0 %      0.00 %  \n",
       "234        N.A.      0.00 %  "
      ]
     },
     "execution_count": 80,
     "metadata": {},
     "output_type": "execute_result"
    }
   ],
   "source": [
    "df_pop.tail()"
   ]
  },
  {
   "cell_type": "markdown",
   "id": "07c48a2e",
   "metadata": {},
   "source": [
    "**Change Header Columns with Spaces**"
   ]
  },
  {
   "cell_type": "code",
   "execution_count": 81,
   "id": "6f83c09c",
   "metadata": {},
   "outputs": [
    {
     "data": {
      "text/plain": [
       "Index(['Country (or dependency)', 'Population (2020)', 'Yearly Change',\n",
       "       'Net Change', 'Density (P/Km²)', 'Land Area (Km²)', 'Migrants (net)',\n",
       "       'Fert. Rate', 'Med. Age', 'Urban Pop %', 'World Share'],\n",
       "      dtype='object')"
      ]
     },
     "execution_count": 81,
     "metadata": {},
     "output_type": "execute_result"
    }
   ],
   "source": [
    "df_pop.columns"
   ]
  },
  {
   "cell_type": "code",
   "execution_count": 82,
   "id": "b385bd70",
   "metadata": {},
   "outputs": [],
   "source": [
    "df_pop.columns = df_pop.columns.str.replace(' ','')"
   ]
  },
  {
   "cell_type": "code",
   "execution_count": 83,
   "id": "24c2b0d9",
   "metadata": {},
   "outputs": [
    {
     "data": {
      "text/plain": [
       "Index(['Country(ordependency)', 'Population(2020)', 'YearlyChange',\n",
       "       'NetChange', 'Density(P/Km²)', 'LandArea(Km²)', 'Migrants(net)',\n",
       "       'Fert.Rate', 'Med.Age', 'UrbanPop%', 'WorldShare'],\n",
       "      dtype='object')"
      ]
     },
     "execution_count": 83,
     "metadata": {},
     "output_type": "execute_result"
    }
   ],
   "source": [
    "df_pop.columns"
   ]
  },
  {
   "cell_type": "markdown",
   "id": "ce86848f",
   "metadata": {},
   "source": [
    "**Dataset also contains N.A same as NaN must replace those too**"
   ]
  },
  {
   "cell_type": "code",
   "execution_count": 84,
   "id": "fc4a6af8",
   "metadata": {},
   "outputs": [
    {
     "data": {
      "text/plain": [
       "Country(ordependency)    False\n",
       "Population(2020)         False\n",
       "YearlyChange             False\n",
       "NetChange                False\n",
       "Density(P/Km²)           False\n",
       "LandArea(Km²)            False\n",
       "Migrants(net)            False\n",
       "Fert.Rate                 True\n",
       "Med.Age                   True\n",
       "UrbanPop%                 True\n",
       "WorldShare               False\n",
       "dtype: bool"
      ]
     },
     "execution_count": 84,
     "metadata": {},
     "output_type": "execute_result"
    }
   ],
   "source": [
    "(df_pop == 'N.A.').any()"
   ]
  },
  {
   "cell_type": "markdown",
   "id": "5ec11923",
   "metadata": {},
   "source": [
    "**Replace the N.A. values with zero too**"
   ]
  },
  {
   "cell_type": "code",
   "execution_count": 85,
   "id": "bfbd1648",
   "metadata": {},
   "outputs": [],
   "source": [
    "df_pop.replace('N.A.',0,inplace=True)"
   ]
  },
  {
   "cell_type": "code",
   "execution_count": 86,
   "id": "ba6db0ed",
   "metadata": {},
   "outputs": [
    {
     "data": {
      "text/html": [
       "<div>\n",
       "<style scoped>\n",
       "    .dataframe tbody tr th:only-of-type {\n",
       "        vertical-align: middle;\n",
       "    }\n",
       "\n",
       "    .dataframe tbody tr th {\n",
       "        vertical-align: top;\n",
       "    }\n",
       "\n",
       "    .dataframe thead th {\n",
       "        text-align: right;\n",
       "    }\n",
       "</style>\n",
       "<table border=\"1\" class=\"dataframe\">\n",
       "  <thead>\n",
       "    <tr style=\"text-align: right;\">\n",
       "      <th></th>\n",
       "      <th>Country(ordependency)</th>\n",
       "      <th>Population(2020)</th>\n",
       "      <th>YearlyChange</th>\n",
       "      <th>NetChange</th>\n",
       "      <th>Density(P/Km²)</th>\n",
       "      <th>LandArea(Km²)</th>\n",
       "      <th>Migrants(net)</th>\n",
       "      <th>Fert.Rate</th>\n",
       "      <th>Med.Age</th>\n",
       "      <th>UrbanPop%</th>\n",
       "      <th>WorldShare</th>\n",
       "    </tr>\n",
       "  </thead>\n",
       "  <tbody>\n",
       "    <tr>\n",
       "      <th>230</th>\n",
       "      <td>Montserrat</td>\n",
       "      <td>4993</td>\n",
       "      <td>0.06 %</td>\n",
       "      <td>3</td>\n",
       "      <td>50</td>\n",
       "      <td>100</td>\n",
       "      <td>0.0</td>\n",
       "      <td>0</td>\n",
       "      <td>0</td>\n",
       "      <td>10 %</td>\n",
       "      <td>0.00 %</td>\n",
       "    </tr>\n",
       "    <tr>\n",
       "      <th>231</th>\n",
       "      <td>Falkland Islands</td>\n",
       "      <td>3497</td>\n",
       "      <td>3.05 %</td>\n",
       "      <td>103</td>\n",
       "      <td>0</td>\n",
       "      <td>12170</td>\n",
       "      <td>0.0</td>\n",
       "      <td>0</td>\n",
       "      <td>0</td>\n",
       "      <td>66 %</td>\n",
       "      <td>0.00 %</td>\n",
       "    </tr>\n",
       "    <tr>\n",
       "      <th>232</th>\n",
       "      <td>Niue</td>\n",
       "      <td>1628</td>\n",
       "      <td>0.68 %</td>\n",
       "      <td>11</td>\n",
       "      <td>6</td>\n",
       "      <td>260</td>\n",
       "      <td>0.0</td>\n",
       "      <td>0</td>\n",
       "      <td>0</td>\n",
       "      <td>46 %</td>\n",
       "      <td>0.00 %</td>\n",
       "    </tr>\n",
       "    <tr>\n",
       "      <th>233</th>\n",
       "      <td>Tokelau</td>\n",
       "      <td>1360</td>\n",
       "      <td>1.27 %</td>\n",
       "      <td>17</td>\n",
       "      <td>136</td>\n",
       "      <td>10</td>\n",
       "      <td>0.0</td>\n",
       "      <td>0</td>\n",
       "      <td>0</td>\n",
       "      <td>0 %</td>\n",
       "      <td>0.00 %</td>\n",
       "    </tr>\n",
       "    <tr>\n",
       "      <th>234</th>\n",
       "      <td>Holy See</td>\n",
       "      <td>801</td>\n",
       "      <td>0.25 %</td>\n",
       "      <td>2</td>\n",
       "      <td>2003</td>\n",
       "      <td>0</td>\n",
       "      <td>0.0</td>\n",
       "      <td>0</td>\n",
       "      <td>0</td>\n",
       "      <td>0</td>\n",
       "      <td>0.00 %</td>\n",
       "    </tr>\n",
       "  </tbody>\n",
       "</table>\n",
       "</div>"
      ],
      "text/plain": [
       "    Country(ordependency)  Population(2020) YearlyChange  NetChange  \\\n",
       "230            Montserrat              4993       0.06 %          3   \n",
       "231      Falkland Islands              3497       3.05 %        103   \n",
       "232                  Niue              1628       0.68 %         11   \n",
       "233               Tokelau              1360       1.27 %         17   \n",
       "234              Holy See               801       0.25 %          2   \n",
       "\n",
       "     Density(P/Km²)  LandArea(Km²)  Migrants(net) Fert.Rate Med.Age UrbanPop%  \\\n",
       "230              50            100            0.0         0       0      10 %   \n",
       "231               0          12170            0.0         0       0      66 %   \n",
       "232               6            260            0.0         0       0      46 %   \n",
       "233             136             10            0.0         0       0       0 %   \n",
       "234            2003              0            0.0         0       0         0   \n",
       "\n",
       "    WorldShare  \n",
       "230     0.00 %  \n",
       "231     0.00 %  \n",
       "232     0.00 %  \n",
       "233     0.00 %  \n",
       "234     0.00 %  "
      ]
     },
     "execution_count": 86,
     "metadata": {},
     "output_type": "execute_result"
    }
   ],
   "source": [
    "df_pop.tail()"
   ]
  },
  {
   "cell_type": "code",
   "execution_count": 87,
   "id": "621bc314",
   "metadata": {},
   "outputs": [
    {
     "data": {
      "text/plain": [
       "Country(ordependency)    False\n",
       "Population(2020)         False\n",
       "YearlyChange             False\n",
       "NetChange                False\n",
       "Density(P/Km²)           False\n",
       "LandArea(Km²)            False\n",
       "Migrants(net)            False\n",
       "Fert.Rate                False\n",
       "Med.Age                  False\n",
       "UrbanPop%                False\n",
       "WorldShare               False\n",
       "dtype: bool"
      ]
     },
     "execution_count": 87,
     "metadata": {},
     "output_type": "execute_result"
    }
   ],
   "source": [
    "(df_pop == 'N.A.').any()"
   ]
  },
  {
   "cell_type": "code",
   "execution_count": 88,
   "id": "f14463ad",
   "metadata": {},
   "outputs": [
    {
     "data": {
      "text/html": [
       "<div>\n",
       "<style scoped>\n",
       "    .dataframe tbody tr th:only-of-type {\n",
       "        vertical-align: middle;\n",
       "    }\n",
       "\n",
       "    .dataframe tbody tr th {\n",
       "        vertical-align: top;\n",
       "    }\n",
       "\n",
       "    .dataframe thead th {\n",
       "        text-align: right;\n",
       "    }\n",
       "</style>\n",
       "<table border=\"1\" class=\"dataframe\">\n",
       "  <thead>\n",
       "    <tr style=\"text-align: right;\">\n",
       "      <th></th>\n",
       "      <th>Country(ordependency)</th>\n",
       "      <th>Population(2020)</th>\n",
       "      <th>YearlyChange</th>\n",
       "      <th>NetChange</th>\n",
       "      <th>Density(P/Km²)</th>\n",
       "      <th>LandArea(Km²)</th>\n",
       "      <th>Migrants(net)</th>\n",
       "      <th>Fert.Rate</th>\n",
       "      <th>Med.Age</th>\n",
       "      <th>UrbanPop%</th>\n",
       "      <th>WorldShare</th>\n",
       "    </tr>\n",
       "  </thead>\n",
       "  <tbody>\n",
       "    <tr>\n",
       "      <th>0</th>\n",
       "      <td>China</td>\n",
       "      <td>1440297825</td>\n",
       "      <td>0.39 %</td>\n",
       "      <td>5540090</td>\n",
       "      <td>153</td>\n",
       "      <td>9388211</td>\n",
       "      <td>-348399.0</td>\n",
       "      <td>1.7</td>\n",
       "      <td>38</td>\n",
       "      <td>61 %</td>\n",
       "      <td>18.47 %</td>\n",
       "    </tr>\n",
       "    <tr>\n",
       "      <th>1</th>\n",
       "      <td>India</td>\n",
       "      <td>1382345085</td>\n",
       "      <td>0.99 %</td>\n",
       "      <td>13586631</td>\n",
       "      <td>464</td>\n",
       "      <td>2973190</td>\n",
       "      <td>-532687.0</td>\n",
       "      <td>2.2</td>\n",
       "      <td>28</td>\n",
       "      <td>35 %</td>\n",
       "      <td>17.70 %</td>\n",
       "    </tr>\n",
       "    <tr>\n",
       "      <th>2</th>\n",
       "      <td>United States</td>\n",
       "      <td>331341050</td>\n",
       "      <td>0.59 %</td>\n",
       "      <td>1937734</td>\n",
       "      <td>36</td>\n",
       "      <td>9147420</td>\n",
       "      <td>954806.0</td>\n",
       "      <td>1.8</td>\n",
       "      <td>38</td>\n",
       "      <td>83 %</td>\n",
       "      <td>4.25 %</td>\n",
       "    </tr>\n",
       "    <tr>\n",
       "      <th>3</th>\n",
       "      <td>Indonesia</td>\n",
       "      <td>274021604</td>\n",
       "      <td>1.07 %</td>\n",
       "      <td>2898047</td>\n",
       "      <td>151</td>\n",
       "      <td>1811570</td>\n",
       "      <td>-98955.0</td>\n",
       "      <td>2.3</td>\n",
       "      <td>30</td>\n",
       "      <td>56 %</td>\n",
       "      <td>3.51 %</td>\n",
       "    </tr>\n",
       "    <tr>\n",
       "      <th>4</th>\n",
       "      <td>Pakistan</td>\n",
       "      <td>221612785</td>\n",
       "      <td>2.00 %</td>\n",
       "      <td>4327022</td>\n",
       "      <td>287</td>\n",
       "      <td>770880</td>\n",
       "      <td>-233379.0</td>\n",
       "      <td>3.6</td>\n",
       "      <td>23</td>\n",
       "      <td>35 %</td>\n",
       "      <td>2.83 %</td>\n",
       "    </tr>\n",
       "  </tbody>\n",
       "</table>\n",
       "</div>"
      ],
      "text/plain": [
       "  Country(ordependency)  Population(2020) YearlyChange  NetChange  \\\n",
       "0                 China        1440297825       0.39 %    5540090   \n",
       "1                 India        1382345085       0.99 %   13586631   \n",
       "2         United States         331341050       0.59 %    1937734   \n",
       "3             Indonesia         274021604       1.07 %    2898047   \n",
       "4              Pakistan         221612785       2.00 %    4327022   \n",
       "\n",
       "   Density(P/Km²)  LandArea(Km²)  Migrants(net) Fert.Rate Med.Age UrbanPop%  \\\n",
       "0             153        9388211      -348399.0       1.7      38      61 %   \n",
       "1             464        2973190      -532687.0       2.2      28      35 %   \n",
       "2              36        9147420       954806.0       1.8      38      83 %   \n",
       "3             151        1811570       -98955.0       2.3      30      56 %   \n",
       "4             287         770880      -233379.0       3.6      23      35 %   \n",
       "\n",
       "  WorldShare  \n",
       "0    18.47 %  \n",
       "1    17.70 %  \n",
       "2     4.25 %  \n",
       "3     3.51 %  \n",
       "4     2.83 %  "
      ]
     },
     "execution_count": 88,
     "metadata": {},
     "output_type": "execute_result"
    }
   ],
   "source": [
    "df_pop.head()"
   ]
  },
  {
   "cell_type": "markdown",
   "id": "f927d6ee",
   "metadata": {},
   "source": [
    "--------------------------------------------------------------------------------------------------------------------------"
   ]
  },
  {
   "cell_type": "markdown",
   "id": "846c86a5",
   "metadata": {},
   "source": [
    "## Findings"
   ]
  },
  {
   "cell_type": "markdown",
   "id": "6cd38d7a",
   "metadata": {},
   "source": [
    "These our findings using the clean files"
   ]
  },
  {
   "cell_type": "markdown",
   "id": "62182b8f",
   "metadata": {},
   "source": [
    "### Updated - Insight 1: How Does GDP play a part in the Olympics?"
   ]
  },
  {
   "cell_type": "markdown",
   "id": "2248ada7",
   "metadata": {},
   "source": [
    "### After the presentation we took your feedback into consideration, in this case we decided to further invetigate and find a more interesting finding using GDP and find what are the correalations with the Olympics. "
   ]
  },
  {
   "cell_type": "markdown",
   "id": "def211bd",
   "metadata": {},
   "source": [
    "As we delved deep into the data, we were curious about the realtionship between the country GDP and how the Olympics play a part."
   ]
  },
  {
   "cell_type": "markdown",
   "id": "ec5bf5db",
   "metadata": {},
   "source": [
    "It is a general assumption that the more developed a country is the higher chance of the medal_count. So we started with medal count to see if there is a correlation. "
   ]
  },
  {
   "cell_type": "markdown",
   "id": "dd02b171",
   "metadata": {},
   "source": [
    "#### Check what is in the GDP dataset "
   ]
  },
  {
   "cell_type": "code",
   "execution_count": 89,
   "id": "5f593302",
   "metadata": {},
   "outputs": [
    {
     "data": {
      "text/html": [
       "<div>\n",
       "<style scoped>\n",
       "    .dataframe tbody tr th:only-of-type {\n",
       "        vertical-align: middle;\n",
       "    }\n",
       "\n",
       "    .dataframe tbody tr th {\n",
       "        vertical-align: top;\n",
       "    }\n",
       "\n",
       "    .dataframe thead th {\n",
       "        text-align: right;\n",
       "    }\n",
       "</style>\n",
       "<table border=\"1\" class=\"dataframe\">\n",
       "  <thead>\n",
       "    <tr style=\"text-align: right;\">\n",
       "      <th></th>\n",
       "      <th>Country</th>\n",
       "      <th>Country Code</th>\n",
       "      <th>1990</th>\n",
       "      <th>1991</th>\n",
       "      <th>1992</th>\n",
       "      <th>1993</th>\n",
       "      <th>1994</th>\n",
       "      <th>1995</th>\n",
       "      <th>1996</th>\n",
       "      <th>1997</th>\n",
       "      <th>...</th>\n",
       "      <th>2009</th>\n",
       "      <th>2010</th>\n",
       "      <th>2011</th>\n",
       "      <th>2012</th>\n",
       "      <th>2013</th>\n",
       "      <th>2014</th>\n",
       "      <th>2015</th>\n",
       "      <th>2016</th>\n",
       "      <th>2017</th>\n",
       "      <th>2018</th>\n",
       "    </tr>\n",
       "  </thead>\n",
       "  <tbody>\n",
       "    <tr>\n",
       "      <th>0</th>\n",
       "      <td>Aruba</td>\n",
       "      <td>ABW</td>\n",
       "      <td>24101.11</td>\n",
       "      <td>25870.76</td>\n",
       "      <td>26533.34</td>\n",
       "      <td>27430.75</td>\n",
       "      <td>28656.52</td>\n",
       "      <td>28648.99</td>\n",
       "      <td>28499.09</td>\n",
       "      <td>30215.95</td>\n",
       "      <td>...</td>\n",
       "      <td>34693.09</td>\n",
       "      <td>33732.85</td>\n",
       "      <td>35492.62</td>\n",
       "      <td>35498.98</td>\n",
       "      <td>37419.89</td>\n",
       "      <td>38223.37</td>\n",
       "      <td>38249.05</td>\n",
       "      <td>38390.27</td>\n",
       "      <td>39454.63</td>\n",
       "      <td>0.00</td>\n",
       "    </tr>\n",
       "    <tr>\n",
       "      <th>1</th>\n",
       "      <td>Afghanistan</td>\n",
       "      <td>AFG</td>\n",
       "      <td>0.00</td>\n",
       "      <td>0.00</td>\n",
       "      <td>0.00</td>\n",
       "      <td>0.00</td>\n",
       "      <td>0.00</td>\n",
       "      <td>0.00</td>\n",
       "      <td>0.00</td>\n",
       "      <td>0.00</td>\n",
       "      <td>...</td>\n",
       "      <td>1454.66</td>\n",
       "      <td>1637.38</td>\n",
       "      <td>1626.76</td>\n",
       "      <td>1806.76</td>\n",
       "      <td>1874.77</td>\n",
       "      <td>1897.53</td>\n",
       "      <td>1886.69</td>\n",
       "      <td>1896.99</td>\n",
       "      <td>1934.64</td>\n",
       "      <td>1955.01</td>\n",
       "    </tr>\n",
       "  </tbody>\n",
       "</table>\n",
       "<p>2 rows × 31 columns</p>\n",
       "</div>"
      ],
      "text/plain": [
       "       Country Country Code      1990      1991      1992      1993      1994  \\\n",
       "0        Aruba          ABW  24101.11  25870.76  26533.34  27430.75  28656.52   \n",
       "1  Afghanistan          AFG      0.00      0.00      0.00      0.00      0.00   \n",
       "\n",
       "       1995      1996      1997  ...      2009      2010      2011      2012  \\\n",
       "0  28648.99  28499.09  30215.95  ...  34693.09  33732.85  35492.62  35498.98   \n",
       "1      0.00      0.00      0.00  ...   1454.66   1637.38   1626.76   1806.76   \n",
       "\n",
       "       2013      2014      2015      2016      2017     2018  \n",
       "0  37419.89  38223.37  38249.05  38390.27  39454.63     0.00  \n",
       "1   1874.77   1897.53   1886.69   1896.99   1934.64  1955.01  \n",
       "\n",
       "[2 rows x 31 columns]"
      ]
     },
     "execution_count": 89,
     "metadata": {},
     "output_type": "execute_result"
    }
   ],
   "source": [
    "df_gdp.head(2)"
   ]
  },
  {
   "cell_type": "markdown",
   "id": "dbe8dd19",
   "metadata": {},
   "source": [
    "#### Check what is in the medals dataset"
   ]
  },
  {
   "cell_type": "code",
   "execution_count": 90,
   "id": "ba8fed69",
   "metadata": {},
   "outputs": [
    {
     "data": {
      "text/html": [
       "<div>\n",
       "<style scoped>\n",
       "    .dataframe tbody tr th:only-of-type {\n",
       "        vertical-align: middle;\n",
       "    }\n",
       "\n",
       "    .dataframe tbody tr th {\n",
       "        vertical-align: top;\n",
       "    }\n",
       "\n",
       "    .dataframe thead th {\n",
       "        text-align: right;\n",
       "    }\n",
       "</style>\n",
       "<table border=\"1\" class=\"dataframe\">\n",
       "  <thead>\n",
       "    <tr style=\"text-align: right;\">\n",
       "      <th></th>\n",
       "      <th>medal_type</th>\n",
       "      <th>year</th>\n",
       "      <th>athlete_name</th>\n",
       "      <th>athlete_sex</th>\n",
       "      <th>event</th>\n",
       "      <th>country</th>\n",
       "      <th>discipline</th>\n",
       "    </tr>\n",
       "  </thead>\n",
       "  <tbody>\n",
       "    <tr>\n",
       "      <th>0</th>\n",
       "      <td>Bronze Medal</td>\n",
       "      <td>2021</td>\n",
       "      <td>ALVAREZ Santiago</td>\n",
       "      <td>Male</td>\n",
       "      <td>Men</td>\n",
       "      <td>Argentina</td>\n",
       "      <td>Rugby Sevens</td>\n",
       "    </tr>\n",
       "    <tr>\n",
       "      <th>1</th>\n",
       "      <td>Bronze Medal</td>\n",
       "      <td>2021</td>\n",
       "      <td>BAZAN VELEZ Lautaro</td>\n",
       "      <td>Male</td>\n",
       "      <td>Men</td>\n",
       "      <td>Argentina</td>\n",
       "      <td>Rugby Sevens</td>\n",
       "    </tr>\n",
       "  </tbody>\n",
       "</table>\n",
       "</div>"
      ],
      "text/plain": [
       "     medal_type  year         athlete_name athlete_sex event    country  \\\n",
       "0  Bronze Medal  2021     ALVAREZ Santiago        Male   Men  Argentina   \n",
       "1  Bronze Medal  2021  BAZAN VELEZ Lautaro        Male   Men  Argentina   \n",
       "\n",
       "     discipline  \n",
       "0  Rugby Sevens  \n",
       "1  Rugby Sevens  "
      ]
     },
     "execution_count": 90,
     "metadata": {},
     "output_type": "execute_result"
    }
   ],
   "source": [
    "df_m.head(2)"
   ]
  },
  {
   "cell_type": "markdown",
   "id": "9923e9d3",
   "metadata": {},
   "source": [
    "#### Now the common columns are country for both GDP and medals, hence we can merge with countries for both dataframes."
   ]
  },
  {
   "cell_type": "code",
   "execution_count": 91,
   "id": "31ffcb48",
   "metadata": {},
   "outputs": [],
   "source": [
    "df_gdp_medal = df_m.merge(df_gdp,left_on='country',right_on='Country')"
   ]
  },
  {
   "cell_type": "code",
   "execution_count": 92,
   "id": "7672b031",
   "metadata": {},
   "outputs": [
    {
     "data": {
      "text/html": [
       "<div>\n",
       "<style scoped>\n",
       "    .dataframe tbody tr th:only-of-type {\n",
       "        vertical-align: middle;\n",
       "    }\n",
       "\n",
       "    .dataframe tbody tr th {\n",
       "        vertical-align: top;\n",
       "    }\n",
       "\n",
       "    .dataframe thead th {\n",
       "        text-align: right;\n",
       "    }\n",
       "</style>\n",
       "<table border=\"1\" class=\"dataframe\">\n",
       "  <thead>\n",
       "    <tr style=\"text-align: right;\">\n",
       "      <th></th>\n",
       "      <th>medal_type</th>\n",
       "      <th>year</th>\n",
       "      <th>athlete_name</th>\n",
       "      <th>athlete_sex</th>\n",
       "      <th>event</th>\n",
       "      <th>country</th>\n",
       "      <th>discipline</th>\n",
       "      <th>Country</th>\n",
       "      <th>Country Code</th>\n",
       "      <th>1990</th>\n",
       "      <th>...</th>\n",
       "      <th>2009</th>\n",
       "      <th>2010</th>\n",
       "      <th>2011</th>\n",
       "      <th>2012</th>\n",
       "      <th>2013</th>\n",
       "      <th>2014</th>\n",
       "      <th>2015</th>\n",
       "      <th>2016</th>\n",
       "      <th>2017</th>\n",
       "      <th>2018</th>\n",
       "    </tr>\n",
       "  </thead>\n",
       "  <tbody>\n",
       "    <tr>\n",
       "      <th>0</th>\n",
       "      <td>Bronze Medal</td>\n",
       "      <td>2021</td>\n",
       "      <td>ALVAREZ Santiago</td>\n",
       "      <td>Male</td>\n",
       "      <td>Men</td>\n",
       "      <td>Argentina</td>\n",
       "      <td>Rugby Sevens</td>\n",
       "      <td>Argentina</td>\n",
       "      <td>ARG</td>\n",
       "      <td>7380.12</td>\n",
       "      <td>...</td>\n",
       "      <td>16753.39</td>\n",
       "      <td>18524.86</td>\n",
       "      <td>19817.45</td>\n",
       "      <td>19764.23</td>\n",
       "      <td>20365.61</td>\n",
       "      <td>20008.32</td>\n",
       "      <td>20551.83</td>\n",
       "      <td>20130.41</td>\n",
       "      <td>20843.16</td>\n",
       "      <td>20610.57</td>\n",
       "    </tr>\n",
       "    <tr>\n",
       "      <th>1</th>\n",
       "      <td>Bronze Medal</td>\n",
       "      <td>2021</td>\n",
       "      <td>BAZAN VELEZ Lautaro</td>\n",
       "      <td>Male</td>\n",
       "      <td>Men</td>\n",
       "      <td>Argentina</td>\n",
       "      <td>Rugby Sevens</td>\n",
       "      <td>Argentina</td>\n",
       "      <td>ARG</td>\n",
       "      <td>7380.12</td>\n",
       "      <td>...</td>\n",
       "      <td>16753.39</td>\n",
       "      <td>18524.86</td>\n",
       "      <td>19817.45</td>\n",
       "      <td>19764.23</td>\n",
       "      <td>20365.61</td>\n",
       "      <td>20008.32</td>\n",
       "      <td>20551.83</td>\n",
       "      <td>20130.41</td>\n",
       "      <td>20843.16</td>\n",
       "      <td>20610.57</td>\n",
       "    </tr>\n",
       "    <tr>\n",
       "      <th>2</th>\n",
       "      <td>Bronze Medal</td>\n",
       "      <td>2021</td>\n",
       "      <td>del MESTRE Felipe</td>\n",
       "      <td>Male</td>\n",
       "      <td>Men</td>\n",
       "      <td>Argentina</td>\n",
       "      <td>Rugby Sevens</td>\n",
       "      <td>Argentina</td>\n",
       "      <td>ARG</td>\n",
       "      <td>7380.12</td>\n",
       "      <td>...</td>\n",
       "      <td>16753.39</td>\n",
       "      <td>18524.86</td>\n",
       "      <td>19817.45</td>\n",
       "      <td>19764.23</td>\n",
       "      <td>20365.61</td>\n",
       "      <td>20008.32</td>\n",
       "      <td>20551.83</td>\n",
       "      <td>20130.41</td>\n",
       "      <td>20843.16</td>\n",
       "      <td>20610.57</td>\n",
       "    </tr>\n",
       "    <tr>\n",
       "      <th>3</th>\n",
       "      <td>Bronze Medal</td>\n",
       "      <td>2021</td>\n",
       "      <td>OSADCZUK Matias</td>\n",
       "      <td>Male</td>\n",
       "      <td>Men</td>\n",
       "      <td>Argentina</td>\n",
       "      <td>Rugby Sevens</td>\n",
       "      <td>Argentina</td>\n",
       "      <td>ARG</td>\n",
       "      <td>7380.12</td>\n",
       "      <td>...</td>\n",
       "      <td>16753.39</td>\n",
       "      <td>18524.86</td>\n",
       "      <td>19817.45</td>\n",
       "      <td>19764.23</td>\n",
       "      <td>20365.61</td>\n",
       "      <td>20008.32</td>\n",
       "      <td>20551.83</td>\n",
       "      <td>20130.41</td>\n",
       "      <td>20843.16</td>\n",
       "      <td>20610.57</td>\n",
       "    </tr>\n",
       "    <tr>\n",
       "      <th>4</th>\n",
       "      <td>Bronze Medal</td>\n",
       "      <td>2021</td>\n",
       "      <td>ETCHART Rodrigo</td>\n",
       "      <td>Male</td>\n",
       "      <td>Men</td>\n",
       "      <td>Argentina</td>\n",
       "      <td>Rugby Sevens</td>\n",
       "      <td>Argentina</td>\n",
       "      <td>ARG</td>\n",
       "      <td>7380.12</td>\n",
       "      <td>...</td>\n",
       "      <td>16753.39</td>\n",
       "      <td>18524.86</td>\n",
       "      <td>19817.45</td>\n",
       "      <td>19764.23</td>\n",
       "      <td>20365.61</td>\n",
       "      <td>20008.32</td>\n",
       "      <td>20551.83</td>\n",
       "      <td>20130.41</td>\n",
       "      <td>20843.16</td>\n",
       "      <td>20610.57</td>\n",
       "    </tr>\n",
       "  </tbody>\n",
       "</table>\n",
       "<p>5 rows × 38 columns</p>\n",
       "</div>"
      ],
      "text/plain": [
       "     medal_type  year         athlete_name athlete_sex event    country  \\\n",
       "0  Bronze Medal  2021     ALVAREZ Santiago        Male   Men  Argentina   \n",
       "1  Bronze Medal  2021  BAZAN VELEZ Lautaro        Male   Men  Argentina   \n",
       "2  Bronze Medal  2021    del MESTRE Felipe        Male   Men  Argentina   \n",
       "3  Bronze Medal  2021      OSADCZUK Matias        Male   Men  Argentina   \n",
       "4  Bronze Medal  2021      ETCHART Rodrigo        Male   Men  Argentina   \n",
       "\n",
       "     discipline    Country Country Code     1990  ...      2009      2010  \\\n",
       "0  Rugby Sevens  Argentina          ARG  7380.12  ...  16753.39  18524.86   \n",
       "1  Rugby Sevens  Argentina          ARG  7380.12  ...  16753.39  18524.86   \n",
       "2  Rugby Sevens  Argentina          ARG  7380.12  ...  16753.39  18524.86   \n",
       "3  Rugby Sevens  Argentina          ARG  7380.12  ...  16753.39  18524.86   \n",
       "4  Rugby Sevens  Argentina          ARG  7380.12  ...  16753.39  18524.86   \n",
       "\n",
       "       2011      2012      2013      2014      2015      2016      2017  \\\n",
       "0  19817.45  19764.23  20365.61  20008.32  20551.83  20130.41  20843.16   \n",
       "1  19817.45  19764.23  20365.61  20008.32  20551.83  20130.41  20843.16   \n",
       "2  19817.45  19764.23  20365.61  20008.32  20551.83  20130.41  20843.16   \n",
       "3  19817.45  19764.23  20365.61  20008.32  20551.83  20130.41  20843.16   \n",
       "4  19817.45  19764.23  20365.61  20008.32  20551.83  20130.41  20843.16   \n",
       "\n",
       "       2018  \n",
       "0  20610.57  \n",
       "1  20610.57  \n",
       "2  20610.57  \n",
       "3  20610.57  \n",
       "4  20610.57  \n",
       "\n",
       "[5 rows x 38 columns]"
      ]
     },
     "execution_count": 92,
     "metadata": {},
     "output_type": "execute_result"
    }
   ],
   "source": [
    "df_gdp_medal.head()"
   ]
  },
  {
   "cell_type": "markdown",
   "id": "8d24375b",
   "metadata": {},
   "source": [
    "#### Next, we want to tally the medals by country so let's make a dummy column with a binary of medal present or not. "
   ]
  },
  {
   "cell_type": "code",
   "execution_count": 93,
   "id": "d048107c",
   "metadata": {},
   "outputs": [],
   "source": [
    "df_gdp_medal.loc[df_gdp_medal['medal_type'] == 'Gold Medal', 'medal_present'] = 1.0\n",
    "df_gdp_medal.loc[df_gdp_medal['medal_type'] == 'Silver Medal', 'medal_present'] = 1.0\n",
    "df_gdp_medal.loc[df_gdp_medal['medal_type'] == 'Bronze Medal', 'medal_present'] = 1.0"
   ]
  },
  {
   "cell_type": "code",
   "execution_count": 94,
   "id": "36cccac5",
   "metadata": {},
   "outputs": [
    {
     "data": {
      "text/html": [
       "<div>\n",
       "<style scoped>\n",
       "    .dataframe tbody tr th:only-of-type {\n",
       "        vertical-align: middle;\n",
       "    }\n",
       "\n",
       "    .dataframe tbody tr th {\n",
       "        vertical-align: top;\n",
       "    }\n",
       "\n",
       "    .dataframe thead th {\n",
       "        text-align: right;\n",
       "    }\n",
       "</style>\n",
       "<table border=\"1\" class=\"dataframe\">\n",
       "  <thead>\n",
       "    <tr style=\"text-align: right;\">\n",
       "      <th></th>\n",
       "      <th>medal_type</th>\n",
       "      <th>year</th>\n",
       "      <th>athlete_name</th>\n",
       "      <th>athlete_sex</th>\n",
       "      <th>event</th>\n",
       "      <th>country</th>\n",
       "      <th>discipline</th>\n",
       "      <th>Country</th>\n",
       "      <th>Country Code</th>\n",
       "      <th>1990</th>\n",
       "      <th>...</th>\n",
       "      <th>2010</th>\n",
       "      <th>2011</th>\n",
       "      <th>2012</th>\n",
       "      <th>2013</th>\n",
       "      <th>2014</th>\n",
       "      <th>2015</th>\n",
       "      <th>2016</th>\n",
       "      <th>2017</th>\n",
       "      <th>2018</th>\n",
       "      <th>medal_present</th>\n",
       "    </tr>\n",
       "  </thead>\n",
       "  <tbody>\n",
       "    <tr>\n",
       "      <th>0</th>\n",
       "      <td>Bronze Medal</td>\n",
       "      <td>2021</td>\n",
       "      <td>ALVAREZ Santiago</td>\n",
       "      <td>Male</td>\n",
       "      <td>Men</td>\n",
       "      <td>Argentina</td>\n",
       "      <td>Rugby Sevens</td>\n",
       "      <td>Argentina</td>\n",
       "      <td>ARG</td>\n",
       "      <td>7380.12</td>\n",
       "      <td>...</td>\n",
       "      <td>18524.86</td>\n",
       "      <td>19817.45</td>\n",
       "      <td>19764.23</td>\n",
       "      <td>20365.61</td>\n",
       "      <td>20008.32</td>\n",
       "      <td>20551.83</td>\n",
       "      <td>20130.41</td>\n",
       "      <td>20843.16</td>\n",
       "      <td>20610.57</td>\n",
       "      <td>1.0</td>\n",
       "    </tr>\n",
       "    <tr>\n",
       "      <th>1</th>\n",
       "      <td>Bronze Medal</td>\n",
       "      <td>2021</td>\n",
       "      <td>BAZAN VELEZ Lautaro</td>\n",
       "      <td>Male</td>\n",
       "      <td>Men</td>\n",
       "      <td>Argentina</td>\n",
       "      <td>Rugby Sevens</td>\n",
       "      <td>Argentina</td>\n",
       "      <td>ARG</td>\n",
       "      <td>7380.12</td>\n",
       "      <td>...</td>\n",
       "      <td>18524.86</td>\n",
       "      <td>19817.45</td>\n",
       "      <td>19764.23</td>\n",
       "      <td>20365.61</td>\n",
       "      <td>20008.32</td>\n",
       "      <td>20551.83</td>\n",
       "      <td>20130.41</td>\n",
       "      <td>20843.16</td>\n",
       "      <td>20610.57</td>\n",
       "      <td>1.0</td>\n",
       "    </tr>\n",
       "    <tr>\n",
       "      <th>2</th>\n",
       "      <td>Bronze Medal</td>\n",
       "      <td>2021</td>\n",
       "      <td>del MESTRE Felipe</td>\n",
       "      <td>Male</td>\n",
       "      <td>Men</td>\n",
       "      <td>Argentina</td>\n",
       "      <td>Rugby Sevens</td>\n",
       "      <td>Argentina</td>\n",
       "      <td>ARG</td>\n",
       "      <td>7380.12</td>\n",
       "      <td>...</td>\n",
       "      <td>18524.86</td>\n",
       "      <td>19817.45</td>\n",
       "      <td>19764.23</td>\n",
       "      <td>20365.61</td>\n",
       "      <td>20008.32</td>\n",
       "      <td>20551.83</td>\n",
       "      <td>20130.41</td>\n",
       "      <td>20843.16</td>\n",
       "      <td>20610.57</td>\n",
       "      <td>1.0</td>\n",
       "    </tr>\n",
       "    <tr>\n",
       "      <th>3</th>\n",
       "      <td>Bronze Medal</td>\n",
       "      <td>2021</td>\n",
       "      <td>OSADCZUK Matias</td>\n",
       "      <td>Male</td>\n",
       "      <td>Men</td>\n",
       "      <td>Argentina</td>\n",
       "      <td>Rugby Sevens</td>\n",
       "      <td>Argentina</td>\n",
       "      <td>ARG</td>\n",
       "      <td>7380.12</td>\n",
       "      <td>...</td>\n",
       "      <td>18524.86</td>\n",
       "      <td>19817.45</td>\n",
       "      <td>19764.23</td>\n",
       "      <td>20365.61</td>\n",
       "      <td>20008.32</td>\n",
       "      <td>20551.83</td>\n",
       "      <td>20130.41</td>\n",
       "      <td>20843.16</td>\n",
       "      <td>20610.57</td>\n",
       "      <td>1.0</td>\n",
       "    </tr>\n",
       "    <tr>\n",
       "      <th>4</th>\n",
       "      <td>Bronze Medal</td>\n",
       "      <td>2021</td>\n",
       "      <td>ETCHART Rodrigo</td>\n",
       "      <td>Male</td>\n",
       "      <td>Men</td>\n",
       "      <td>Argentina</td>\n",
       "      <td>Rugby Sevens</td>\n",
       "      <td>Argentina</td>\n",
       "      <td>ARG</td>\n",
       "      <td>7380.12</td>\n",
       "      <td>...</td>\n",
       "      <td>18524.86</td>\n",
       "      <td>19817.45</td>\n",
       "      <td>19764.23</td>\n",
       "      <td>20365.61</td>\n",
       "      <td>20008.32</td>\n",
       "      <td>20551.83</td>\n",
       "      <td>20130.41</td>\n",
       "      <td>20843.16</td>\n",
       "      <td>20610.57</td>\n",
       "      <td>1.0</td>\n",
       "    </tr>\n",
       "  </tbody>\n",
       "</table>\n",
       "<p>5 rows × 39 columns</p>\n",
       "</div>"
      ],
      "text/plain": [
       "     medal_type  year         athlete_name athlete_sex event    country  \\\n",
       "0  Bronze Medal  2021     ALVAREZ Santiago        Male   Men  Argentina   \n",
       "1  Bronze Medal  2021  BAZAN VELEZ Lautaro        Male   Men  Argentina   \n",
       "2  Bronze Medal  2021    del MESTRE Felipe        Male   Men  Argentina   \n",
       "3  Bronze Medal  2021      OSADCZUK Matias        Male   Men  Argentina   \n",
       "4  Bronze Medal  2021      ETCHART Rodrigo        Male   Men  Argentina   \n",
       "\n",
       "     discipline    Country Country Code     1990  ...      2010      2011  \\\n",
       "0  Rugby Sevens  Argentina          ARG  7380.12  ...  18524.86  19817.45   \n",
       "1  Rugby Sevens  Argentina          ARG  7380.12  ...  18524.86  19817.45   \n",
       "2  Rugby Sevens  Argentina          ARG  7380.12  ...  18524.86  19817.45   \n",
       "3  Rugby Sevens  Argentina          ARG  7380.12  ...  18524.86  19817.45   \n",
       "4  Rugby Sevens  Argentina          ARG  7380.12  ...  18524.86  19817.45   \n",
       "\n",
       "       2012      2013      2014      2015      2016      2017      2018  \\\n",
       "0  19764.23  20365.61  20008.32  20551.83  20130.41  20843.16  20610.57   \n",
       "1  19764.23  20365.61  20008.32  20551.83  20130.41  20843.16  20610.57   \n",
       "2  19764.23  20365.61  20008.32  20551.83  20130.41  20843.16  20610.57   \n",
       "3  19764.23  20365.61  20008.32  20551.83  20130.41  20843.16  20610.57   \n",
       "4  19764.23  20365.61  20008.32  20551.83  20130.41  20843.16  20610.57   \n",
       "\n",
       "   medal_present  \n",
       "0            1.0  \n",
       "1            1.0  \n",
       "2            1.0  \n",
       "3            1.0  \n",
       "4            1.0  \n",
       "\n",
       "[5 rows x 39 columns]"
      ]
     },
     "execution_count": 94,
     "metadata": {},
     "output_type": "execute_result"
    }
   ],
   "source": [
    "df_gdp_medal.head()"
   ]
  },
  {
   "cell_type": "markdown",
   "id": "92098319",
   "metadata": {},
   "source": [
    "#### Save the groupby dataframe with country and the tally for medal count"
   ]
  },
  {
   "cell_type": "code",
   "execution_count": 95,
   "id": "da8f6aac",
   "metadata": {},
   "outputs": [],
   "source": [
    "df_medal_count_by_country = (df_gdp_medal.groupby('country')[['medal_present']].sum())\\\n",
    "                            .sort_values(by='medal_present',ascending=False).\\\n",
    "                            rename(columns={'medal_present':'medal_count'}).reset_index(level='country')\n"
   ]
  },
  {
   "cell_type": "code",
   "execution_count": 96,
   "id": "bba4b6fd",
   "metadata": {},
   "outputs": [
    {
     "data": {
      "text/html": [
       "<div>\n",
       "<style scoped>\n",
       "    .dataframe tbody tr th:only-of-type {\n",
       "        vertical-align: middle;\n",
       "    }\n",
       "\n",
       "    .dataframe tbody tr th {\n",
       "        vertical-align: top;\n",
       "    }\n",
       "\n",
       "    .dataframe thead th {\n",
       "        text-align: right;\n",
       "    }\n",
       "</style>\n",
       "<table border=\"1\" class=\"dataframe\">\n",
       "  <thead>\n",
       "    <tr style=\"text-align: right;\">\n",
       "      <th></th>\n",
       "      <th>country</th>\n",
       "      <th>medal_count</th>\n",
       "    </tr>\n",
       "  </thead>\n",
       "  <tbody>\n",
       "    <tr>\n",
       "      <th>0</th>\n",
       "      <td>United States</td>\n",
       "      <td>296.0</td>\n",
       "    </tr>\n",
       "    <tr>\n",
       "      <th>1</th>\n",
       "      <td>Russian Federation</td>\n",
       "      <td>147.0</td>\n",
       "    </tr>\n",
       "    <tr>\n",
       "      <th>2</th>\n",
       "      <td>China</td>\n",
       "      <td>141.0</td>\n",
       "    </tr>\n",
       "    <tr>\n",
       "      <th>3</th>\n",
       "      <td>France</td>\n",
       "      <td>137.0</td>\n",
       "    </tr>\n",
       "    <tr>\n",
       "      <th>4</th>\n",
       "      <td>Japan</td>\n",
       "      <td>132.0</td>\n",
       "    </tr>\n",
       "  </tbody>\n",
       "</table>\n",
       "</div>"
      ],
      "text/plain": [
       "              country  medal_count\n",
       "0       United States        296.0\n",
       "1  Russian Federation        147.0\n",
       "2               China        141.0\n",
       "3              France        137.0\n",
       "4               Japan        132.0"
      ]
     },
     "execution_count": 96,
     "metadata": {},
     "output_type": "execute_result"
    }
   ],
   "source": [
    "df_medal_count_by_country.head()"
   ]
  },
  {
   "cell_type": "markdown",
   "id": "5b4e40ef",
   "metadata": {},
   "source": [
    "#### Save the groupby dataframe with country and the avg GDP per country (only the past 10 years)"
   ]
  },
  {
   "cell_type": "code",
   "execution_count": 97,
   "id": "3cddc0e8",
   "metadata": {},
   "outputs": [],
   "source": [
    "df_avg_gdp_country = (((df_gdp_medal.groupby('country')[['2009','2010','2011','2012','2013','2014','2015','2016','2017','2018']].mean())\\\n",
    "     .mean(axis=1)).sort_values(ascending=False)).reset_index(level='country').rename(columns={0:'Avg_GDP'})"
   ]
  },
  {
   "cell_type": "code",
   "execution_count": 98,
   "id": "92fb90dc",
   "metadata": {},
   "outputs": [
    {
     "data": {
      "text/html": [
       "<div>\n",
       "<style scoped>\n",
       "    .dataframe tbody tr th:only-of-type {\n",
       "        vertical-align: middle;\n",
       "    }\n",
       "\n",
       "    .dataframe tbody tr th {\n",
       "        vertical-align: top;\n",
       "    }\n",
       "\n",
       "    .dataframe thead th {\n",
       "        text-align: right;\n",
       "    }\n",
       "</style>\n",
       "<table border=\"1\" class=\"dataframe\">\n",
       "  <thead>\n",
       "    <tr style=\"text-align: right;\">\n",
       "      <th></th>\n",
       "      <th>country</th>\n",
       "      <th>Avg_GDP</th>\n",
       "    </tr>\n",
       "  </thead>\n",
       "  <tbody>\n",
       "    <tr>\n",
       "      <th>0</th>\n",
       "      <td>Qatar</td>\n",
       "      <td>121787.910</td>\n",
       "    </tr>\n",
       "    <tr>\n",
       "      <th>1</th>\n",
       "      <td>Kuwait</td>\n",
       "      <td>76174.215</td>\n",
       "    </tr>\n",
       "    <tr>\n",
       "      <th>2</th>\n",
       "      <td>Norway</td>\n",
       "      <td>61922.845</td>\n",
       "    </tr>\n",
       "    <tr>\n",
       "      <th>3</th>\n",
       "      <td>Switzerland</td>\n",
       "      <td>60360.051</td>\n",
       "    </tr>\n",
       "    <tr>\n",
       "      <th>4</th>\n",
       "      <td>San Marino</td>\n",
       "      <td>57730.670</td>\n",
       "    </tr>\n",
       "  </tbody>\n",
       "</table>\n",
       "</div>"
      ],
      "text/plain": [
       "       country     Avg_GDP\n",
       "0        Qatar  121787.910\n",
       "1       Kuwait   76174.215\n",
       "2       Norway   61922.845\n",
       "3  Switzerland   60360.051\n",
       "4   San Marino   57730.670"
      ]
     },
     "execution_count": 98,
     "metadata": {},
     "output_type": "execute_result"
    }
   ],
   "source": [
    "df_avg_gdp_country.head()"
   ]
  },
  {
   "cell_type": "markdown",
   "id": "4c81e2fb",
   "metadata": {},
   "source": [
    "#### Top 5 countries are saved to a variable for seaborn plot"
   ]
  },
  {
   "cell_type": "code",
   "execution_count": 99,
   "id": "0a870c5b",
   "metadata": {},
   "outputs": [],
   "source": [
    "df_top5_gdp =df_avg_gdp_country.head()"
   ]
  },
  {
   "cell_type": "code",
   "execution_count": 100,
   "id": "d9d8a95e",
   "metadata": {},
   "outputs": [
    {
     "data": {
      "text/plain": [
       "0          Qatar\n",
       "1         Kuwait\n",
       "2         Norway\n",
       "3    Switzerland\n",
       "4     San Marino\n",
       "Name: country, dtype: object"
      ]
     },
     "execution_count": 100,
     "metadata": {},
     "output_type": "execute_result"
    }
   ],
   "source": [
    "df_top5_gdp.country"
   ]
  },
  {
   "cell_type": "markdown",
   "id": "7f3c8bfa",
   "metadata": {},
   "source": [
    "#### Now, merge the top 5 avg gdp with the medal count to see if there is a correlation? "
   ]
  },
  {
   "cell_type": "code",
   "execution_count": 101,
   "id": "842a1eac",
   "metadata": {},
   "outputs": [],
   "source": [
    "df_top5_gdp_medal_count = df_top5_gdp.merge(df_medal_count_by_country, left_on = 'country', right_on='country',how='left')"
   ]
  },
  {
   "cell_type": "code",
   "execution_count": 102,
   "id": "40aba5c7",
   "metadata": {},
   "outputs": [
    {
     "data": {
      "text/html": [
       "<div>\n",
       "<style scoped>\n",
       "    .dataframe tbody tr th:only-of-type {\n",
       "        vertical-align: middle;\n",
       "    }\n",
       "\n",
       "    .dataframe tbody tr th {\n",
       "        vertical-align: top;\n",
       "    }\n",
       "\n",
       "    .dataframe thead th {\n",
       "        text-align: right;\n",
       "    }\n",
       "</style>\n",
       "<table border=\"1\" class=\"dataframe\">\n",
       "  <thead>\n",
       "    <tr style=\"text-align: right;\">\n",
       "      <th></th>\n",
       "      <th>country</th>\n",
       "      <th>Avg_GDP</th>\n",
       "      <th>medal_count</th>\n",
       "    </tr>\n",
       "  </thead>\n",
       "  <tbody>\n",
       "    <tr>\n",
       "      <th>0</th>\n",
       "      <td>Qatar</td>\n",
       "      <td>121787.910</td>\n",
       "      <td>4.0</td>\n",
       "    </tr>\n",
       "    <tr>\n",
       "      <th>1</th>\n",
       "      <td>Kuwait</td>\n",
       "      <td>76174.215</td>\n",
       "      <td>1.0</td>\n",
       "    </tr>\n",
       "    <tr>\n",
       "      <th>2</th>\n",
       "      <td>Norway</td>\n",
       "      <td>61922.845</td>\n",
       "      <td>23.0</td>\n",
       "    </tr>\n",
       "    <tr>\n",
       "      <th>3</th>\n",
       "      <td>Switzerland</td>\n",
       "      <td>60360.051</td>\n",
       "      <td>15.0</td>\n",
       "    </tr>\n",
       "    <tr>\n",
       "      <th>4</th>\n",
       "      <td>San Marino</td>\n",
       "      <td>57730.670</td>\n",
       "      <td>4.0</td>\n",
       "    </tr>\n",
       "  </tbody>\n",
       "</table>\n",
       "</div>"
      ],
      "text/plain": [
       "       country     Avg_GDP  medal_count\n",
       "0        Qatar  121787.910          4.0\n",
       "1       Kuwait   76174.215          1.0\n",
       "2       Norway   61922.845         23.0\n",
       "3  Switzerland   60360.051         15.0\n",
       "4   San Marino   57730.670          4.0"
      ]
     },
     "execution_count": 102,
     "metadata": {},
     "output_type": "execute_result"
    }
   ],
   "source": [
    "df_top5_gdp_medal_count.head()"
   ]
  },
  {
   "cell_type": "markdown",
   "id": "9682f7a5",
   "metadata": {},
   "source": [
    "**Let's Visualize!!!!**"
   ]
  },
  {
   "cell_type": "markdown",
   "id": "f18016f4",
   "metadata": {},
   "source": [
    "**Fig 1: Country vs Avg_GDP**"
   ]
  },
  {
   "cell_type": "code",
   "execution_count": 103,
   "id": "e41d4fdc",
   "metadata": {},
   "outputs": [
    {
     "data": {
      "text/plain": [
       "<seaborn.axisgrid.FacetGrid at 0x7fda3925e6a0>"
      ]
     },
     "execution_count": 103,
     "metadata": {},
     "output_type": "execute_result"
    },
    {
     "data": {
      "image/png": "[encoded data removed]",
      "text/plain": [
       "<Figure size 720x360 with 1 Axes>"
      ]
     },
     "metadata": {
      "needs_background": "light"
     },
     "output_type": "display_data"
    }
   ],
   "source": [
    "sns.catplot(x='country', y='Avg_GDP', data=df_top5_gdp_medal_count,kind='bar',aspect=2)"
   ]
  },
  {
   "cell_type": "markdown",
   "id": "ea09f7d7",
   "metadata": {},
   "source": [
    "**Fig 2: Country vs Medal Count**"
   ]
  },
  {
   "cell_type": "code",
   "execution_count": 104,
   "id": "4d18f25e",
   "metadata": {},
   "outputs": [
    {
     "data": {
      "text/plain": [
       "<seaborn.axisgrid.FacetGrid at 0x7fda39265d30>"
      ]
     },
     "execution_count": 104,
     "metadata": {},
     "output_type": "execute_result"
    },
    {
     "data": {
      "image/png": "[encoded data removed]",
      "text/plain": [
       "<Figure size 720x360 with 1 Axes>"
      ]
     },
     "metadata": {
      "needs_background": "light"
     },
     "output_type": "display_data"
    }
   ],
   "source": [
    "sns.catplot(x='country', y='medal_count', data=df_top5_gdp_medal_count,kind='bar',aspect=2)"
   ]
  },
  {
   "cell_type": "markdown",
   "id": "852aa3d7",
   "metadata": {},
   "source": [
    "### **Let's Delve Deeper**"
   ]
  },
  {
   "cell_type": "markdown",
   "id": "f12719b3",
   "metadata": {},
   "source": [
    "#### *UPDATE: Through the above graph it shows that there is no predictiable correlation between the medals won and the GDP of the countries.*\n",
    "### Since we dont know what is correlated with GDP, let's find out!*"
   ]
  },
  {
   "cell_type": "markdown",
   "id": "ecfb3185",
   "metadata": {},
   "source": [
    "#### *We wanted to further delve into what is correlated with the GDP, so we added another attribute population as per the suggestion of the Professor.*\n",
    "#### *Adding this attribute contributed to the dataset because not only was the population important in understanding the country but also helps understand the partcipants in the Olympics. So maybe there is a correlation between GDP and partcipants?*"
   ]
  },
  {
   "cell_type": "markdown",
   "id": "69ba8f63",
   "metadata": {},
   "source": [
    "#### We uploaded a file from Kaggle that contains the population of each country"
   ]
  },
  {
   "cell_type": "code",
   "execution_count": 105,
   "id": "0939a32b",
   "metadata": {},
   "outputs": [
    {
     "data": {
      "text/html": [
       "<div>\n",
       "<style scoped>\n",
       "    .dataframe tbody tr th:only-of-type {\n",
       "        vertical-align: middle;\n",
       "    }\n",
       "\n",
       "    .dataframe tbody tr th {\n",
       "        vertical-align: top;\n",
       "    }\n",
       "\n",
       "    .dataframe thead th {\n",
       "        text-align: right;\n",
       "    }\n",
       "</style>\n",
       "<table border=\"1\" class=\"dataframe\">\n",
       "  <thead>\n",
       "    <tr style=\"text-align: right;\">\n",
       "      <th></th>\n",
       "      <th>Country(ordependency)</th>\n",
       "      <th>Population(2020)</th>\n",
       "      <th>YearlyChange</th>\n",
       "      <th>NetChange</th>\n",
       "      <th>Density(P/Km²)</th>\n",
       "      <th>LandArea(Km²)</th>\n",
       "      <th>Migrants(net)</th>\n",
       "      <th>Fert.Rate</th>\n",
       "      <th>Med.Age</th>\n",
       "      <th>UrbanPop%</th>\n",
       "      <th>WorldShare</th>\n",
       "    </tr>\n",
       "  </thead>\n",
       "  <tbody>\n",
       "    <tr>\n",
       "      <th>0</th>\n",
       "      <td>China</td>\n",
       "      <td>1440297825</td>\n",
       "      <td>0.39 %</td>\n",
       "      <td>5540090</td>\n",
       "      <td>153</td>\n",
       "      <td>9388211</td>\n",
       "      <td>-348399.0</td>\n",
       "      <td>1.7</td>\n",
       "      <td>38</td>\n",
       "      <td>61 %</td>\n",
       "      <td>18.47 %</td>\n",
       "    </tr>\n",
       "    <tr>\n",
       "      <th>1</th>\n",
       "      <td>India</td>\n",
       "      <td>1382345085</td>\n",
       "      <td>0.99 %</td>\n",
       "      <td>13586631</td>\n",
       "      <td>464</td>\n",
       "      <td>2973190</td>\n",
       "      <td>-532687.0</td>\n",
       "      <td>2.2</td>\n",
       "      <td>28</td>\n",
       "      <td>35 %</td>\n",
       "      <td>17.70 %</td>\n",
       "    </tr>\n",
       "    <tr>\n",
       "      <th>2</th>\n",
       "      <td>United States</td>\n",
       "      <td>331341050</td>\n",
       "      <td>0.59 %</td>\n",
       "      <td>1937734</td>\n",
       "      <td>36</td>\n",
       "      <td>9147420</td>\n",
       "      <td>954806.0</td>\n",
       "      <td>1.8</td>\n",
       "      <td>38</td>\n",
       "      <td>83 %</td>\n",
       "      <td>4.25 %</td>\n",
       "    </tr>\n",
       "    <tr>\n",
       "      <th>3</th>\n",
       "      <td>Indonesia</td>\n",
       "      <td>274021604</td>\n",
       "      <td>1.07 %</td>\n",
       "      <td>2898047</td>\n",
       "      <td>151</td>\n",
       "      <td>1811570</td>\n",
       "      <td>-98955.0</td>\n",
       "      <td>2.3</td>\n",
       "      <td>30</td>\n",
       "      <td>56 %</td>\n",
       "      <td>3.51 %</td>\n",
       "    </tr>\n",
       "    <tr>\n",
       "      <th>4</th>\n",
       "      <td>Pakistan</td>\n",
       "      <td>221612785</td>\n",
       "      <td>2.00 %</td>\n",
       "      <td>4327022</td>\n",
       "      <td>287</td>\n",
       "      <td>770880</td>\n",
       "      <td>-233379.0</td>\n",
       "      <td>3.6</td>\n",
       "      <td>23</td>\n",
       "      <td>35 %</td>\n",
       "      <td>2.83 %</td>\n",
       "    </tr>\n",
       "  </tbody>\n",
       "</table>\n",
       "</div>"
      ],
      "text/plain": [
       "  Country(ordependency)  Population(2020) YearlyChange  NetChange  \\\n",
       "0                 China        1440297825       0.39 %    5540090   \n",
       "1                 India        1382345085       0.99 %   13586631   \n",
       "2         United States         331341050       0.59 %    1937734   \n",
       "3             Indonesia         274021604       1.07 %    2898047   \n",
       "4              Pakistan         221612785       2.00 %    4327022   \n",
       "\n",
       "   Density(P/Km²)  LandArea(Km²)  Migrants(net) Fert.Rate Med.Age UrbanPop%  \\\n",
       "0             153        9388211      -348399.0       1.7      38      61 %   \n",
       "1             464        2973190      -532687.0       2.2      28      35 %   \n",
       "2              36        9147420       954806.0       1.8      38      83 %   \n",
       "3             151        1811570       -98955.0       2.3      30      56 %   \n",
       "4             287         770880      -233379.0       3.6      23      35 %   \n",
       "\n",
       "  WorldShare  \n",
       "0    18.47 %  \n",
       "1    17.70 %  \n",
       "2     4.25 %  \n",
       "3     3.51 %  \n",
       "4     2.83 %  "
      ]
     },
     "execution_count": 105,
     "metadata": {},
     "output_type": "execute_result"
    }
   ],
   "source": [
    "df_pop.head()"
   ]
  },
  {
   "cell_type": "markdown",
   "id": "f3f7e888",
   "metadata": {},
   "source": [
    "#### *End Result Dataframe for Analysis : A dataset with the GDP, medal_count, Population,athletes_count in one dataframe :*\n",
    "\n",
    "**To do this we did the following steps below**"
   ]
  },
  {
   "cell_type": "markdown",
   "id": "e492b29a",
   "metadata": {},
   "source": [
    "#### Merged GDP and Medal Count"
   ]
  },
  {
   "cell_type": "code",
   "execution_count": 106,
   "id": "f9f0e8b0",
   "metadata": {},
   "outputs": [],
   "source": [
    "df_aGDP_medalC = df_avg_gdp_country.merge(df_medal_count_by_country, left_on='country',right_on='country')"
   ]
  },
  {
   "cell_type": "markdown",
   "id": "dd851882",
   "metadata": {},
   "source": [
    "#### First groupby in the athletes table to get the number of athletes per country"
   ]
  },
  {
   "cell_type": "code",
   "execution_count": 107,
   "id": "74f99e07",
   "metadata": {},
   "outputs": [],
   "source": [
    "df_a_count = df_a.groupby('country')[['country']].count().rename(columns={'country':'count'}).reset_index(level='country')"
   ]
  },
  {
   "cell_type": "code",
   "execution_count": 108,
   "id": "9ab0559b",
   "metadata": {},
   "outputs": [],
   "source": [
    "df_avgGdp_medal_aCount = df_aGDP_medalC.merge(df_a_count, left_on='country',right_on='country')\\\n",
    "                        .rename(columns={'count':'athlete_count'})"
   ]
  },
  {
   "cell_type": "code",
   "execution_count": 109,
   "id": "e832ab3d",
   "metadata": {},
   "outputs": [],
   "source": [
    "df_avgGdp_medal_aCount_pop =df_avgGdp_medal_aCount.merge(df_pop,left_on='country',right_on='Country(ordependency)')"
   ]
  },
  {
   "cell_type": "markdown",
   "id": "844feb11",
   "metadata": {},
   "source": [
    "**Dropped Unwanted Columns**"
   ]
  },
  {
   "cell_type": "code",
   "execution_count": 110,
   "id": "2b8f2c20",
   "metadata": {},
   "outputs": [],
   "source": [
    "df_avgGdp_medal_aCount_pop.drop(columns=['Country(ordependency)','YearlyChange','NetChange','Density(P/Km²)',\\\n",
    "                                         'LandArea(Km²)','Migrants(net)','Fert.Rate','Med.Age',\\\n",
    "                                         'UrbanPop%','WorldShare'],inplace = True)"
   ]
  },
  {
   "cell_type": "markdown",
   "id": "be9a3914",
   "metadata": {},
   "source": [
    "#### Final Dataframe"
   ]
  },
  {
   "cell_type": "code",
   "execution_count": 111,
   "id": "0d20955e",
   "metadata": {
    "scrolled": false
   },
   "outputs": [
    {
     "data": {
      "text/html": [
       "<div>\n",
       "<style scoped>\n",
       "    .dataframe tbody tr th:only-of-type {\n",
       "        vertical-align: middle;\n",
       "    }\n",
       "\n",
       "    .dataframe tbody tr th {\n",
       "        vertical-align: top;\n",
       "    }\n",
       "\n",
       "    .dataframe thead th {\n",
       "        text-align: right;\n",
       "    }\n",
       "</style>\n",
       "<table border=\"1\" class=\"dataframe\">\n",
       "  <thead>\n",
       "    <tr style=\"text-align: right;\">\n",
       "      <th></th>\n",
       "      <th>country</th>\n",
       "      <th>Avg_GDP</th>\n",
       "      <th>medal_count</th>\n",
       "      <th>athlete_count</th>\n",
       "      <th>Population(2020)</th>\n",
       "    </tr>\n",
       "  </thead>\n",
       "  <tbody>\n",
       "    <tr>\n",
       "      <th>0</th>\n",
       "      <td>Qatar</td>\n",
       "      <td>121787.910</td>\n",
       "      <td>4.0</td>\n",
       "      <td>16</td>\n",
       "      <td>2889284</td>\n",
       "    </tr>\n",
       "    <tr>\n",
       "      <th>1</th>\n",
       "      <td>Kuwait</td>\n",
       "      <td>76174.215</td>\n",
       "      <td>1.0</td>\n",
       "      <td>10</td>\n",
       "      <td>4281320</td>\n",
       "    </tr>\n",
       "    <tr>\n",
       "      <th>2</th>\n",
       "      <td>Norway</td>\n",
       "      <td>61922.845</td>\n",
       "      <td>23.0</td>\n",
       "      <td>93</td>\n",
       "      <td>5428594</td>\n",
       "    </tr>\n",
       "    <tr>\n",
       "      <th>3</th>\n",
       "      <td>Switzerland</td>\n",
       "      <td>60360.051</td>\n",
       "      <td>15.0</td>\n",
       "      <td>116</td>\n",
       "      <td>8665615</td>\n",
       "    </tr>\n",
       "    <tr>\n",
       "      <th>4</th>\n",
       "      <td>San Marino</td>\n",
       "      <td>57730.670</td>\n",
       "      <td>4.0</td>\n",
       "      <td>5</td>\n",
       "      <td>33944</td>\n",
       "    </tr>\n",
       "  </tbody>\n",
       "</table>\n",
       "</div>"
      ],
      "text/plain": [
       "       country     Avg_GDP  medal_count  athlete_count  Population(2020)\n",
       "0        Qatar  121787.910          4.0             16           2889284\n",
       "1       Kuwait   76174.215          1.0             10           4281320\n",
       "2       Norway   61922.845         23.0             93           5428594\n",
       "3  Switzerland   60360.051         15.0            116           8665615\n",
       "4   San Marino   57730.670          4.0              5             33944"
      ]
     },
     "execution_count": 111,
     "metadata": {},
     "output_type": "execute_result"
    }
   ],
   "source": [
    "df_avgGdp_medal_aCount_pop.head()"
   ]
  },
  {
   "cell_type": "markdown",
   "id": "34267d3f",
   "metadata": {},
   "source": [
    "#### *This is the data frame we want to use to make the correlation with regards to the country population*"
   ]
  },
  {
   "cell_type": "markdown",
   "id": "a9d067bb",
   "metadata": {},
   "source": [
    "#### *Calculate Ratios*"
   ]
  },
  {
   "cell_type": "markdown",
   "id": "4bbd82a1",
   "metadata": {},
   "source": [
    "**Add a Dummy Column to compute the ratio of athletes out of the entire country's population**"
   ]
  },
  {
   "cell_type": "code",
   "execution_count": 112,
   "id": "b17df9e6",
   "metadata": {},
   "outputs": [],
   "source": [
    "df_avgGdp_medal_aCount_pop['Country_participation'] = (df_avgGdp_medal_aCount_pop.athlete_count)/\\\n",
    "                                                        (df_avgGdp_medal_aCount_pop['Population(2020)'])"
   ]
  },
  {
   "cell_type": "markdown",
   "id": "138f660b",
   "metadata": {},
   "source": [
    "**Add a Dummy Column to compute the ratio of GDP per capita through the use of the country's population**"
   ]
  },
  {
   "cell_type": "code",
   "execution_count": 113,
   "id": "4a343d7d",
   "metadata": {},
   "outputs": [],
   "source": [
    "df_avgGdp_medal_aCount_pop['GDP_per_capita'] = (df_avgGdp_medal_aCount_pop.Avg_GDP)/\\\n",
    "                                                        (df_avgGdp_medal_aCount_pop['Population(2020)'])"
   ]
  },
  {
   "cell_type": "markdown",
   "id": "5200d5a0",
   "metadata": {},
   "source": [
    "**Finding the correlation for GDP**"
   ]
  },
  {
   "cell_type": "code",
   "execution_count": 114,
   "id": "fdfc4293",
   "metadata": {},
   "outputs": [
    {
     "data": {
      "text/html": [
       "<div>\n",
       "<style scoped>\n",
       "    .dataframe tbody tr th:only-of-type {\n",
       "        vertical-align: middle;\n",
       "    }\n",
       "\n",
       "    .dataframe tbody tr th {\n",
       "        vertical-align: top;\n",
       "    }\n",
       "\n",
       "    .dataframe thead th {\n",
       "        text-align: right;\n",
       "    }\n",
       "</style>\n",
       "<table border=\"1\" class=\"dataframe\">\n",
       "  <thead>\n",
       "    <tr style=\"text-align: right;\">\n",
       "      <th></th>\n",
       "      <th>Avg_GDP</th>\n",
       "      <th>medal_count</th>\n",
       "      <th>athlete_count</th>\n",
       "      <th>Population(2020)</th>\n",
       "      <th>Country_participation</th>\n",
       "      <th>GDP_per_capita</th>\n",
       "    </tr>\n",
       "  </thead>\n",
       "  <tbody>\n",
       "    <tr>\n",
       "      <th>Avg_GDP</th>\n",
       "      <td>1.000000</td>\n",
       "      <td>0.244242</td>\n",
       "      <td>0.240129</td>\n",
       "      <td>-0.183628</td>\n",
       "      <td>0.260263</td>\n",
       "      <td>0.193892</td>\n",
       "    </tr>\n",
       "    <tr>\n",
       "      <th>medal_count</th>\n",
       "      <td>0.244242</td>\n",
       "      <td>1.000000</td>\n",
       "      <td>0.938694</td>\n",
       "      <td>0.073062</td>\n",
       "      <td>0.008757</td>\n",
       "      <td>-0.094077</td>\n",
       "    </tr>\n",
       "    <tr>\n",
       "      <th>athlete_count</th>\n",
       "      <td>0.240129</td>\n",
       "      <td>0.938694</td>\n",
       "      <td>1.000000</td>\n",
       "      <td>0.105564</td>\n",
       "      <td>-0.070970</td>\n",
       "      <td>-0.133594</td>\n",
       "    </tr>\n",
       "    <tr>\n",
       "      <th>Population(2020)</th>\n",
       "      <td>-0.183628</td>\n",
       "      <td>0.073062</td>\n",
       "      <td>0.105564</td>\n",
       "      <td>1.000000</td>\n",
       "      <td>-0.153024</td>\n",
       "      <td>-0.054094</td>\n",
       "    </tr>\n",
       "    <tr>\n",
       "      <th>Country_participation</th>\n",
       "      <td>0.260263</td>\n",
       "      <td>0.008757</td>\n",
       "      <td>-0.070970</td>\n",
       "      <td>-0.153024</td>\n",
       "      <td>1.000000</td>\n",
       "      <td>0.870472</td>\n",
       "    </tr>\n",
       "    <tr>\n",
       "      <th>GDP_per_capita</th>\n",
       "      <td>0.193892</td>\n",
       "      <td>-0.094077</td>\n",
       "      <td>-0.133594</td>\n",
       "      <td>-0.054094</td>\n",
       "      <td>0.870472</td>\n",
       "      <td>1.000000</td>\n",
       "    </tr>\n",
       "  </tbody>\n",
       "</table>\n",
       "</div>"
      ],
      "text/plain": [
       "                        Avg_GDP  medal_count  athlete_count  Population(2020)  \\\n",
       "Avg_GDP                1.000000     0.244242       0.240129         -0.183628   \n",
       "medal_count            0.244242     1.000000       0.938694          0.073062   \n",
       "athlete_count          0.240129     0.938694       1.000000          0.105564   \n",
       "Population(2020)      -0.183628     0.073062       0.105564          1.000000   \n",
       "Country_participation  0.260263     0.008757      -0.070970         -0.153024   \n",
       "GDP_per_capita         0.193892    -0.094077      -0.133594         -0.054094   \n",
       "\n",
       "                       Country_participation  GDP_per_capita  \n",
       "Avg_GDP                             0.260263        0.193892  \n",
       "medal_count                         0.008757       -0.094077  \n",
       "athlete_count                      -0.070970       -0.133594  \n",
       "Population(2020)                   -0.153024       -0.054094  \n",
       "Country_participation               1.000000        0.870472  \n",
       "GDP_per_capita                      0.870472        1.000000  "
      ]
     },
     "execution_count": 114,
     "metadata": {},
     "output_type": "execute_result"
    }
   ],
   "source": [
    "df_avgGdp_medal_aCount_pop.corr()"
   ]
  },
  {
   "cell_type": "markdown",
   "id": "285e27ee",
   "metadata": {},
   "source": [
    "*This provides insight into what are the columns that are correlated to each other. Our target correlation is the Avg_GDP column. In this case the GDP is correlated with medal_count,athlete_count and country_partcipation. But the country_partcipation is higher in comparison to the medal_count and athlete_count.*\n",
    "\n",
    "**Let's validate that with a Visualization in Seaborn**"
   ]
  },
  {
   "cell_type": "markdown",
   "id": "544e8fb9",
   "metadata": {},
   "source": [
    "#### Binned the Country_Partcipation into 3 bins that allow for better visualization"
   ]
  },
  {
   "cell_type": "code",
   "execution_count": 115,
   "id": "1be4ac9e",
   "metadata": {},
   "outputs": [],
   "source": [
    "df_avgGdp_medal_aCount_pop['discretized_Country_participation_EF']=pd.qcut(df_avgGdp_medal_aCount_pop\\\n",
    "                                                                           .Country_participation, 3)"
   ]
  },
  {
   "cell_type": "markdown",
   "id": "0c70f147",
   "metadata": {},
   "source": [
    "**Fig 3 - EF Binned Participants ratio vs Avg_GDP**"
   ]
  },
  {
   "cell_type": "code",
   "execution_count": 116,
   "id": "b1b53144",
   "metadata": {},
   "outputs": [
    {
     "data": {
      "text/plain": [
       "<seaborn.axisgrid.FacetGrid at 0x7fda4148fa30>"
      ]
     },
     "execution_count": 116,
     "metadata": {},
     "output_type": "execute_result"
    },
    {
     "data": {
      "image/png": "[encoded data removed]",
      "text/plain": [
       "<Figure size 720x360 with 1 Axes>"
      ]
     },
     "metadata": {
      "needs_background": "light"
     },
     "output_type": "display_data"
    }
   ],
   "source": [
    "sns.catplot(x='discretized_Country_participation_EF', y = 'Avg_GDP', kind ='bar',\\\n",
    "            data=df_avgGdp_medal_aCount_pop, aspect =2).set_xticklabels(rotation=90)"
   ]
  },
  {
   "cell_type": "markdown",
   "id": "f78ccc4a",
   "metadata": {},
   "source": [
    "This graph shows the same conclusion with the correlation above! "
   ]
  },
  {
   "cell_type": "markdown",
   "id": "b95ca698",
   "metadata": {},
   "source": [
    "**Conclusion from Graph Above**"
   ]
  },
  {
   "cell_type": "markdown",
   "id": "10c219d4",
   "metadata": {},
   "source": [
    "The above graph demonstrates a correlation between the particpants and the avg GDP, the more participants the more the GDP. This is important finding because it demonstrates that there is a realtion between higher GDP giving more opportunity for the player to join for the games. The higher the GDP the higher the participation.\n"
   ]
  },
  {
   "cell_type": "markdown",
   "id": "23a12c42",
   "metadata": {},
   "source": [
    "### **Managerial Insight 1**"
   ]
  },
  {
   "cell_type": "markdown",
   "id": "5eb3007f",
   "metadata": {},
   "source": [
    "**The managerial insight from the olympics perspective:**\n",
    "- Is advocacy for countries with low GDP to increase/advocate for higher particpation. \n",
    "- Include more representation from countries with low GDP.\n",
    "- Maybe think in terms of helping them fund their way into the Olympics.\n",
    "\n",
    "\n",
    "**The insight I have for the countries with low GDP:** \n",
    "- Look for talent, and maybe think of giving them more focus.\n",
    "- Give the athletes an opportunity through giving them a chance to train in other countries.\n",
    "- Advocate for partcipation in the Sports help give opportunity for the people in your country. "
   ]
  },
  {
   "cell_type": "markdown",
   "id": "1951eaba",
   "metadata": {},
   "source": [
    "### Insight 2: How do the host countries perform in either their own countries versus others?"
   ]
  },
  {
   "cell_type": "markdown",
   "id": "e8db0635",
   "metadata": {},
   "source": [
    "### To check this we'll look at how teams performed in the year that the Olympics were hosted in their native country vs one edition before and one edition later."
   ]
  },
  {
   "cell_type": "markdown",
   "id": "c2702a23",
   "metadata": {},
   "source": [
    "#### Let's check to see what we are working with"
   ]
  },
  {
   "cell_type": "code",
   "execution_count": 117,
   "id": "35fbe673",
   "metadata": {},
   "outputs": [
    {
     "data": {
      "text/html": [
       "<div>\n",
       "<style scoped>\n",
       "    .dataframe tbody tr th:only-of-type {\n",
       "        vertical-align: middle;\n",
       "    }\n",
       "\n",
       "    .dataframe tbody tr th {\n",
       "        vertical-align: top;\n",
       "    }\n",
       "\n",
       "    .dataframe thead th {\n",
       "        text-align: right;\n",
       "    }\n",
       "</style>\n",
       "<table border=\"1\" class=\"dataframe\">\n",
       "  <thead>\n",
       "    <tr style=\"text-align: right;\">\n",
       "      <th></th>\n",
       "      <th>Name</th>\n",
       "      <th>Sex</th>\n",
       "      <th>Age</th>\n",
       "      <th>Height</th>\n",
       "      <th>Weight</th>\n",
       "      <th>Team</th>\n",
       "      <th>NOC</th>\n",
       "      <th>Games</th>\n",
       "      <th>Year</th>\n",
       "      <th>Season</th>\n",
       "      <th>City</th>\n",
       "      <th>Sport</th>\n",
       "      <th>Event</th>\n",
       "      <th>Medal</th>\n",
       "    </tr>\n",
       "  </thead>\n",
       "  <tbody>\n",
       "    <tr>\n",
       "      <th>0</th>\n",
       "      <td>A Dijiang</td>\n",
       "      <td>M</td>\n",
       "      <td>24.0</td>\n",
       "      <td>180.0</td>\n",
       "      <td>80.0</td>\n",
       "      <td>China</td>\n",
       "      <td>CHN</td>\n",
       "      <td>1992 Summer</td>\n",
       "      <td>1992</td>\n",
       "      <td>Summer</td>\n",
       "      <td>Barcelona</td>\n",
       "      <td>Basketball</td>\n",
       "      <td>Basketball Men's Basketball</td>\n",
       "      <td>No medal won</td>\n",
       "    </tr>\n",
       "    <tr>\n",
       "      <th>1</th>\n",
       "      <td>A Lamusi</td>\n",
       "      <td>M</td>\n",
       "      <td>23.0</td>\n",
       "      <td>170.0</td>\n",
       "      <td>60.0</td>\n",
       "      <td>China</td>\n",
       "      <td>CHN</td>\n",
       "      <td>2012 Summer</td>\n",
       "      <td>2012</td>\n",
       "      <td>Summer</td>\n",
       "      <td>London</td>\n",
       "      <td>Judo</td>\n",
       "      <td>Judo Men's Extra-Lightweight</td>\n",
       "      <td>No medal won</td>\n",
       "    </tr>\n",
       "    <tr>\n",
       "      <th>2</th>\n",
       "      <td>Gunnar Nielsen Aaby</td>\n",
       "      <td>M</td>\n",
       "      <td>24.0</td>\n",
       "      <td>Unknown</td>\n",
       "      <td>Unknown</td>\n",
       "      <td>Denmark</td>\n",
       "      <td>DEN</td>\n",
       "      <td>1920 Summer</td>\n",
       "      <td>1920</td>\n",
       "      <td>Summer</td>\n",
       "      <td>Antwerpen</td>\n",
       "      <td>Football</td>\n",
       "      <td>Football Men's Football</td>\n",
       "      <td>No medal won</td>\n",
       "    </tr>\n",
       "    <tr>\n",
       "      <th>3</th>\n",
       "      <td>Edgar Lindenau Aabye</td>\n",
       "      <td>M</td>\n",
       "      <td>34.0</td>\n",
       "      <td>Unknown</td>\n",
       "      <td>Unknown</td>\n",
       "      <td>Denmark/Sweden</td>\n",
       "      <td>DEN</td>\n",
       "      <td>1900 Summer</td>\n",
       "      <td>1900</td>\n",
       "      <td>Summer</td>\n",
       "      <td>Paris</td>\n",
       "      <td>Tug-Of-War</td>\n",
       "      <td>Tug-Of-War Men's Tug-Of-War</td>\n",
       "      <td>Gold</td>\n",
       "    </tr>\n",
       "    <tr>\n",
       "      <th>4</th>\n",
       "      <td>Christine Jacoba Aaftink</td>\n",
       "      <td>F</td>\n",
       "      <td>21.0</td>\n",
       "      <td>185.0</td>\n",
       "      <td>82.0</td>\n",
       "      <td>Netherlands</td>\n",
       "      <td>NED</td>\n",
       "      <td>1988 Winter</td>\n",
       "      <td>1988</td>\n",
       "      <td>Winter</td>\n",
       "      <td>Calgary</td>\n",
       "      <td>Speed Skating</td>\n",
       "      <td>Speed Skating Women's 500 metres</td>\n",
       "      <td>No medal won</td>\n",
       "    </tr>\n",
       "  </tbody>\n",
       "</table>\n",
       "</div>"
      ],
      "text/plain": [
       "                       Name Sex   Age   Height   Weight            Team  NOC  \\\n",
       "0                 A Dijiang   M  24.0    180.0     80.0           China  CHN   \n",
       "1                  A Lamusi   M  23.0    170.0     60.0           China  CHN   \n",
       "2       Gunnar Nielsen Aaby   M  24.0  Unknown  Unknown         Denmark  DEN   \n",
       "3      Edgar Lindenau Aabye   M  34.0  Unknown  Unknown  Denmark/Sweden  DEN   \n",
       "4  Christine Jacoba Aaftink   F  21.0    185.0     82.0     Netherlands  NED   \n",
       "\n",
       "         Games  Year  Season       City          Sport  \\\n",
       "0  1992 Summer  1992  Summer  Barcelona     Basketball   \n",
       "1  2012 Summer  2012  Summer     London           Judo   \n",
       "2  1920 Summer  1920  Summer  Antwerpen       Football   \n",
       "3  1900 Summer  1900  Summer      Paris     Tug-Of-War   \n",
       "4  1988 Winter  1988  Winter    Calgary  Speed Skating   \n",
       "\n",
       "                              Event         Medal  \n",
       "0       Basketball Men's Basketball  No medal won  \n",
       "1      Judo Men's Extra-Lightweight  No medal won  \n",
       "2           Football Men's Football  No medal won  \n",
       "3       Tug-Of-War Men's Tug-Of-War          Gold  \n",
       "4  Speed Skating Women's 500 metres  No medal won  "
      ]
     },
     "execution_count": 117,
     "metadata": {},
     "output_type": "execute_result"
    }
   ],
   "source": [
    "df_120.head()"
   ]
  },
  {
   "cell_type": "markdown",
   "id": "789eea2e",
   "metadata": {},
   "source": [
    "#### From the Medal column change the No medal won = 0.0 , Gold = 1, Silver = 1 and Bronze = 1, this makes it binary"
   ]
  },
  {
   "cell_type": "code",
   "execution_count": 118,
   "id": "ce78a33d",
   "metadata": {},
   "outputs": [
    {
     "data": {
      "text/html": [
       "<div>\n",
       "<style scoped>\n",
       "    .dataframe tbody tr th:only-of-type {\n",
       "        vertical-align: middle;\n",
       "    }\n",
       "\n",
       "    .dataframe tbody tr th {\n",
       "        vertical-align: top;\n",
       "    }\n",
       "\n",
       "    .dataframe thead th {\n",
       "        text-align: right;\n",
       "    }\n",
       "</style>\n",
       "<table border=\"1\" class=\"dataframe\">\n",
       "  <thead>\n",
       "    <tr style=\"text-align: right;\">\n",
       "      <th></th>\n",
       "      <th>Name</th>\n",
       "      <th>Sex</th>\n",
       "      <th>Age</th>\n",
       "      <th>Height</th>\n",
       "      <th>Weight</th>\n",
       "      <th>Team</th>\n",
       "      <th>NOC</th>\n",
       "      <th>Games</th>\n",
       "      <th>Year</th>\n",
       "      <th>Season</th>\n",
       "      <th>City</th>\n",
       "      <th>Sport</th>\n",
       "      <th>Event</th>\n",
       "      <th>Medal</th>\n",
       "    </tr>\n",
       "  </thead>\n",
       "  <tbody>\n",
       "    <tr>\n",
       "      <th>0</th>\n",
       "      <td>A Dijiang</td>\n",
       "      <td>M</td>\n",
       "      <td>24.0</td>\n",
       "      <td>180.0</td>\n",
       "      <td>80.0</td>\n",
       "      <td>China</td>\n",
       "      <td>CHN</td>\n",
       "      <td>1992 Summer</td>\n",
       "      <td>1992</td>\n",
       "      <td>Summer</td>\n",
       "      <td>Barcelona</td>\n",
       "      <td>Basketball</td>\n",
       "      <td>Basketball Men's Basketball</td>\n",
       "      <td>0</td>\n",
       "    </tr>\n",
       "    <tr>\n",
       "      <th>1</th>\n",
       "      <td>A Lamusi</td>\n",
       "      <td>M</td>\n",
       "      <td>23.0</td>\n",
       "      <td>170.0</td>\n",
       "      <td>60.0</td>\n",
       "      <td>China</td>\n",
       "      <td>CHN</td>\n",
       "      <td>2012 Summer</td>\n",
       "      <td>2012</td>\n",
       "      <td>Summer</td>\n",
       "      <td>London</td>\n",
       "      <td>Judo</td>\n",
       "      <td>Judo Men's Extra-Lightweight</td>\n",
       "      <td>0</td>\n",
       "    </tr>\n",
       "    <tr>\n",
       "      <th>2</th>\n",
       "      <td>Gunnar Nielsen Aaby</td>\n",
       "      <td>M</td>\n",
       "      <td>24.0</td>\n",
       "      <td>Unknown</td>\n",
       "      <td>Unknown</td>\n",
       "      <td>Denmark</td>\n",
       "      <td>DEN</td>\n",
       "      <td>1920 Summer</td>\n",
       "      <td>1920</td>\n",
       "      <td>Summer</td>\n",
       "      <td>Antwerpen</td>\n",
       "      <td>Football</td>\n",
       "      <td>Football Men's Football</td>\n",
       "      <td>0</td>\n",
       "    </tr>\n",
       "    <tr>\n",
       "      <th>3</th>\n",
       "      <td>Edgar Lindenau Aabye</td>\n",
       "      <td>M</td>\n",
       "      <td>34.0</td>\n",
       "      <td>Unknown</td>\n",
       "      <td>Unknown</td>\n",
       "      <td>Denmark/Sweden</td>\n",
       "      <td>DEN</td>\n",
       "      <td>1900 Summer</td>\n",
       "      <td>1900</td>\n",
       "      <td>Summer</td>\n",
       "      <td>Paris</td>\n",
       "      <td>Tug-Of-War</td>\n",
       "      <td>Tug-Of-War Men's Tug-Of-War</td>\n",
       "      <td>1</td>\n",
       "    </tr>\n",
       "    <tr>\n",
       "      <th>4</th>\n",
       "      <td>Christine Jacoba Aaftink</td>\n",
       "      <td>F</td>\n",
       "      <td>21.0</td>\n",
       "      <td>185.0</td>\n",
       "      <td>82.0</td>\n",
       "      <td>Netherlands</td>\n",
       "      <td>NED</td>\n",
       "      <td>1988 Winter</td>\n",
       "      <td>1988</td>\n",
       "      <td>Winter</td>\n",
       "      <td>Calgary</td>\n",
       "      <td>Speed Skating</td>\n",
       "      <td>Speed Skating Women's 500 metres</td>\n",
       "      <td>0</td>\n",
       "    </tr>\n",
       "  </tbody>\n",
       "</table>\n",
       "</div>"
      ],
      "text/plain": [
       "                       Name Sex   Age   Height   Weight            Team  NOC  \\\n",
       "0                 A Dijiang   M  24.0    180.0     80.0           China  CHN   \n",
       "1                  A Lamusi   M  23.0    170.0     60.0           China  CHN   \n",
       "2       Gunnar Nielsen Aaby   M  24.0  Unknown  Unknown         Denmark  DEN   \n",
       "3      Edgar Lindenau Aabye   M  34.0  Unknown  Unknown  Denmark/Sweden  DEN   \n",
       "4  Christine Jacoba Aaftink   F  21.0    185.0     82.0     Netherlands  NED   \n",
       "\n",
       "         Games  Year  Season       City          Sport  \\\n",
       "0  1992 Summer  1992  Summer  Barcelona     Basketball   \n",
       "1  2012 Summer  2012  Summer     London           Judo   \n",
       "2  1920 Summer  1920  Summer  Antwerpen       Football   \n",
       "3  1900 Summer  1900  Summer      Paris     Tug-Of-War   \n",
       "4  1988 Winter  1988  Winter    Calgary  Speed Skating   \n",
       "\n",
       "                              Event Medal  \n",
       "0       Basketball Men's Basketball     0  \n",
       "1      Judo Men's Extra-Lightweight     0  \n",
       "2           Football Men's Football     0  \n",
       "3       Tug-Of-War Men's Tug-Of-War     1  \n",
       "4  Speed Skating Women's 500 metres     0  "
      ]
     },
     "execution_count": 118,
     "metadata": {},
     "output_type": "execute_result"
    }
   ],
   "source": [
    "df_120['Medal'].replace({\"No medal won\": \"0\",\"Gold\": \"1\",\"Silver\": \"1\",\"Bronze\":\"1\"},inplace=True)\n",
    "df_120.head()"
   ]
  },
  {
   "cell_type": "markdown",
   "id": "5d5c884e",
   "metadata": {},
   "source": [
    "#### Locate the Team,Year and Medal Columns and do a groupby and count the number of medals by team & year"
   ]
  },
  {
   "cell_type": "code",
   "execution_count": 119,
   "id": "91876141",
   "metadata": {},
   "outputs": [
    {
     "data": {
      "text/html": [
       "<div>\n",
       "<style scoped>\n",
       "    .dataframe tbody tr th:only-of-type {\n",
       "        vertical-align: middle;\n",
       "    }\n",
       "\n",
       "    .dataframe tbody tr th {\n",
       "        vertical-align: top;\n",
       "    }\n",
       "\n",
       "    .dataframe thead th {\n",
       "        text-align: right;\n",
       "    }\n",
       "</style>\n",
       "<table border=\"1\" class=\"dataframe\">\n",
       "  <thead>\n",
       "    <tr style=\"text-align: right;\">\n",
       "      <th></th>\n",
       "      <th>Team</th>\n",
       "      <th>Year</th>\n",
       "      <th>Medal</th>\n",
       "    </tr>\n",
       "  </thead>\n",
       "  <tbody>\n",
       "    <tr>\n",
       "      <th>0</th>\n",
       "      <td>China</td>\n",
       "      <td>1992</td>\n",
       "      <td>0</td>\n",
       "    </tr>\n",
       "    <tr>\n",
       "      <th>1</th>\n",
       "      <td>China</td>\n",
       "      <td>2012</td>\n",
       "      <td>0</td>\n",
       "    </tr>\n",
       "    <tr>\n",
       "      <th>2</th>\n",
       "      <td>Denmark</td>\n",
       "      <td>1920</td>\n",
       "      <td>0</td>\n",
       "    </tr>\n",
       "    <tr>\n",
       "      <th>3</th>\n",
       "      <td>Denmark/Sweden</td>\n",
       "      <td>1900</td>\n",
       "      <td>1</td>\n",
       "    </tr>\n",
       "    <tr>\n",
       "      <th>4</th>\n",
       "      <td>Netherlands</td>\n",
       "      <td>1988</td>\n",
       "      <td>0</td>\n",
       "    </tr>\n",
       "  </tbody>\n",
       "</table>\n",
       "</div>"
      ],
      "text/plain": [
       "             Team  Year Medal\n",
       "0           China  1992     0\n",
       "1           China  2012     0\n",
       "2         Denmark  1920     0\n",
       "3  Denmark/Sweden  1900     1\n",
       "4     Netherlands  1988     0"
      ]
     },
     "execution_count": 119,
     "metadata": {},
     "output_type": "execute_result"
    }
   ],
   "source": [
    "df_120_medal_tally = df_120.iloc[:,[5,8,13]]\n",
    "df_120_medal_tally.head()"
   ]
  },
  {
   "cell_type": "code",
   "execution_count": 120,
   "id": "66dcc780",
   "metadata": {},
   "outputs": [
    {
     "data": {
      "text/html": [
       "<div>\n",
       "<style scoped>\n",
       "    .dataframe tbody tr th:only-of-type {\n",
       "        vertical-align: middle;\n",
       "    }\n",
       "\n",
       "    .dataframe tbody tr th {\n",
       "        vertical-align: top;\n",
       "    }\n",
       "\n",
       "    .dataframe thead th {\n",
       "        text-align: right;\n",
       "    }\n",
       "</style>\n",
       "<table border=\"1\" class=\"dataframe\">\n",
       "  <thead>\n",
       "    <tr style=\"text-align: right;\">\n",
       "      <th></th>\n",
       "      <th>Team</th>\n",
       "      <th>Year</th>\n",
       "      <th>Medal</th>\n",
       "    </tr>\n",
       "  </thead>\n",
       "  <tbody>\n",
       "    <tr>\n",
       "      <th>0</th>\n",
       "      <td>30. Februar</td>\n",
       "      <td>1952</td>\n",
       "      <td>2</td>\n",
       "    </tr>\n",
       "    <tr>\n",
       "      <th>1</th>\n",
       "      <td>A North American Team</td>\n",
       "      <td>1900</td>\n",
       "      <td>4</td>\n",
       "    </tr>\n",
       "    <tr>\n",
       "      <th>2</th>\n",
       "      <td>Acipactli</td>\n",
       "      <td>1964</td>\n",
       "      <td>3</td>\n",
       "    </tr>\n",
       "    <tr>\n",
       "      <th>3</th>\n",
       "      <td>Acturus</td>\n",
       "      <td>1948</td>\n",
       "      <td>2</td>\n",
       "    </tr>\n",
       "    <tr>\n",
       "      <th>4</th>\n",
       "      <td>Afghanistan</td>\n",
       "      <td>1936</td>\n",
       "      <td>16</td>\n",
       "    </tr>\n",
       "  </tbody>\n",
       "</table>\n",
       "</div>"
      ],
      "text/plain": [
       "                    Team  Year  Medal\n",
       "0            30. Februar  1952      2\n",
       "1  A North American Team  1900      4\n",
       "2              Acipactli  1964      3\n",
       "3                Acturus  1948      2\n",
       "4            Afghanistan  1936     16"
      ]
     },
     "execution_count": 120,
     "metadata": {},
     "output_type": "execute_result"
    }
   ],
   "source": [
    "df_team_medal= df_120_medal_tally.groupby(['Team','Year'], as_index=False)['Medal'].count()\n",
    "df_team_medal.head()"
   ]
  },
  {
   "cell_type": "markdown",
   "id": "c4874919",
   "metadata": {},
   "source": [
    "#### Create a list for all the host countries, this results in a datafram that contains only the host countries/cities and the year they hosted"
   ]
  },
  {
   "cell_type": "code",
   "execution_count": 121,
   "id": "8bf7c982",
   "metadata": {},
   "outputs": [
    {
     "data": {
      "text/html": [
       "<div>\n",
       "<style scoped>\n",
       "    .dataframe tbody tr th:only-of-type {\n",
       "        vertical-align: middle;\n",
       "    }\n",
       "\n",
       "    .dataframe tbody tr th {\n",
       "        vertical-align: top;\n",
       "    }\n",
       "\n",
       "    .dataframe thead th {\n",
       "        text-align: right;\n",
       "    }\n",
       "</style>\n",
       "<table border=\"1\" class=\"dataframe\">\n",
       "  <thead>\n",
       "    <tr style=\"text-align: right;\">\n",
       "      <th></th>\n",
       "      <th>Year</th>\n",
       "      <th>City</th>\n",
       "      <th>Country</th>\n",
       "    </tr>\n",
       "  </thead>\n",
       "  <tbody>\n",
       "    <tr>\n",
       "      <th>68</th>\n",
       "      <td>1998</td>\n",
       "      <td>Nagano</td>\n",
       "      <td>Japan</td>\n",
       "    </tr>\n",
       "    <tr>\n",
       "      <th>31</th>\n",
       "      <td>2000</td>\n",
       "      <td>Sydney</td>\n",
       "      <td>Australia</td>\n",
       "    </tr>\n",
       "    <tr>\n",
       "      <th>28</th>\n",
       "      <td>2002</td>\n",
       "      <td>Salt Lake City</td>\n",
       "      <td>United States</td>\n",
       "    </tr>\n",
       "    <tr>\n",
       "      <th>82</th>\n",
       "      <td>2004</td>\n",
       "      <td>Athina</td>\n",
       "      <td>Greece</td>\n",
       "    </tr>\n",
       "    <tr>\n",
       "      <th>77</th>\n",
       "      <td>2006</td>\n",
       "      <td>Torino</td>\n",
       "      <td>Italy</td>\n",
       "    </tr>\n",
       "    <tr>\n",
       "      <th>79</th>\n",
       "      <td>2008</td>\n",
       "      <td>Beijing</td>\n",
       "      <td>China</td>\n",
       "    </tr>\n",
       "    <tr>\n",
       "      <th>245</th>\n",
       "      <td>2010</td>\n",
       "      <td>Vancouver</td>\n",
       "      <td>Canada</td>\n",
       "    </tr>\n",
       "    <tr>\n",
       "      <th>1</th>\n",
       "      <td>2012</td>\n",
       "      <td>London</td>\n",
       "      <td>United Kingdom</td>\n",
       "    </tr>\n",
       "    <tr>\n",
       "      <th>40</th>\n",
       "      <td>2014</td>\n",
       "      <td>Sochi</td>\n",
       "      <td>Russia</td>\n",
       "    </tr>\n",
       "    <tr>\n",
       "      <th>80</th>\n",
       "      <td>2016</td>\n",
       "      <td>Rio de Janeiro</td>\n",
       "      <td>Brazil</td>\n",
       "    </tr>\n",
       "  </tbody>\n",
       "</table>\n",
       "</div>"
      ],
      "text/plain": [
       "     Year            City         Country\n",
       "68   1998          Nagano           Japan\n",
       "31   2000          Sydney       Australia\n",
       "28   2002  Salt Lake City   United States\n",
       "82   2004          Athina          Greece\n",
       "77   2006          Torino           Italy\n",
       "79   2008         Beijing           China\n",
       "245  2010       Vancouver          Canada\n",
       "1    2012          London  United Kingdom\n",
       "40   2014           Sochi          Russia\n",
       "80   2016  Rio de Janeiro          Brazil"
      ]
     },
     "execution_count": 121,
     "metadata": {},
     "output_type": "execute_result"
    }
   ],
   "source": [
    "#host countries list\n",
    "df_host=df_120[['Year','City']].drop_duplicates().sort_values('Year')\n",
    "df_host['City'].unique()\n",
    "df_latest_host = df_host.tail(10)\n",
    "country_map = {'Nagano': 'Japan',\n",
    "                  'Sydney': 'Australia',\n",
    "                  'Salt Lake City': 'United States',\n",
    "                  'Athina': 'Greece',\n",
    "                  'Torino': 'Italy',\n",
    "                  'Beijing': 'China',\n",
    "                  'Vancouver': 'Canada',\n",
    "                  'London': 'United Kingdom',\n",
    "                  'Sochi': 'Russia',\n",
    "                  'Rio de Janeiro': 'Brazil'}\n",
    "df_latest_host['Country'] = df_latest_host['City'].map(country_map)\n",
    "df_latest_host"
   ]
  },
  {
   "cell_type": "markdown",
   "id": "32e9e533",
   "metadata": {},
   "source": [
    "#### Merge the Host country dataframe with the previous and following year information and their corresponding amount of medals they earned"
   ]
  },
  {
   "cell_type": "code",
   "execution_count": 122,
   "id": "d38a9d04",
   "metadata": {},
   "outputs": [
    {
     "data": {
      "text/html": [
       "<div>\n",
       "<style scoped>\n",
       "    .dataframe tbody tr th:only-of-type {\n",
       "        vertical-align: middle;\n",
       "    }\n",
       "\n",
       "    .dataframe tbody tr th {\n",
       "        vertical-align: top;\n",
       "    }\n",
       "\n",
       "    .dataframe thead th {\n",
       "        text-align: right;\n",
       "    }\n",
       "</style>\n",
       "<table border=\"1\" class=\"dataframe\">\n",
       "  <thead>\n",
       "    <tr style=\"text-align: right;\">\n",
       "      <th></th>\n",
       "      <th>Year</th>\n",
       "      <th>City</th>\n",
       "      <th>Country</th>\n",
       "      <th>Team</th>\n",
       "      <th>Medal_Host_Olympics</th>\n",
       "    </tr>\n",
       "  </thead>\n",
       "  <tbody>\n",
       "    <tr>\n",
       "      <th>0</th>\n",
       "      <td>1998</td>\n",
       "      <td>Nagano</td>\n",
       "      <td>Japan</td>\n",
       "      <td>Japan</td>\n",
       "      <td>233.0</td>\n",
       "    </tr>\n",
       "    <tr>\n",
       "      <th>1</th>\n",
       "      <td>2000</td>\n",
       "      <td>Sydney</td>\n",
       "      <td>Australia</td>\n",
       "      <td>Australia</td>\n",
       "      <td>762.0</td>\n",
       "    </tr>\n",
       "    <tr>\n",
       "      <th>2</th>\n",
       "      <td>2002</td>\n",
       "      <td>Salt Lake City</td>\n",
       "      <td>United States</td>\n",
       "      <td>United States</td>\n",
       "      <td>285.0</td>\n",
       "    </tr>\n",
       "    <tr>\n",
       "      <th>3</th>\n",
       "      <td>2004</td>\n",
       "      <td>Athina</td>\n",
       "      <td>Greece</td>\n",
       "      <td>Greece</td>\n",
       "      <td>495.0</td>\n",
       "    </tr>\n",
       "    <tr>\n",
       "      <th>4</th>\n",
       "      <td>2006</td>\n",
       "      <td>Torino</td>\n",
       "      <td>Italy</td>\n",
       "      <td>Italy</td>\n",
       "      <td>266.0</td>\n",
       "    </tr>\n",
       "  </tbody>\n",
       "</table>\n",
       "</div>"
      ],
      "text/plain": [
       "   Year            City        Country           Team  Medal_Host_Olympics\n",
       "0  1998          Nagano          Japan          Japan                233.0\n",
       "1  2000          Sydney      Australia      Australia                762.0\n",
       "2  2002  Salt Lake City  United States  United States                285.0\n",
       "3  2004          Athina         Greece         Greece                495.0\n",
       "4  2006          Torino          Italy          Italy                266.0"
      ]
     },
     "execution_count": 122,
     "metadata": {},
     "output_type": "execute_result"
    }
   ],
   "source": [
    "df_latest_host1 = df_latest_host.merge(df_team_medal,\n",
    "                                           left_on = ['Year', 'Country'],\n",
    "                                           right_on = ['Year', 'Team'],\n",
    "                                           how = 'left')\n",
    "df_latest_host1.rename(columns = {'Medal' : 'Medal_Host_Olympics'}, inplace = True)\n",
    "df_host=df_latest_host1.iloc[:,[2,4]]\n",
    "df_latest_host1.head()"
   ]
  },
  {
   "cell_type": "markdown",
   "id": "01aee18d",
   "metadata": {},
   "source": [
    "**Now Add a Column for Previous Olympics Medals Earned by the Host Countries using Merge on the Countries**"
   ]
  },
  {
   "cell_type": "code",
   "execution_count": 123,
   "id": "13d7c5ae",
   "metadata": {},
   "outputs": [],
   "source": [
    "df_latest_host['Prev_Year'] = df_latest_host['Year'] - 4\n",
    "df_latest_host2 = df_latest_host.merge(df_team_medal,\n",
    "                                                 left_on = ['Prev_Year', 'Country'],\n",
    "                                                 right_on = ['Year', 'Team'],\n",
    "                                                 how = 'left')\n",
    "\n",
    "df_latest_host2.rename(columns = {'Medal' : 'Medal_Prev_Olympics','Prev_Year':'Previous Olympic year'}\\\n",
    "                       , inplace = True)\n",
    "df_prev_host=df_latest_host2.iloc[:,[6]]"
   ]
  },
  {
   "cell_type": "markdown",
   "id": "8e3672db",
   "metadata": {},
   "source": [
    "**Now Add Column for Next Olympics Medals Earned by the Host Countries using Merge on the Countries**"
   ]
  },
  {
   "cell_type": "code",
   "execution_count": 124,
   "id": "7e532e74",
   "metadata": {},
   "outputs": [],
   "source": [
    "df_latest_host['Next_Year'] = df_latest_host['Year'] + 4\n",
    "df_latest_host3 = df_latest_host.merge(df_team_medal,\n",
    "                                                 left_on = ['Next_Year', 'Country'],\n",
    "                                                 right_on = ['Year', 'Team'],\n",
    "                                                 how = 'left')\n",
    "df_latest_host3.rename(columns = {'Medal' : 'Medal_Next_Olympics'}, inplace = True)\n",
    "df_next_host=df_latest_host3.iloc[:,[7]]"
   ]
  },
  {
   "cell_type": "markdown",
   "id": "437bb23b",
   "metadata": {},
   "source": [
    "**This results in the dataframe with Previous Olympics, Next Olympics and the Year they Hosted**"
   ]
  },
  {
   "cell_type": "code",
   "execution_count": 125,
   "id": "dd5b5ac5",
   "metadata": {},
   "outputs": [
    {
     "data": {
      "text/html": [
       "<div>\n",
       "<style scoped>\n",
       "    .dataframe tbody tr th:only-of-type {\n",
       "        vertical-align: middle;\n",
       "    }\n",
       "\n",
       "    .dataframe tbody tr th {\n",
       "        vertical-align: top;\n",
       "    }\n",
       "\n",
       "    .dataframe thead th {\n",
       "        text-align: right;\n",
       "    }\n",
       "</style>\n",
       "<table border=\"1\" class=\"dataframe\">\n",
       "  <thead>\n",
       "    <tr style=\"text-align: right;\">\n",
       "      <th></th>\n",
       "      <th>Country</th>\n",
       "      <th>Medal_Host_Olympics</th>\n",
       "      <th>Medal_Prev_Olympics</th>\n",
       "      <th>Medal_Next_Olympics</th>\n",
       "    </tr>\n",
       "  </thead>\n",
       "  <tbody>\n",
       "    <tr>\n",
       "      <th>0</th>\n",
       "      <td>Japan</td>\n",
       "      <td>233.0</td>\n",
       "      <td>121.0</td>\n",
       "      <td>199.0</td>\n",
       "    </tr>\n",
       "    <tr>\n",
       "      <th>1</th>\n",
       "      <td>Australia</td>\n",
       "      <td>762.0</td>\n",
       "      <td>542.0</td>\n",
       "      <td>585.0</td>\n",
       "    </tr>\n",
       "    <tr>\n",
       "      <th>2</th>\n",
       "      <td>United States</td>\n",
       "      <td>285.0</td>\n",
       "      <td>260.0</td>\n",
       "      <td>295.0</td>\n",
       "    </tr>\n",
       "    <tr>\n",
       "      <th>3</th>\n",
       "      <td>Greece</td>\n",
       "      <td>495.0</td>\n",
       "      <td>175.0</td>\n",
       "      <td>172.0</td>\n",
       "    </tr>\n",
       "    <tr>\n",
       "      <th>4</th>\n",
       "      <td>Italy</td>\n",
       "      <td>266.0</td>\n",
       "      <td>186.0</td>\n",
       "      <td>196.0</td>\n",
       "    </tr>\n",
       "    <tr>\n",
       "      <th>5</th>\n",
       "      <td>China</td>\n",
       "      <td>708.0</td>\n",
       "      <td>490.0</td>\n",
       "      <td>463.0</td>\n",
       "    </tr>\n",
       "    <tr>\n",
       "      <th>6</th>\n",
       "      <td>Canada</td>\n",
       "      <td>279.0</td>\n",
       "      <td>277.0</td>\n",
       "      <td>323.0</td>\n",
       "    </tr>\n",
       "  </tbody>\n",
       "</table>\n",
       "</div>"
      ],
      "text/plain": [
       "         Country  Medal_Host_Olympics  Medal_Prev_Olympics  \\\n",
       "0          Japan                233.0                121.0   \n",
       "1      Australia                762.0                542.0   \n",
       "2  United States                285.0                260.0   \n",
       "3         Greece                495.0                175.0   \n",
       "4          Italy                266.0                186.0   \n",
       "5          China                708.0                490.0   \n",
       "6         Canada                279.0                277.0   \n",
       "\n",
       "   Medal_Next_Olympics  \n",
       "0                199.0  \n",
       "1                585.0  \n",
       "2                295.0  \n",
       "3                172.0  \n",
       "4                196.0  \n",
       "5                463.0  \n",
       "6                323.0  "
      ]
     },
     "execution_count": 125,
     "metadata": {},
     "output_type": "execute_result"
    }
   ],
   "source": [
    "df_medal_compare = pd.concat([df_host, df_prev_host,df_next_host], axis=1)\n",
    "df_result=df_medal_compare[0:7]\n",
    "df_result"
   ]
  },
  {
   "cell_type": "markdown",
   "id": "21bd4c57",
   "metadata": {},
   "source": [
    "#### Conclusion from Data"
   ]
  },
  {
   "cell_type": "markdown",
   "id": "873e2b6b",
   "metadata": {},
   "source": [
    "Teams definetely have A home ground advantage.They performs better in their own country than in other countries when the Olympics are held. "
   ]
  },
  {
   "cell_type": "markdown",
   "id": "0c494401",
   "metadata": {},
   "source": [
    "**Let's visualize to validate our findings**"
   ]
  },
  {
   "cell_type": "markdown",
   "id": "7db56b06",
   "metadata": {},
   "source": [
    "**Fig 4: Country vs Amount of Medals**"
   ]
  },
  {
   "cell_type": "code",
   "execution_count": 126,
   "id": "e91baf33",
   "metadata": {},
   "outputs": [
    {
     "data": {
      "text/plain": [
       "<seaborn.axisgrid.FacetGrid at 0x7fda3ac54b80>"
      ]
     },
     "execution_count": 126,
     "metadata": {},
     "output_type": "execute_result"
    },
    {
     "data": {
      "image/png": "[encoded data removed]",
      "text/plain": [
       "<Figure size 505.375x360 with 1 Axes>"
      ]
     },
     "metadata": {
      "needs_background": "light"
     },
     "output_type": "display_data"
    }
   ],
   "source": [
    "dfm = df_result.melt('Country', var_name='cols', value_name='vals')\n",
    "sns.catplot(x=\"Country\", y=\"vals\", hue='cols', data=dfm, kind='point').set_xticklabels(rotation=90)"
   ]
  },
  {
   "cell_type": "markdown",
   "id": "12e7c30b",
   "metadata": {},
   "source": [
    "**The Conclusion from the Data and our Seaborn visual both demonstrate the same conlusion validating our analysis.**"
   ]
  },
  {
   "cell_type": "markdown",
   "id": "8a067a24",
   "metadata": {},
   "source": [
    "### **Managerial Insight 2**"
   ]
  },
  {
   "cell_type": "markdown",
   "id": "2ee88654",
   "metadata": {},
   "source": [
    "**From this Analysis we an understand the following trends**\n",
    "- The Hosting country's athletes perform better on their home ground\n",
    "- The Athletes that participate outside of the home country perform at a lower standard on average. \n",
    "    \n",
    "**From this we can implement some managerial techniques to help mitigate this difference. This includes:** \n",
    "- Making athletes feel more welcome when leaving their home country \n",
    "- Providing resources such as Mental Health or Advising for those who leave their home country\n",
    "- Provide down time for all athletes to recourperate and perform better."
   ]
  },
  {
   "cell_type": "markdown",
   "id": "f4a04b0b",
   "metadata": {},
   "source": [
    "### New - Insight 3A - Machine Learning: What are the vital attributes needed for Archery?"
   ]
  },
  {
   "cell_type": "markdown",
   "id": "ccbab150",
   "metadata": {},
   "source": [
    "#### *After the presentation we took your feedback into consideration, as you mentioned in the presentation the female partcipation was not 'unexpected finding' so we changed it to this finding that was both interesting and unexpected*"
   ]
  },
  {
   "cell_type": "markdown",
   "id": "a760cb98",
   "metadata": {},
   "source": [
    "Importing the clean dataset from a csv form"
   ]
  },
  {
   "cell_type": "code",
   "execution_count": 127,
   "id": "ad16cf7f",
   "metadata": {},
   "outputs": [],
   "source": [
    "df120 = pd.read_csv(\"120_years_clean.csv\")"
   ]
  },
  {
   "cell_type": "markdown",
   "id": "50698a8b",
   "metadata": {},
   "source": [
    "**Drop Unecessary Columns**"
   ]
  },
  {
   "cell_type": "code",
   "execution_count": 128,
   "id": "2a44de9f",
   "metadata": {},
   "outputs": [],
   "source": [
    "df120.drop(columns=['Name', 'NOC', 'Games', 'City', 'Event', 'Season'], inplace=True)"
   ]
  },
  {
   "cell_type": "markdown",
   "id": "c43a19a0",
   "metadata": {},
   "source": [
    "#### Create a dataframe that contains details only about archers"
   ]
  },
  {
   "cell_type": "code",
   "execution_count": 129,
   "id": "7146b70b",
   "metadata": {},
   "outputs": [],
   "source": [
    "df_archery = df120[df120.Sport == 'Archery']"
   ]
  },
  {
   "cell_type": "code",
   "execution_count": 130,
   "id": "71a28e4f",
   "metadata": {
    "scrolled": true
   },
   "outputs": [
    {
     "data": {
      "text/html": [
       "<div>\n",
       "<style scoped>\n",
       "    .dataframe tbody tr th:only-of-type {\n",
       "        vertical-align: middle;\n",
       "    }\n",
       "\n",
       "    .dataframe tbody tr th {\n",
       "        vertical-align: top;\n",
       "    }\n",
       "\n",
       "    .dataframe thead th {\n",
       "        text-align: right;\n",
       "    }\n",
       "</style>\n",
       "<table border=\"1\" class=\"dataframe\">\n",
       "  <thead>\n",
       "    <tr style=\"text-align: right;\">\n",
       "      <th></th>\n",
       "      <th>Sex</th>\n",
       "      <th>Age</th>\n",
       "      <th>Height</th>\n",
       "      <th>Weight</th>\n",
       "      <th>Team</th>\n",
       "      <th>Year</th>\n",
       "      <th>Sport</th>\n",
       "      <th>Medal</th>\n",
       "    </tr>\n",
       "  </thead>\n",
       "  <tbody>\n",
       "    <tr>\n",
       "      <th>287</th>\n",
       "      <td>F</td>\n",
       "      <td>40.0</td>\n",
       "      <td>165.0</td>\n",
       "      <td>57.0</td>\n",
       "      <td>Morocco</td>\n",
       "      <td>2008</td>\n",
       "      <td>Archery</td>\n",
       "      <td>No medal won</td>\n",
       "    </tr>\n",
       "    <tr>\n",
       "      <th>659</th>\n",
       "      <td>F</td>\n",
       "      <td>35.0</td>\n",
       "      <td>Unknown</td>\n",
       "      <td>Unknown</td>\n",
       "      <td>Egypt</td>\n",
       "      <td>2008</td>\n",
       "      <td>Archery</td>\n",
       "      <td>No medal won</td>\n",
       "    </tr>\n",
       "    <tr>\n",
       "      <th>963</th>\n",
       "      <td>M</td>\n",
       "      <td>24.0</td>\n",
       "      <td>176.0</td>\n",
       "      <td>70.0</td>\n",
       "      <td>Russia</td>\n",
       "      <td>2008</td>\n",
       "      <td>Archery</td>\n",
       "      <td>No medal won</td>\n",
       "    </tr>\n",
       "    <tr>\n",
       "      <th>964</th>\n",
       "      <td>M</td>\n",
       "      <td>24.0</td>\n",
       "      <td>176.0</td>\n",
       "      <td>70.0</td>\n",
       "      <td>Russia</td>\n",
       "      <td>2008</td>\n",
       "      <td>Archery</td>\n",
       "      <td>No medal won</td>\n",
       "    </tr>\n",
       "    <tr>\n",
       "      <th>1054</th>\n",
       "      <td>F</td>\n",
       "      <td>25.0</td>\n",
       "      <td>160.0</td>\n",
       "      <td>57.0</td>\n",
       "      <td>Iran</td>\n",
       "      <td>2008</td>\n",
       "      <td>Archery</td>\n",
       "      <td>No medal won</td>\n",
       "    </tr>\n",
       "  </tbody>\n",
       "</table>\n",
       "</div>"
      ],
      "text/plain": [
       "     Sex   Age   Height   Weight     Team  Year    Sport         Medal\n",
       "287    F  40.0    165.0     57.0  Morocco  2008  Archery  No medal won\n",
       "659    F  35.0  Unknown  Unknown    Egypt  2008  Archery  No medal won\n",
       "963    M  24.0    176.0     70.0   Russia  2008  Archery  No medal won\n",
       "964    M  24.0    176.0     70.0   Russia  2008  Archery  No medal won\n",
       "1054   F  25.0    160.0     57.0     Iran  2008  Archery  No medal won"
      ]
     },
     "execution_count": 130,
     "metadata": {},
     "output_type": "execute_result"
    }
   ],
   "source": [
    "df_archery.head()"
   ]
  },
  {
   "cell_type": "markdown",
   "id": "1668251c",
   "metadata": {},
   "source": [
    "#### Drop unnecessary columns"
   ]
  },
  {
   "cell_type": "code",
   "execution_count": 131,
   "id": "00b31b02",
   "metadata": {},
   "outputs": [],
   "source": [
    "df_archery.drop(columns=['Sport'], inplace=True)"
   ]
  },
  {
   "cell_type": "markdown",
   "id": "08b456d9",
   "metadata": {},
   "source": [
    "#### Percentage of 'Unknowns' in age column"
   ]
  },
  {
   "cell_type": "code",
   "execution_count": 132,
   "id": "ccf7ee7c",
   "metadata": {
    "scrolled": true
   },
   "outputs": [
    {
     "data": {
      "text/plain": [
       "3.4275921165381322"
      ]
     },
     "execution_count": 132,
     "metadata": {},
     "output_type": "execute_result"
    }
   ],
   "source": [
    "(((df_archery.Age == 'Unknown').sum())/(df_archery.Age.size))*100"
   ]
  },
  {
   "cell_type": "markdown",
   "id": "2bf14a76",
   "metadata": {},
   "source": [
    "#### Percentage of 'Unknowns' in height column"
   ]
  },
  {
   "cell_type": "code",
   "execution_count": 133,
   "id": "b78d9be5",
   "metadata": {
    "scrolled": true
   },
   "outputs": [
    {
     "data": {
      "text/plain": [
       "16.666666666666664"
      ]
     },
     "execution_count": 133,
     "metadata": {},
     "output_type": "execute_result"
    }
   ],
   "source": [
    "(((df_archery.Height == 'Unknown').sum())/(df_archery.Height.size))*100"
   ]
  },
  {
   "cell_type": "markdown",
   "id": "6dd9ef8d",
   "metadata": {},
   "source": [
    "#### Percentage of 'Unknowns' in weight column"
   ]
  },
  {
   "cell_type": "code",
   "execution_count": 134,
   "id": "df2a5650",
   "metadata": {
    "scrolled": true
   },
   "outputs": [
    {
     "data": {
      "text/plain": [
       "19.194515852613538"
      ]
     },
     "execution_count": 134,
     "metadata": {},
     "output_type": "execute_result"
    }
   ],
   "source": [
    "(((df_archery.Weight == 'Unknown').sum())/(df_archery.Weight.size))*100"
   ]
  },
  {
   "cell_type": "markdown",
   "id": "766e71d8",
   "metadata": {},
   "source": [
    "#### Convert all the columns to numerical or binary values"
   ]
  },
  {
   "cell_type": "code",
   "execution_count": 135,
   "id": "8f0dc552",
   "metadata": {
    "scrolled": false
   },
   "outputs": [
    {
     "data": {
      "text/plain": [
       "Index(['Sex', 'Age', 'Height', 'Weight', 'Team', 'Year', 'Medal'], dtype='object')"
      ]
     },
     "execution_count": 135,
     "metadata": {},
     "output_type": "execute_result"
    }
   ],
   "source": [
    "df_archery.columns"
   ]
  },
  {
   "cell_type": "code",
   "execution_count": 136,
   "id": "2dbafca6",
   "metadata": {
    "scrolled": true
   },
   "outputs": [
    {
     "data": {
      "text/html": [
       "<div>\n",
       "<style scoped>\n",
       "    .dataframe tbody tr th:only-of-type {\n",
       "        vertical-align: middle;\n",
       "    }\n",
       "\n",
       "    .dataframe tbody tr th {\n",
       "        vertical-align: top;\n",
       "    }\n",
       "\n",
       "    .dataframe thead th {\n",
       "        text-align: right;\n",
       "    }\n",
       "</style>\n",
       "<table border=\"1\" class=\"dataframe\">\n",
       "  <thead>\n",
       "    <tr style=\"text-align: right;\">\n",
       "      <th></th>\n",
       "      <th>Sex</th>\n",
       "      <th>Age</th>\n",
       "      <th>Height</th>\n",
       "      <th>Weight</th>\n",
       "      <th>Team</th>\n",
       "      <th>Year</th>\n",
       "      <th>Medal</th>\n",
       "    </tr>\n",
       "  </thead>\n",
       "  <tbody>\n",
       "    <tr>\n",
       "      <th>287</th>\n",
       "      <td>F</td>\n",
       "      <td>40.0</td>\n",
       "      <td>165.0</td>\n",
       "      <td>57.0</td>\n",
       "      <td>Morocco</td>\n",
       "      <td>2008</td>\n",
       "      <td>No medal won</td>\n",
       "    </tr>\n",
       "  </tbody>\n",
       "</table>\n",
       "</div>"
      ],
      "text/plain": [
       "    Sex   Age Height Weight     Team  Year         Medal\n",
       "287   F  40.0  165.0   57.0  Morocco  2008  No medal won"
      ]
     },
     "execution_count": 136,
     "metadata": {},
     "output_type": "execute_result"
    }
   ],
   "source": [
    "df_archery.head(1)"
   ]
  },
  {
   "cell_type": "code",
   "execution_count": 137,
   "id": "820793d8",
   "metadata": {
    "scrolled": true
   },
   "outputs": [],
   "source": [
    "df_archery['Sex'] = df_archery.Sex.apply(lambda x : 1.0 if (x is'M') else 0.0)"
   ]
  },
  {
   "cell_type": "code",
   "execution_count": 138,
   "id": "036a06bd",
   "metadata": {},
   "outputs": [],
   "source": [
    "df_archery.loc[(df_archery.Medal=='Gold'), 'Medal'] = 1\n",
    "df_archery.loc[(df_archery.Medal=='Silver'), 'Medal'] = 1\n",
    "df_archery.loc[(df_archery.Medal=='Bronze'), 'Medal'] = 1\n",
    "df_archery.loc[(df_archery.Medal=='No medal won'), 'Medal'] = 0"
   ]
  },
  {
   "cell_type": "markdown",
   "id": "0266a63e",
   "metadata": {},
   "source": [
    "#### Replace 'Unknown' values in Height, Weight and Age columns with the median height of the country the athlete belongs to."
   ]
  },
  {
   "cell_type": "markdown",
   "id": "3aaca09b",
   "metadata": {},
   "source": [
    "#### Create a list of countries that has 'Unknown' values "
   ]
  },
  {
   "cell_type": "code",
   "execution_count": 139,
   "id": "2d29b10c",
   "metadata": {
    "scrolled": true
   },
   "outputs": [],
   "source": [
    "countries = list(df_archery[(df_archery.Height=='Unknown')|\\\n",
    "                         (df_archery.Weight=='Unknown')|\\\n",
    "                         (df_archery.Age=='Unknown')].Team.unique())"
   ]
  },
  {
   "cell_type": "markdown",
   "id": "54a11456",
   "metadata": {},
   "source": [
    "#### Calculate median height, weight and age for each country and add it to the respective dictionaries."
   ]
  },
  {
   "cell_type": "code",
   "execution_count": 140,
   "id": "951d018e",
   "metadata": {
    "scrolled": true
   },
   "outputs": [],
   "source": [
    "avg_height = dict()\n",
    "avg_weight = dict()\n",
    "avg_age = dict()\n",
    "for country in countries:\n",
    "    if ((df_archery.Height != 'Unknown').sum() != 0):\n",
    "        avg_height[country] = df_archery[(df_archery.Team == country) &\\\n",
    "                                         (df_archery.Height != 'Unknown')].Height.median()\n",
    "    if ((df_archery.Weight != 'Unknown').sum()!= 0):\n",
    "        avg_weight[country] = df_archery[(df_archery.Team == country) &\\\n",
    "                                         (df_archery.Weight != 'Unknown')].Weight.median()\n",
    "    if ((df_archery.Age != 'Unknown').sum() != 0):\n",
    "        avg_age[country] = df_archery[(df_archery.Team == country) &\\\n",
    "                                      (df_archery.Age != 'Unknown')].Age.median()"
   ]
  },
  {
   "cell_type": "markdown",
   "id": "198d15d8",
   "metadata": {},
   "source": [
    "#### Replace the 'Unknown' values with the median height of the respective countrie the athlete belongs to"
   ]
  },
  {
   "cell_type": "code",
   "execution_count": 141,
   "id": "fbdd5f7a",
   "metadata": {},
   "outputs": [],
   "source": [
    "for country in countries:\n",
    "    df_archery.loc[((df_archery.Height=='Unknown') &\\\n",
    "                    (df_archery.Team == country)), 'Height'] = avg_height[country]\n",
    "    df_archery.loc[((df_archery.Weight=='Unknown') &\\\n",
    "                    (df_archery.Team == country)), 'Weight'] = avg_weight[country]\n",
    "    df_archery.loc[((df_archery.Age=='Unknown') &\\\n",
    "                    (df_archery.Team == country)), 'Age'] = avg_age[country]"
   ]
  },
  {
   "cell_type": "markdown",
   "id": "70d3d776",
   "metadata": {},
   "source": [
    "#### Some of the values are NaNs because there are countries in which all the athlete's heights and weights are unknown. "
   ]
  },
  {
   "cell_type": "code",
   "execution_count": 142,
   "id": "fa39732d",
   "metadata": {
    "scrolled": false
   },
   "outputs": [
    {
     "data": {
      "text/plain": [
       "17"
      ]
     },
     "execution_count": 142,
     "metadata": {},
     "output_type": "execute_result"
    }
   ],
   "source": [
    "df_archery.Height.isna().sum()"
   ]
  },
  {
   "cell_type": "code",
   "execution_count": 143,
   "id": "4eaa9b26",
   "metadata": {
    "scrolled": false
   },
   "outputs": [
    {
     "data": {
      "text/plain": [
       "23"
      ]
     },
     "execution_count": 143,
     "metadata": {},
     "output_type": "execute_result"
    }
   ],
   "source": [
    "df_archery.Weight.isna().sum()"
   ]
  },
  {
   "cell_type": "code",
   "execution_count": 144,
   "id": "2c6812fc",
   "metadata": {},
   "outputs": [
    {
     "data": {
      "text/plain": [
       "0"
      ]
     },
     "execution_count": 144,
     "metadata": {},
     "output_type": "execute_result"
    }
   ],
   "source": [
    "df_archery.Age.isna().sum()"
   ]
  },
  {
   "cell_type": "markdown",
   "id": "8dd12c35",
   "metadata": {},
   "source": [
    "#### Fill the NaNs"
   ]
  },
  {
   "cell_type": "code",
   "execution_count": 145,
   "id": "e3ff8d70",
   "metadata": {},
   "outputs": [],
   "source": [
    "df_archery.Height.ffill(inplace=True)\n",
    "df_archery.Weight.ffill(inplace=True)"
   ]
  },
  {
   "cell_type": "markdown",
   "id": "b1a3240b",
   "metadata": {},
   "source": [
    "#### Create dummies for the 'Team' column"
   ]
  },
  {
   "cell_type": "code",
   "execution_count": 146,
   "id": "f0e9ac6f",
   "metadata": {},
   "outputs": [],
   "source": [
    "df_archery_dt = pd.get_dummies(df_archery, columns = ['Team'])"
   ]
  },
  {
   "cell_type": "code",
   "execution_count": 147,
   "id": "1e31b4f2",
   "metadata": {
    "scrolled": true
   },
   "outputs": [
    {
     "data": {
      "text/html": [
       "<div>\n",
       "<style scoped>\n",
       "    .dataframe tbody tr th:only-of-type {\n",
       "        vertical-align: middle;\n",
       "    }\n",
       "\n",
       "    .dataframe tbody tr th {\n",
       "        vertical-align: top;\n",
       "    }\n",
       "\n",
       "    .dataframe thead th {\n",
       "        text-align: right;\n",
       "    }\n",
       "</style>\n",
       "<table border=\"1\" class=\"dataframe\">\n",
       "  <thead>\n",
       "    <tr style=\"text-align: right;\">\n",
       "      <th></th>\n",
       "      <th>Sex</th>\n",
       "      <th>Age</th>\n",
       "      <th>Height</th>\n",
       "      <th>Weight</th>\n",
       "      <th>Year</th>\n",
       "      <th>Medal</th>\n",
       "      <th>Team_American Samoa</th>\n",
       "      <th>Team_Argentina</th>\n",
       "      <th>Team_Australia</th>\n",
       "      <th>Team_Austria</th>\n",
       "      <th>...</th>\n",
       "      <th>Team_Turkey</th>\n",
       "      <th>Team_Uganda</th>\n",
       "      <th>Team_Ukraine</th>\n",
       "      <th>Team_Unified Team</th>\n",
       "      <th>Team_United States</th>\n",
       "      <th>Team_Vanuatu</th>\n",
       "      <th>Team_Venezuela</th>\n",
       "      <th>Team_West Germany</th>\n",
       "      <th>Team_Yugoslavia</th>\n",
       "      <th>Team_Zimbabwe</th>\n",
       "    </tr>\n",
       "  </thead>\n",
       "  <tbody>\n",
       "    <tr>\n",
       "      <th>287</th>\n",
       "      <td>0.0</td>\n",
       "      <td>40.0</td>\n",
       "      <td>165.0</td>\n",
       "      <td>57.0</td>\n",
       "      <td>2008</td>\n",
       "      <td>0</td>\n",
       "      <td>0</td>\n",
       "      <td>0</td>\n",
       "      <td>0</td>\n",
       "      <td>0</td>\n",
       "      <td>...</td>\n",
       "      <td>0</td>\n",
       "      <td>0</td>\n",
       "      <td>0</td>\n",
       "      <td>0</td>\n",
       "      <td>0</td>\n",
       "      <td>0</td>\n",
       "      <td>0</td>\n",
       "      <td>0</td>\n",
       "      <td>0</td>\n",
       "      <td>0</td>\n",
       "    </tr>\n",
       "  </tbody>\n",
       "</table>\n",
       "<p>1 rows × 108 columns</p>\n",
       "</div>"
      ],
      "text/plain": [
       "     Sex   Age Height Weight  Year Medal  Team_American Samoa  Team_Argentina  \\\n",
       "287  0.0  40.0  165.0   57.0  2008     0                    0               0   \n",
       "\n",
       "     Team_Australia  Team_Austria  ...  Team_Turkey  Team_Uganda  \\\n",
       "287               0             0  ...            0            0   \n",
       "\n",
       "     Team_Ukraine  Team_Unified Team  Team_United States  Team_Vanuatu  \\\n",
       "287             0                  0                   0             0   \n",
       "\n",
       "     Team_Venezuela  Team_West Germany  Team_Yugoslavia  Team_Zimbabwe  \n",
       "287               0                  0                0              0  \n",
       "\n",
       "[1 rows x 108 columns]"
      ]
     },
     "execution_count": 147,
     "metadata": {},
     "output_type": "execute_result"
    }
   ],
   "source": [
    "df_archery_dt.head(1)"
   ]
  },
  {
   "cell_type": "markdown",
   "id": "0f32baaa",
   "metadata": {},
   "source": [
    "### Classification"
   ]
  },
  {
   "cell_type": "markdown",
   "id": "35ffce1d",
   "metadata": {},
   "source": [
    "#### Assign X and Y"
   ]
  },
  {
   "cell_type": "code",
   "execution_count": 148,
   "id": "e6900f3a",
   "metadata": {
    "scrolled": false
   },
   "outputs": [],
   "source": [
    "Y = df_archery_dt.Medal\n",
    "X = df_archery_dt.drop(['Medal', 'Year'],axis=1)"
   ]
  },
  {
   "cell_type": "code",
   "execution_count": 149,
   "id": "69a1e34b",
   "metadata": {},
   "outputs": [
    {
     "data": {
      "text/plain": [
       "array([0, 1], dtype=object)"
      ]
     },
     "execution_count": 149,
     "metadata": {},
     "output_type": "execute_result"
    }
   ],
   "source": [
    "Y.unique()"
   ]
  },
  {
   "cell_type": "markdown",
   "id": "7d27f465",
   "metadata": {},
   "source": [
    "#### Convert object to int type"
   ]
  },
  {
   "cell_type": "code",
   "execution_count": 150,
   "id": "039b96a7",
   "metadata": {},
   "outputs": [],
   "source": [
    "Y=Y.astype('int')"
   ]
  },
  {
   "cell_type": "code",
   "execution_count": 151,
   "id": "d7fd3928",
   "metadata": {},
   "outputs": [
    {
     "data": {
      "text/plain": [
       "array([0, 1])"
      ]
     },
     "execution_count": 151,
     "metadata": {},
     "output_type": "execute_result"
    }
   ],
   "source": [
    "Y.unique()"
   ]
  },
  {
   "cell_type": "markdown",
   "id": "a6494342",
   "metadata": {},
   "source": [
    "#### Build the tree"
   ]
  },
  {
   "cell_type": "code",
   "execution_count": 152,
   "id": "8ae032c0",
   "metadata": {},
   "outputs": [],
   "source": [
    "dt = tree.DecisionTreeClassifier(max_depth=3)"
   ]
  },
  {
   "cell_type": "code",
   "execution_count": 153,
   "id": "bfa178ac",
   "metadata": {
    "scrolled": true
   },
   "outputs": [
    {
     "data": {
      "text/plain": [
       "DecisionTreeClassifier(max_depth=3)"
      ]
     },
     "execution_count": 153,
     "metadata": {},
     "output_type": "execute_result"
    }
   ],
   "source": [
    "dt.fit(X,Y)"
   ]
  },
  {
   "cell_type": "code",
   "execution_count": 154,
   "id": "1e2a44ac",
   "metadata": {
    "scrolled": true
   },
   "outputs": [
    {
     "data": {
      "text/plain": [
       "['Sex',\n",
       " 'Age',\n",
       " 'Height',\n",
       " 'Weight',\n",
       " 'Team_American Samoa',\n",
       " 'Team_Argentina',\n",
       " 'Team_Australia',\n",
       " 'Team_Austria',\n",
       " 'Team_Azerbaijan',\n",
       " 'Team_Bangladesh']"
      ]
     },
     "execution_count": 154,
     "metadata": {},
     "output_type": "execute_result"
    }
   ],
   "source": [
    "dt_feature_names = list(X.columns)\n",
    "dt_feature_names[:10]"
   ]
  },
  {
   "cell_type": "code",
   "execution_count": 155,
   "id": "b1e38798",
   "metadata": {
    "scrolled": true
   },
   "outputs": [
    {
     "data": {
      "text/plain": [
       "['0', '1']"
      ]
     },
     "execution_count": 155,
     "metadata": {},
     "output_type": "execute_result"
    }
   ],
   "source": [
    "dt_target_names = [str(s) for s in Y.unique()]\n",
    "dt_target_names"
   ]
  },
  {
   "cell_type": "markdown",
   "id": "b42c44ad",
   "metadata": {},
   "source": [
    "#### **Fig 5: Decision Tree**"
   ]
  },
  {
   "cell_type": "markdown",
   "id": "99a3b987",
   "metadata": {},
   "source": [
    "#### Visualize Decision Tree"
   ]
  },
  {
   "cell_type": "code",
   "execution_count": 156,
   "id": "b2095995",
   "metadata": {
    "scrolled": true
   },
   "outputs": [
    {
     "data": {
      "image/png": "[encoded data removed]",
      "text/plain": [
       "<IPython.core.display.Image object>"
      ]
     },
     "execution_count": 156,
     "metadata": {},
     "output_type": "execute_result"
    }
   ],
   "source": [
    "tree.export_graphviz(dt, out_file='tree.dot', \n",
    "    feature_names=dt_feature_names, class_names=dt_target_names,\n",
    "    filled=True)  \n",
    "graph = pydotplus.graph_from_dot_file('tree.dot')\n",
    "Image(graph.create_png())"
   ]
  },
  {
   "cell_type": "markdown",
   "id": "e74e4967",
   "metadata": {},
   "source": [
    "In South Korea, in the discipline of archery, women outperform men"
   ]
  },
  {
   "cell_type": "markdown",
   "id": "6ce178af",
   "metadata": {},
   "source": [
    "### Validation:"
   ]
  },
  {
   "cell_type": "markdown",
   "id": "bbb870f8",
   "metadata": {},
   "source": [
    "#### Create a dataframe that has only South Korean athletes' information who participated in Archery"
   ]
  },
  {
   "cell_type": "code",
   "execution_count": 157,
   "id": "39094a9d",
   "metadata": {},
   "outputs": [],
   "source": [
    "df_s_korea = df_archery[(df_archery.Team == 'South Korea')]"
   ]
  },
  {
   "cell_type": "code",
   "execution_count": 158,
   "id": "2e7f157c",
   "metadata": {},
   "outputs": [],
   "source": [
    "df_s_korea.loc[(df_s_korea.Sex == 1), 'Sex'] = 'Male'\n",
    "df_s_korea.loc[(df_s_korea.Sex == 0), 'Sex'] = 'Female'"
   ]
  },
  {
   "cell_type": "code",
   "execution_count": 159,
   "id": "c93ceb96",
   "metadata": {},
   "outputs": [
    {
     "data": {
      "text/html": [
       "<div>\n",
       "<style scoped>\n",
       "    .dataframe tbody tr th:only-of-type {\n",
       "        vertical-align: middle;\n",
       "    }\n",
       "\n",
       "    .dataframe tbody tr th {\n",
       "        vertical-align: top;\n",
       "    }\n",
       "\n",
       "    .dataframe thead th {\n",
       "        text-align: right;\n",
       "    }\n",
       "</style>\n",
       "<table border=\"1\" class=\"dataframe\">\n",
       "  <thead>\n",
       "    <tr style=\"text-align: right;\">\n",
       "      <th></th>\n",
       "      <th>Sex</th>\n",
       "      <th>Age</th>\n",
       "      <th>Height</th>\n",
       "      <th>Weight</th>\n",
       "      <th>Team</th>\n",
       "      <th>Year</th>\n",
       "      <th>Medal</th>\n",
       "    </tr>\n",
       "  </thead>\n",
       "  <tbody>\n",
       "    <tr>\n",
       "      <th>38429</th>\n",
       "      <td>Female</td>\n",
       "      <td>29.0</td>\n",
       "      <td>158.0</td>\n",
       "      <td>50.0</td>\n",
       "      <td>South Korea</td>\n",
       "      <td>2016</td>\n",
       "      <td>1</td>\n",
       "    </tr>\n",
       "  </tbody>\n",
       "</table>\n",
       "</div>"
      ],
      "text/plain": [
       "          Sex   Age Height Weight         Team  Year Medal\n",
       "38429  Female  29.0  158.0   50.0  South Korea  2016     1"
      ]
     },
     "execution_count": 159,
     "metadata": {},
     "output_type": "execute_result"
    }
   ],
   "source": [
    "df_s_korea.head(1)"
   ]
  },
  {
   "cell_type": "markdown",
   "id": "ac182511",
   "metadata": {},
   "source": [
    "#### Fig 6: Female and Male Partcipants from South Korea in Sport Archery"
   ]
  },
  {
   "cell_type": "markdown",
   "id": "553dee61",
   "metadata": {},
   "source": [
    "#### Total male and female archers from South Korea who participated in the Olympics"
   ]
  },
  {
   "cell_type": "code",
   "execution_count": 160,
   "id": "7d451429",
   "metadata": {},
   "outputs": [
    {
     "data": {
      "image/png": "[encoded data removed]",
      "text/plain": [
       "<Figure size 432x288 with 1 Axes>"
      ]
     },
     "metadata": {
      "needs_background": "light"
     },
     "output_type": "display_data"
    }
   ],
   "source": [
    "ax = sns.countplot(df_s_korea.Sex)\n",
    "ax.set(xlabel='Sex', ylabel='Athlete count')\n",
    "plt.show()"
   ]
  },
  {
   "cell_type": "markdown",
   "id": "de5a3b1c",
   "metadata": {},
   "source": [
    "#### Create a dataframe that has only South Korean athletes' information who won medals in Archery"
   ]
  },
  {
   "cell_type": "code",
   "execution_count": 161,
   "id": "fb266e8a",
   "metadata": {
    "scrolled": true
   },
   "outputs": [],
   "source": [
    "df_s_korea_med = df_s_korea[df_archery.Medal==1]"
   ]
  },
  {
   "cell_type": "markdown",
   "id": "94b24fef",
   "metadata": {},
   "source": [
    "#### Fig 7: Male and Female Medal Count in Sport Archery from Country South Korea"
   ]
  },
  {
   "cell_type": "markdown",
   "id": "f769198c",
   "metadata": {},
   "source": [
    "#### Total male and female archers from South Korea who won medals in the Olympics"
   ]
  },
  {
   "cell_type": "code",
   "execution_count": 162,
   "id": "a04d5801",
   "metadata": {
    "scrolled": true
   },
   "outputs": [
    {
     "data": {
      "image/png": "[encoded data removed]",
      "text/plain": [
       "<Figure size 432x288 with 1 Axes>"
      ]
     },
     "metadata": {
      "needs_background": "light"
     },
     "output_type": "display_data"
    }
   ],
   "source": [
    "ax = sns.countplot(df_s_korea_med.Sex)\n",
    "ax.set(xlabel='Sex', ylabel='Medal count')\n",
    "plt.show()"
   ]
  },
  {
   "cell_type": "markdown",
   "id": "e70d0140",
   "metadata": {},
   "source": [
    "#### Percentage of women archers from South Korea who won medals"
   ]
  },
  {
   "cell_type": "code",
   "execution_count": 163,
   "id": "58ac39d2",
   "metadata": {
    "scrolled": true
   },
   "outputs": [
    {
     "data": {
      "text/plain": [
       "82.35294117647058"
      ]
     },
     "execution_count": 163,
     "metadata": {},
     "output_type": "execute_result"
    }
   ],
   "source": [
    "((df_s_korea_med.Sex == 'Female').sum()/(df_s_korea.Sex == 'Female').sum())*100"
   ]
  },
  {
   "cell_type": "markdown",
   "id": "45f7f887",
   "metadata": {},
   "source": [
    "#### Percentage of male archers from South Korea who won medals"
   ]
  },
  {
   "cell_type": "code",
   "execution_count": 164,
   "id": "cc412ba8",
   "metadata": {},
   "outputs": [
    {
     "data": {
      "text/plain": [
       "52.94117647058824"
      ]
     },
     "execution_count": 164,
     "metadata": {},
     "output_type": "execute_result"
    }
   ],
   "source": [
    "((df_s_korea_med.Sex == 'Male').sum()/(df_s_korea.Sex == 'Male').sum())*100"
   ]
  },
  {
   "cell_type": "markdown",
   "id": "31609ac6",
   "metadata": {},
   "source": [
    "#### Female outperformace percentage"
   ]
  },
  {
   "cell_type": "code",
   "execution_count": 165,
   "id": "f349eb25",
   "metadata": {
    "scrolled": false
   },
   "outputs": [],
   "source": [
    "f = ((df_s_korea_med.Sex == 'Female').sum() / len(df_s_korea_med))*100"
   ]
  },
  {
   "cell_type": "code",
   "execution_count": 166,
   "id": "ca2e1770",
   "metadata": {
    "scrolled": false
   },
   "outputs": [],
   "source": [
    "m = ((df_s_korea_med.Sex == 'Male').sum() / len(df_s_korea_med))*100"
   ]
  },
  {
   "cell_type": "code",
   "execution_count": 167,
   "id": "ee045664",
   "metadata": {},
   "outputs": [
    {
     "data": {
      "text/plain": [
       "55.55555555555558"
      ]
     },
     "execution_count": 167,
     "metadata": {},
     "output_type": "execute_result"
    }
   ],
   "source": [
    "((f-m)/m)*100"
   ]
  },
  {
   "cell_type": "markdown",
   "id": "fa457dee",
   "metadata": {},
   "source": [
    "#### Conclusion:"
   ]
  },
  {
   "cell_type": "markdown",
   "id": "2ffbe225",
   "metadata": {},
   "source": [
    "In South Korea, in the discipline of archery, women outperform men by 55.56%.\n",
    "82.35% of the women archers who participated won a medal while only 52.94% of the men archers won a medal. \n",
    "\n",
    "Total female archers = 51\n",
    "Total number of medals won by women = 42\n",
    "\n",
    "Total male archers = 51\n",
    "Total number of medals won by men = 27\n",
    "\n",
    "Moreover, a South Korean female archer with height greater than 157.5cm is more likely to win a medal in Olympics. A South Korean male archer taller than 173.5 cm is more likely to win a medal."
   ]
  },
  {
   "cell_type": "markdown",
   "id": "19682caa",
   "metadata": {},
   "source": [
    "#### Managerial insights:"
   ]
  },
  {
   "cell_type": "markdown",
   "id": "8ce44886",
   "metadata": {},
   "source": [
    "It is interesting to note that the women archers outperformed men in South Korea because women has always been underrepresented in the 120 years of Olympics history. But when given equal opportunity women can excel as good as men if not better. The South Korean archers proved this in the Olympics.\n",
    "\n",
    "**From the South Koren Country Perspective, it is important to consider the following:**\n",
    "- When recruiting for women partcipants in the sport of archery there is a trend of having a height of greater than or equal to 157.5cm tends to win medals, using this the country can recruit more women in this height range to potenially win more medals.\n",
    "- When thinking about women out performing men, maybe South Korean men need a new approach to training in Archery\n",
    "- recruit men with the typical height of 173.5cm or greater for a higher chance of winning a medal.\n",
    "\n"
   ]
  },
  {
   "cell_type": "markdown",
   "id": "3573fe54",
   "metadata": {},
   "source": [
    "### Old - Insight 3B: Machine Learning : Predict the female representation in the 2022 Winter Olympics"
   ]
  },
  {
   "cell_type": "code",
   "execution_count": 168,
   "id": "959bcd19",
   "metadata": {
    "scrolled": true
   },
   "outputs": [
    {
     "data": {
      "text/html": [
       "<div>\n",
       "<style scoped>\n",
       "    .dataframe tbody tr th:only-of-type {\n",
       "        vertical-align: middle;\n",
       "    }\n",
       "\n",
       "    .dataframe tbody tr th {\n",
       "        vertical-align: top;\n",
       "    }\n",
       "\n",
       "    .dataframe thead th {\n",
       "        text-align: right;\n",
       "    }\n",
       "</style>\n",
       "<table border=\"1\" class=\"dataframe\">\n",
       "  <thead>\n",
       "    <tr style=\"text-align: right;\">\n",
       "      <th></th>\n",
       "      <th>name</th>\n",
       "      <th>gender</th>\n",
       "      <th>birth_date</th>\n",
       "      <th>country</th>\n",
       "      <th>discipline</th>\n",
       "      <th>height_m_ft</th>\n",
       "      <th>Age</th>\n",
       "      <th>height_feet</th>\n",
       "    </tr>\n",
       "  </thead>\n",
       "  <tbody>\n",
       "    <tr>\n",
       "      <th>0</th>\n",
       "      <td>AALERUD Katrine</td>\n",
       "      <td>Female</td>\n",
       "      <td>12/4/1994</td>\n",
       "      <td>Norway</td>\n",
       "      <td>Cycling Road</td>\n",
       "      <td>Unknown</td>\n",
       "      <td>26.0</td>\n",
       "      <td>Unknown</td>\n",
       "    </tr>\n",
       "  </tbody>\n",
       "</table>\n",
       "</div>"
      ],
      "text/plain": [
       "              name  gender birth_date country    discipline height_m_ft   Age  \\\n",
       "0  AALERUD Katrine  Female  12/4/1994  Norway  Cycling Road     Unknown  26.0   \n",
       "\n",
       "  height_feet  \n",
       "0     Unknown  "
      ]
     },
     "execution_count": 168,
     "metadata": {},
     "output_type": "execute_result"
    }
   ],
   "source": [
    "df_a.head(1)"
   ]
  },
  {
   "cell_type": "markdown",
   "id": "04fe41a5",
   "metadata": {},
   "source": [
    "#### Drop unnecessary columns in the athlete csv file"
   ]
  },
  {
   "cell_type": "code",
   "execution_count": 169,
   "id": "80f74464",
   "metadata": {},
   "outputs": [],
   "source": [
    "df_a.drop(columns = ['birth_date', 'country', 'discipline', 'height_m_ft', 'Age', 'height_feet'], inplace = True)"
   ]
  },
  {
   "cell_type": "code",
   "execution_count": 170,
   "id": "9f4c8401",
   "metadata": {
    "scrolled": false
   },
   "outputs": [
    {
     "data": {
      "text/html": [
       "<div>\n",
       "<style scoped>\n",
       "    .dataframe tbody tr th:only-of-type {\n",
       "        vertical-align: middle;\n",
       "    }\n",
       "\n",
       "    .dataframe tbody tr th {\n",
       "        vertical-align: top;\n",
       "    }\n",
       "\n",
       "    .dataframe thead th {\n",
       "        text-align: right;\n",
       "    }\n",
       "</style>\n",
       "<table border=\"1\" class=\"dataframe\">\n",
       "  <thead>\n",
       "    <tr style=\"text-align: right;\">\n",
       "      <th></th>\n",
       "      <th>name</th>\n",
       "      <th>gender</th>\n",
       "    </tr>\n",
       "  </thead>\n",
       "  <tbody>\n",
       "    <tr>\n",
       "      <th>0</th>\n",
       "      <td>AALERUD Katrine</td>\n",
       "      <td>Female</td>\n",
       "    </tr>\n",
       "  </tbody>\n",
       "</table>\n",
       "</div>"
      ],
      "text/plain": [
       "              name  gender\n",
       "0  AALERUD Katrine  Female"
      ]
     },
     "execution_count": 170,
     "metadata": {},
     "output_type": "execute_result"
    }
   ],
   "source": [
    "df_a.head(1)"
   ]
  },
  {
   "cell_type": "code",
   "execution_count": 171,
   "id": "a5822156",
   "metadata": {},
   "outputs": [
    {
     "data": {
      "text/html": [
       "<div>\n",
       "<style scoped>\n",
       "    .dataframe tbody tr th:only-of-type {\n",
       "        vertical-align: middle;\n",
       "    }\n",
       "\n",
       "    .dataframe tbody tr th {\n",
       "        vertical-align: top;\n",
       "    }\n",
       "\n",
       "    .dataframe thead th {\n",
       "        text-align: right;\n",
       "    }\n",
       "</style>\n",
       "<table border=\"1\" class=\"dataframe\">\n",
       "  <thead>\n",
       "    <tr style=\"text-align: right;\">\n",
       "      <th></th>\n",
       "      <th>Name</th>\n",
       "      <th>Sex</th>\n",
       "      <th>Age</th>\n",
       "      <th>Height</th>\n",
       "      <th>Weight</th>\n",
       "      <th>Team</th>\n",
       "      <th>NOC</th>\n",
       "      <th>Games</th>\n",
       "      <th>Year</th>\n",
       "      <th>Season</th>\n",
       "      <th>City</th>\n",
       "      <th>Sport</th>\n",
       "      <th>Event</th>\n",
       "      <th>Medal</th>\n",
       "    </tr>\n",
       "  </thead>\n",
       "  <tbody>\n",
       "    <tr>\n",
       "      <th>0</th>\n",
       "      <td>A Dijiang</td>\n",
       "      <td>M</td>\n",
       "      <td>24.0</td>\n",
       "      <td>180.0</td>\n",
       "      <td>80.0</td>\n",
       "      <td>China</td>\n",
       "      <td>CHN</td>\n",
       "      <td>1992 Summer</td>\n",
       "      <td>1992</td>\n",
       "      <td>Summer</td>\n",
       "      <td>Barcelona</td>\n",
       "      <td>Basketball</td>\n",
       "      <td>Basketball Men's Basketball</td>\n",
       "      <td>0</td>\n",
       "    </tr>\n",
       "  </tbody>\n",
       "</table>\n",
       "</div>"
      ],
      "text/plain": [
       "        Name Sex   Age Height Weight   Team  NOC        Games  Year  Season  \\\n",
       "0  A Dijiang   M  24.0  180.0   80.0  China  CHN  1992 Summer  1992  Summer   \n",
       "\n",
       "        City       Sport                        Event Medal  \n",
       "0  Barcelona  Basketball  Basketball Men's Basketball     0  "
      ]
     },
     "execution_count": 171,
     "metadata": {},
     "output_type": "execute_result"
    }
   ],
   "source": [
    "df_120.head(1)"
   ]
  },
  {
   "cell_type": "markdown",
   "id": "51a4ff7f",
   "metadata": {},
   "source": [
    "#### Merge 120 years dataset with Tokyo2021-athletes dataset"
   ]
  },
  {
   "cell_type": "code",
   "execution_count": 172,
   "id": "c78e37ba",
   "metadata": {},
   "outputs": [],
   "source": [
    "df_120 = df_120.merge(df_a, left_on = 'Name', right_on = 'name', how = 'outer')"
   ]
  },
  {
   "cell_type": "markdown",
   "id": "fca4cf17",
   "metadata": {},
   "source": [
    " #### Check for NaNs"
   ]
  },
  {
   "cell_type": "code",
   "execution_count": 173,
   "id": "1aa0fb1c",
   "metadata": {
    "scrolled": true
   },
   "outputs": [
    {
     "data": {
      "text/plain": [
       "11656"
      ]
     },
     "execution_count": 173,
     "metadata": {},
     "output_type": "execute_result"
    }
   ],
   "source": [
    "df_120.Name.isna().sum()"
   ]
  },
  {
   "cell_type": "code",
   "execution_count": 174,
   "id": "6891cd7a",
   "metadata": {
    "scrolled": true
   },
   "outputs": [
    {
     "data": {
      "text/plain": [
       "11656"
      ]
     },
     "execution_count": 174,
     "metadata": {},
     "output_type": "execute_result"
    }
   ],
   "source": [
    "df_120.Sex.isna().sum()"
   ]
  },
  {
   "cell_type": "markdown",
   "id": "d96cab7a",
   "metadata": {},
   "source": [
    "#### Fill NaNs"
   ]
  },
  {
   "cell_type": "code",
   "execution_count": 175,
   "id": "cda57933",
   "metadata": {},
   "outputs": [],
   "source": [
    "df_120.loc[(df_120.Name.isna()), 'Name'] = df_120.name"
   ]
  },
  {
   "cell_type": "code",
   "execution_count": 176,
   "id": "525b4c9a",
   "metadata": {},
   "outputs": [],
   "source": [
    "df_120.loc[(df_120.Sex.isna()), 'Sex'] = df_120.gender"
   ]
  },
  {
   "cell_type": "code",
   "execution_count": 177,
   "id": "ded9fe5f",
   "metadata": {},
   "outputs": [],
   "source": [
    "df_120.loc[(df_120.Year.isna()), 'Year'] = 2020.0"
   ]
  },
  {
   "cell_type": "code",
   "execution_count": 178,
   "id": "73341e43",
   "metadata": {},
   "outputs": [],
   "source": [
    "df_120.loc[(df_120.Season.isna()), 'Season'] = 'Summer'"
   ]
  },
  {
   "cell_type": "markdown",
   "id": "229a44ee",
   "metadata": {},
   "source": [
    "#### Follow uniform values"
   ]
  },
  {
   "cell_type": "code",
   "execution_count": 179,
   "id": "55f18ff0",
   "metadata": {},
   "outputs": [],
   "source": [
    "df_120.loc[(df_120.Sex == 'Female'), 'Sex'] = 'F'"
   ]
  },
  {
   "cell_type": "code",
   "execution_count": 180,
   "id": "954b11b8",
   "metadata": {},
   "outputs": [],
   "source": [
    "df_120.loc[(df_120.Sex == 'Male'), 'Sex'] = 'M'"
   ]
  },
  {
   "cell_type": "markdown",
   "id": "cc260e15",
   "metadata": {},
   "source": [
    " #### Drop unnecessary columns"
   ]
  },
  {
   "cell_type": "code",
   "execution_count": 181,
   "id": "2411f31a",
   "metadata": {},
   "outputs": [],
   "source": [
    "df_120.drop(columns = ['Name', 'NOC', 'Games', 'Team', 'Event', 'City', 'Height',\\\n",
    "                    'Weight', 'Age', 'Medal', 'name','gender', 'Sport'],axis=1,inplace=True)"
   ]
  },
  {
   "cell_type": "code",
   "execution_count": 182,
   "id": "27c0248f",
   "metadata": {},
   "outputs": [
    {
     "data": {
      "text/html": [
       "<div>\n",
       "<style scoped>\n",
       "    .dataframe tbody tr th:only-of-type {\n",
       "        vertical-align: middle;\n",
       "    }\n",
       "\n",
       "    .dataframe tbody tr th {\n",
       "        vertical-align: top;\n",
       "    }\n",
       "\n",
       "    .dataframe thead th {\n",
       "        text-align: right;\n",
       "    }\n",
       "</style>\n",
       "<table border=\"1\" class=\"dataframe\">\n",
       "  <thead>\n",
       "    <tr style=\"text-align: right;\">\n",
       "      <th></th>\n",
       "      <th>Sex</th>\n",
       "      <th>Year</th>\n",
       "      <th>Season</th>\n",
       "    </tr>\n",
       "  </thead>\n",
       "  <tbody>\n",
       "    <tr>\n",
       "      <th>0</th>\n",
       "      <td>M</td>\n",
       "      <td>1992.0</td>\n",
       "      <td>Summer</td>\n",
       "    </tr>\n",
       "    <tr>\n",
       "      <th>1</th>\n",
       "      <td>M</td>\n",
       "      <td>2012.0</td>\n",
       "      <td>Summer</td>\n",
       "    </tr>\n",
       "    <tr>\n",
       "      <th>2</th>\n",
       "      <td>M</td>\n",
       "      <td>1920.0</td>\n",
       "      <td>Summer</td>\n",
       "    </tr>\n",
       "    <tr>\n",
       "      <th>3</th>\n",
       "      <td>M</td>\n",
       "      <td>1900.0</td>\n",
       "      <td>Summer</td>\n",
       "    </tr>\n",
       "    <tr>\n",
       "      <th>4</th>\n",
       "      <td>F</td>\n",
       "      <td>1988.0</td>\n",
       "      <td>Winter</td>\n",
       "    </tr>\n",
       "  </tbody>\n",
       "</table>\n",
       "</div>"
      ],
      "text/plain": [
       "  Sex    Year  Season\n",
       "0   M  1992.0  Summer\n",
       "1   M  2012.0  Summer\n",
       "2   M  1920.0  Summer\n",
       "3   M  1900.0  Summer\n",
       "4   F  1988.0  Winter"
      ]
     },
     "execution_count": 182,
     "metadata": {},
     "output_type": "execute_result"
    }
   ],
   "source": [
    "df_120.head()"
   ]
  },
  {
   "cell_type": "markdown",
   "id": "81f3ba36",
   "metadata": {},
   "source": [
    "#### Groupby to get the total number of male and female athletes who participated in each Olympics"
   ]
  },
  {
   "cell_type": "code",
   "execution_count": 183,
   "id": "1525fa40",
   "metadata": {
    "scrolled": false
   },
   "outputs": [
    {
     "data": {
      "text/html": [
       "<div>\n",
       "<style scoped>\n",
       "    .dataframe tbody tr th:only-of-type {\n",
       "        vertical-align: middle;\n",
       "    }\n",
       "\n",
       "    .dataframe tbody tr th {\n",
       "        vertical-align: top;\n",
       "    }\n",
       "\n",
       "    .dataframe thead th {\n",
       "        text-align: right;\n",
       "    }\n",
       "</style>\n",
       "<table border=\"1\" class=\"dataframe\">\n",
       "  <thead>\n",
       "    <tr style=\"text-align: right;\">\n",
       "      <th></th>\n",
       "      <th>Year</th>\n",
       "      <th>Season</th>\n",
       "      <th>Sex</th>\n",
       "      <th>N_athletes</th>\n",
       "    </tr>\n",
       "  </thead>\n",
       "  <tbody>\n",
       "    <tr>\n",
       "      <th>99</th>\n",
       "      <td>2016.0</td>\n",
       "      <td>Summer</td>\n",
       "      <td>F</td>\n",
       "      <td>6223</td>\n",
       "    </tr>\n",
       "    <tr>\n",
       "      <th>100</th>\n",
       "      <td>2016.0</td>\n",
       "      <td>Summer</td>\n",
       "      <td>M</td>\n",
       "      <td>7465</td>\n",
       "    </tr>\n",
       "    <tr>\n",
       "      <th>101</th>\n",
       "      <td>2020.0</td>\n",
       "      <td>Summer</td>\n",
       "      <td>F</td>\n",
       "      <td>5495</td>\n",
       "    </tr>\n",
       "    <tr>\n",
       "      <th>102</th>\n",
       "      <td>2020.0</td>\n",
       "      <td>Summer</td>\n",
       "      <td>M</td>\n",
       "      <td>6002</td>\n",
       "    </tr>\n",
       "    <tr>\n",
       "      <th>103</th>\n",
       "      <td>2020.0</td>\n",
       "      <td>Summer</td>\n",
       "      <td>Unknown</td>\n",
       "      <td>159</td>\n",
       "    </tr>\n",
       "  </tbody>\n",
       "</table>\n",
       "</div>"
      ],
      "text/plain": [
       "       Year  Season      Sex  N_athletes\n",
       "99   2016.0  Summer        F        6223\n",
       "100  2016.0  Summer        M        7465\n",
       "101  2020.0  Summer        F        5495\n",
       "102  2020.0  Summer        M        6002\n",
       "103  2020.0  Summer  Unknown         159"
      ]
     },
     "execution_count": 183,
     "metadata": {},
     "output_type": "execute_result"
    }
   ],
   "source": [
    "athlete_count = df_120.groupby(['Year', 'Season', 'Sex'], as_index = False).size()\\\n",
    "                .rename(columns= {'size':'N_athletes'})\n",
    "athlete_count.tail()"
   ]
  },
  {
   "cell_type": "markdown",
   "id": "bd106110",
   "metadata": {},
   "source": [
    "#### Remove the unknown row"
   ]
  },
  {
   "cell_type": "code",
   "execution_count": 184,
   "id": "a3136aab",
   "metadata": {},
   "outputs": [],
   "source": [
    "athlete_count = athlete_count[athlete_count.Sex != 'Unknown']"
   ]
  },
  {
   "cell_type": "markdown",
   "id": "5f6eda9c",
   "metadata": {},
   "source": [
    "#### Add the 2018 winter olympics data into the athlete_count.\n",
    "##### Source: Wikipedia"
   ]
  },
  {
   "cell_type": "code",
   "execution_count": 185,
   "id": "f0b89992",
   "metadata": {},
   "outputs": [],
   "source": [
    "athlete_count = athlete_count.append({'Year': 2018.0, 'Season': 'Winter', 'Sex':'F', 'N_athletes': 1242},\\\n",
    "                                     ignore_index = True)"
   ]
  },
  {
   "cell_type": "code",
   "execution_count": 186,
   "id": "47ee595d",
   "metadata": {},
   "outputs": [],
   "source": [
    "athlete_count = athlete_count.append({'Year': 2018.0, 'Season': 'Winter', 'Sex':'M', 'N_athletes': 1680},\\\n",
    "                                     ignore_index = True)"
   ]
  },
  {
   "cell_type": "markdown",
   "id": "cabdcf82",
   "metadata": {},
   "source": [
    "#### Sort values based on Year"
   ]
  },
  {
   "cell_type": "code",
   "execution_count": 187,
   "id": "0fbcd1c3",
   "metadata": {
    "scrolled": false
   },
   "outputs": [],
   "source": [
    "athlete_count.sort_values(by='Year', inplace=True)"
   ]
  },
  {
   "cell_type": "code",
   "execution_count": 188,
   "id": "49420bb5",
   "metadata": {},
   "outputs": [
    {
     "data": {
      "text/html": [
       "<div>\n",
       "<style scoped>\n",
       "    .dataframe tbody tr th:only-of-type {\n",
       "        vertical-align: middle;\n",
       "    }\n",
       "\n",
       "    .dataframe tbody tr th {\n",
       "        vertical-align: top;\n",
       "    }\n",
       "\n",
       "    .dataframe thead th {\n",
       "        text-align: right;\n",
       "    }\n",
       "</style>\n",
       "<table border=\"1\" class=\"dataframe\">\n",
       "  <thead>\n",
       "    <tr style=\"text-align: right;\">\n",
       "      <th></th>\n",
       "      <th>Year</th>\n",
       "      <th>Season</th>\n",
       "      <th>Sex</th>\n",
       "      <th>N_athletes</th>\n",
       "    </tr>\n",
       "  </thead>\n",
       "  <tbody>\n",
       "    <tr>\n",
       "      <th>100</th>\n",
       "      <td>2016.0</td>\n",
       "      <td>Summer</td>\n",
       "      <td>M</td>\n",
       "      <td>7465</td>\n",
       "    </tr>\n",
       "    <tr>\n",
       "      <th>103</th>\n",
       "      <td>2018.0</td>\n",
       "      <td>Winter</td>\n",
       "      <td>F</td>\n",
       "      <td>1242</td>\n",
       "    </tr>\n",
       "    <tr>\n",
       "      <th>104</th>\n",
       "      <td>2018.0</td>\n",
       "      <td>Winter</td>\n",
       "      <td>M</td>\n",
       "      <td>1680</td>\n",
       "    </tr>\n",
       "    <tr>\n",
       "      <th>101</th>\n",
       "      <td>2020.0</td>\n",
       "      <td>Summer</td>\n",
       "      <td>F</td>\n",
       "      <td>5495</td>\n",
       "    </tr>\n",
       "    <tr>\n",
       "      <th>102</th>\n",
       "      <td>2020.0</td>\n",
       "      <td>Summer</td>\n",
       "      <td>M</td>\n",
       "      <td>6002</td>\n",
       "    </tr>\n",
       "  </tbody>\n",
       "</table>\n",
       "</div>"
      ],
      "text/plain": [
       "       Year  Season Sex  N_athletes\n",
       "100  2016.0  Summer   M        7465\n",
       "103  2018.0  Winter   F        1242\n",
       "104  2018.0  Winter   M        1680\n",
       "101  2020.0  Summer   F        5495\n",
       "102  2020.0  Summer   M        6002"
      ]
     },
     "execution_count": 188,
     "metadata": {},
     "output_type": "execute_result"
    }
   ],
   "source": [
    "athlete_count.tail()"
   ]
  },
  {
   "cell_type": "code",
   "execution_count": 189,
   "id": "57f73542",
   "metadata": {
    "scrolled": true
   },
   "outputs": [
    {
     "data": {
      "text/plain": [
       "105"
      ]
     },
     "execution_count": 189,
     "metadata": {},
     "output_type": "execute_result"
    }
   ],
   "source": [
    "len(athlete_count)"
   ]
  },
  {
   "cell_type": "markdown",
   "id": "37506a09",
   "metadata": {},
   "source": [
    "#### Male and female count over the years in Summer Olympics"
   ]
  },
  {
   "cell_type": "code",
   "execution_count": 190,
   "id": "71089675",
   "metadata": {},
   "outputs": [],
   "source": [
    "athlete_count_s = athlete_count[athlete_count.Season == 'Summer']"
   ]
  },
  {
   "cell_type": "markdown",
   "id": "58912f7c",
   "metadata": {},
   "source": [
    "#### Fig 8 : Number of Athletes by Year in both Females and Males in Summer Olympics"
   ]
  },
  {
   "cell_type": "code",
   "execution_count": 191,
   "id": "a58fd62a",
   "metadata": {
    "scrolled": true
   },
   "outputs": [
    {
     "data": {
      "text/plain": [
       "<seaborn.axisgrid.FacetGrid at 0x7fda5c8f4370>"
      ]
     },
     "execution_count": 191,
     "metadata": {},
     "output_type": "execute_result"
    },
    {
     "data": {
      "image/png": "[encoded data removed]",
      "text/plain": [
       "<Figure size 1124.62x360 with 1 Axes>"
      ]
     },
     "metadata": {
      "needs_background": "light"
     },
     "output_type": "display_data"
    }
   ],
   "source": [
    "sns.catplot(x='Year', y = 'N_athletes', hue = 'Sex', kind = 'bar',\\\n",
    "            data = athlete_count_s, aspect = 3).set_xticklabels(rotation=90)\n",
    "                    "
   ]
  },
  {
   "cell_type": "markdown",
   "id": "072f2244",
   "metadata": {},
   "source": [
    "#### Male and female count over the years in Winter Olympics"
   ]
  },
  {
   "cell_type": "code",
   "execution_count": 192,
   "id": "8b50dc4b",
   "metadata": {},
   "outputs": [],
   "source": [
    "athlete_count_w = athlete_count[athlete_count.Season == 'Winter']"
   ]
  },
  {
   "cell_type": "markdown",
   "id": "351c5673",
   "metadata": {},
   "source": [
    "#### Fig 9 : Number of Athletes by Year for both Female and Male in Winter Olympics"
   ]
  },
  {
   "cell_type": "code",
   "execution_count": 193,
   "id": "98037164",
   "metadata": {
    "scrolled": true
   },
   "outputs": [
    {
     "data": {
      "text/plain": [
       "<seaborn.axisgrid.FacetGrid at 0x7fda418b1b80>"
      ]
     },
     "execution_count": 193,
     "metadata": {},
     "output_type": "execute_result"
    },
    {
     "data": {
      "image/png": "[encoded data removed]",
      "text/plain": [
       "<Figure size 1124.62x360 with 1 Axes>"
      ]
     },
     "metadata": {
      "needs_background": "light"
     },
     "output_type": "display_data"
    }
   ],
   "source": [
    "sns.catplot(x='Year', y = 'N_athletes', hue = 'Sex', kind = 'bar',\\\n",
    "            data = athlete_count_w, aspect = 3).set_xticklabels(rotation=90)\n",
    "                    "
   ]
  },
  {
   "cell_type": "markdown",
   "id": "a25df2da",
   "metadata": {},
   "source": [
    "#### Separate male and female data and merge as a single row for each Olympics"
   ]
  },
  {
   "cell_type": "markdown",
   "id": "f51d7937",
   "metadata": {},
   "source": [
    "*Female dataframe*"
   ]
  },
  {
   "cell_type": "code",
   "execution_count": 194,
   "id": "22903cb8",
   "metadata": {},
   "outputs": [
    {
     "data": {
      "text/plain": [
       "(52, 3)"
      ]
     },
     "execution_count": 194,
     "metadata": {},
     "output_type": "execute_result"
    }
   ],
   "source": [
    "female_df = athlete_count[athlete_count.Sex == 'F']\n",
    "female_df.rename(columns = {'N_athletes':'Female'}, inplace = True)\n",
    "female_df.drop(columns = 'Sex', inplace = True)\n",
    "female_df.shape"
   ]
  },
  {
   "cell_type": "markdown",
   "id": "f54043b0",
   "metadata": {},
   "source": [
    "*Male dataframe*"
   ]
  },
  {
   "cell_type": "code",
   "execution_count": 195,
   "id": "6b3c6873",
   "metadata": {
    "scrolled": true
   },
   "outputs": [
    {
     "data": {
      "text/plain": [
       "(53, 3)"
      ]
     },
     "execution_count": 195,
     "metadata": {},
     "output_type": "execute_result"
    }
   ],
   "source": [
    "male_df = athlete_count[athlete_count.Sex == 'M']\n",
    "male_df.rename(columns = {'N_athletes':'Male'}, inplace=True)\n",
    "male_df.drop(columns='Sex', inplace=True)\n",
    "male_df.shape"
   ]
  },
  {
   "cell_type": "markdown",
   "id": "3d157985",
   "metadata": {},
   "source": [
    "#### Merge male and female dataframes"
   ]
  },
  {
   "cell_type": "code",
   "execution_count": 196,
   "id": "7950a4a7",
   "metadata": {},
   "outputs": [],
   "source": [
    "athlete_count_df = male_df.merge(female_df, left_on=['Year', 'Season'],\\\n",
    "                                 right_on = ['Year', 'Season'], how = 'outer')"
   ]
  },
  {
   "cell_type": "code",
   "execution_count": 197,
   "id": "dac6824c",
   "metadata": {},
   "outputs": [
    {
     "data": {
      "text/plain": [
       "Year      False\n",
       "Season    False\n",
       "Male      False\n",
       "Female     True\n",
       "dtype: bool"
      ]
     },
     "execution_count": 197,
     "metadata": {},
     "output_type": "execute_result"
    }
   ],
   "source": [
    "athlete_count_df.isna().any()"
   ]
  },
  {
   "cell_type": "code",
   "execution_count": 198,
   "id": "cc11f6f7",
   "metadata": {
    "scrolled": true
   },
   "outputs": [
    {
     "data": {
      "text/plain": [
       "53"
      ]
     },
     "execution_count": 198,
     "metadata": {},
     "output_type": "execute_result"
    }
   ],
   "source": [
    "athlete_count_df.fillna(value=0, inplace=True)\n",
    "len(athlete_count_df)"
   ]
  },
  {
   "cell_type": "code",
   "execution_count": 199,
   "id": "1de0678f",
   "metadata": {
    "scrolled": false
   },
   "outputs": [
    {
     "data": {
      "text/html": [
       "<div>\n",
       "<style scoped>\n",
       "    .dataframe tbody tr th:only-of-type {\n",
       "        vertical-align: middle;\n",
       "    }\n",
       "\n",
       "    .dataframe tbody tr th {\n",
       "        vertical-align: top;\n",
       "    }\n",
       "\n",
       "    .dataframe thead th {\n",
       "        text-align: right;\n",
       "    }\n",
       "</style>\n",
       "<table border=\"1\" class=\"dataframe\">\n",
       "  <thead>\n",
       "    <tr style=\"text-align: right;\">\n",
       "      <th></th>\n",
       "      <th>Year</th>\n",
       "      <th>Season</th>\n",
       "      <th>Male</th>\n",
       "      <th>Female</th>\n",
       "    </tr>\n",
       "  </thead>\n",
       "  <tbody>\n",
       "    <tr>\n",
       "      <th>0</th>\n",
       "      <td>1896.0</td>\n",
       "      <td>Summer</td>\n",
       "      <td>380</td>\n",
       "      <td>0.0</td>\n",
       "    </tr>\n",
       "  </tbody>\n",
       "</table>\n",
       "</div>"
      ],
      "text/plain": [
       "     Year  Season  Male  Female\n",
       "0  1896.0  Summer   380     0.0"
      ]
     },
     "execution_count": 199,
     "metadata": {},
     "output_type": "execute_result"
    }
   ],
   "source": [
    "athlete_count_df.head(1)"
   ]
  },
  {
   "cell_type": "markdown",
   "id": "7c3f5309",
   "metadata": {},
   "source": [
    "#### Calculate gender percentage and ratio gap"
   ]
  },
  {
   "cell_type": "code",
   "execution_count": 200,
   "id": "09f45bdd",
   "metadata": {},
   "outputs": [],
   "source": [
    "athlete_count_df['female_percent'] = (athlete_count_df.Female/\\\n",
    "                                      (athlete_count_df.Male + athlete_count_df.Female))*100"
   ]
  },
  {
   "cell_type": "code",
   "execution_count": 201,
   "id": "162147d2",
   "metadata": {},
   "outputs": [],
   "source": [
    "athlete_count_df['male_percent'] = (athlete_count_df.Male/\\\n",
    "                                    (athlete_count_df.Male + athlete_count_df.Female))*100"
   ]
  },
  {
   "cell_type": "code",
   "execution_count": 202,
   "id": "3861822e",
   "metadata": {
    "scrolled": true
   },
   "outputs": [],
   "source": [
    "athlete_count_df['ratio_gap'] = athlete_count_df.male_percent - athlete_count_df.female_percent"
   ]
  },
  {
   "cell_type": "code",
   "execution_count": 203,
   "id": "c9661708",
   "metadata": {
    "scrolled": true
   },
   "outputs": [
    {
     "data": {
      "text/html": [
       "<div>\n",
       "<style scoped>\n",
       "    .dataframe tbody tr th:only-of-type {\n",
       "        vertical-align: middle;\n",
       "    }\n",
       "\n",
       "    .dataframe tbody tr th {\n",
       "        vertical-align: top;\n",
       "    }\n",
       "\n",
       "    .dataframe thead th {\n",
       "        text-align: right;\n",
       "    }\n",
       "</style>\n",
       "<table border=\"1\" class=\"dataframe\">\n",
       "  <thead>\n",
       "    <tr style=\"text-align: right;\">\n",
       "      <th></th>\n",
       "      <th>Year</th>\n",
       "      <th>Season</th>\n",
       "      <th>Male</th>\n",
       "      <th>Female</th>\n",
       "      <th>female_percent</th>\n",
       "      <th>male_percent</th>\n",
       "      <th>ratio_gap</th>\n",
       "    </tr>\n",
       "  </thead>\n",
       "  <tbody>\n",
       "    <tr>\n",
       "      <th>48</th>\n",
       "      <td>2012.0</td>\n",
       "      <td>Summer</td>\n",
       "      <td>7105</td>\n",
       "      <td>5815.0</td>\n",
       "      <td>45.007740</td>\n",
       "      <td>54.992260</td>\n",
       "      <td>9.984520</td>\n",
       "    </tr>\n",
       "    <tr>\n",
       "      <th>49</th>\n",
       "      <td>2014.0</td>\n",
       "      <td>Winter</td>\n",
       "      <td>2868</td>\n",
       "      <td>2023.0</td>\n",
       "      <td>41.361685</td>\n",
       "      <td>58.638315</td>\n",
       "      <td>17.276631</td>\n",
       "    </tr>\n",
       "    <tr>\n",
       "      <th>50</th>\n",
       "      <td>2016.0</td>\n",
       "      <td>Summer</td>\n",
       "      <td>7465</td>\n",
       "      <td>6223.0</td>\n",
       "      <td>45.463179</td>\n",
       "      <td>54.536821</td>\n",
       "      <td>9.073641</td>\n",
       "    </tr>\n",
       "    <tr>\n",
       "      <th>51</th>\n",
       "      <td>2018.0</td>\n",
       "      <td>Winter</td>\n",
       "      <td>1680</td>\n",
       "      <td>1242.0</td>\n",
       "      <td>42.505133</td>\n",
       "      <td>57.494867</td>\n",
       "      <td>14.989733</td>\n",
       "    </tr>\n",
       "    <tr>\n",
       "      <th>52</th>\n",
       "      <td>2020.0</td>\n",
       "      <td>Summer</td>\n",
       "      <td>6002</td>\n",
       "      <td>5495.0</td>\n",
       "      <td>47.795077</td>\n",
       "      <td>52.204923</td>\n",
       "      <td>4.409846</td>\n",
       "    </tr>\n",
       "  </tbody>\n",
       "</table>\n",
       "</div>"
      ],
      "text/plain": [
       "      Year  Season  Male  Female  female_percent  male_percent  ratio_gap\n",
       "48  2012.0  Summer  7105  5815.0       45.007740     54.992260   9.984520\n",
       "49  2014.0  Winter  2868  2023.0       41.361685     58.638315  17.276631\n",
       "50  2016.0  Summer  7465  6223.0       45.463179     54.536821   9.073641\n",
       "51  2018.0  Winter  1680  1242.0       42.505133     57.494867  14.989733\n",
       "52  2020.0  Summer  6002  5495.0       47.795077     52.204923   4.409846"
      ]
     },
     "execution_count": 203,
     "metadata": {},
     "output_type": "execute_result"
    }
   ],
   "source": [
    "athlete_count_df.tail()"
   ]
  },
  {
   "cell_type": "markdown",
   "id": "e4aef65c",
   "metadata": {},
   "source": [
    "#### Fig 10: Female representation over the years"
   ]
  },
  {
   "cell_type": "code",
   "execution_count": 204,
   "id": "40deec8b",
   "metadata": {
    "scrolled": false
   },
   "outputs": [
    {
     "data": {
      "text/plain": [
       "<seaborn.axisgrid.FacetGrid at 0x7fda418b13d0>"
      ]
     },
     "execution_count": 204,
     "metadata": {},
     "output_type": "execute_result"
    },
    {
     "data": {
      "image/png": "[encoded data removed]",
      "text/plain": [
       "<Figure size 1158.12x360 with 1 Axes>"
      ]
     },
     "metadata": {
      "needs_background": "light"
     },
     "output_type": "display_data"
    }
   ],
   "source": [
    "sns.catplot(x='Year', y='female_percent',hue='Season', kind = 'point',\\\n",
    "            data = athlete_count_df, aspect = 3).set_xticklabels(rotation=90)"
   ]
  },
  {
   "cell_type": "markdown",
   "id": "63085e1b",
   "metadata": {},
   "source": [
    "#### Fig 11 : Ratio gap over the years"
   ]
  },
  {
   "cell_type": "code",
   "execution_count": 205,
   "id": "fa7f3de2",
   "metadata": {
    "scrolled": true
   },
   "outputs": [
    {
     "data": {
      "text/plain": [
       "<seaborn.axisgrid.FacetGrid at 0x7fda4936f550>"
      ]
     },
     "execution_count": 205,
     "metadata": {},
     "output_type": "execute_result"
    },
    {
     "data": {
      "image/png": "[encoded data removed]",
      "text/plain": [
       "<Figure size 1158.12x360 with 1 Axes>"
      ]
     },
     "metadata": {
      "needs_background": "light"
     },
     "output_type": "display_data"
    }
   ],
   "source": [
    "sns.catplot(x='Year', y='ratio_gap', hue='Season', kind = 'point',\\\n",
    "            data = athlete_count_df, aspect = 3).set_xticklabels(rotation=90)"
   ]
  },
  {
   "cell_type": "markdown",
   "id": "58b4afb7",
   "metadata": {},
   "source": [
    "#### Shift by 1 to get the value of the previous year"
   ]
  },
  {
   "cell_type": "code",
   "execution_count": 206,
   "id": "2645ed73",
   "metadata": {},
   "outputs": [],
   "source": [
    "pre_year_count = athlete_count_df.shift(1)"
   ]
  },
  {
   "cell_type": "markdown",
   "id": "394e5bc2",
   "metadata": {},
   "source": [
    "#### Find moving average for every 5 years to normalise the winter female percentage dip"
   ]
  },
  {
   "cell_type": "code",
   "execution_count": 207,
   "id": "cc3f8edb",
   "metadata": {},
   "outputs": [],
   "source": [
    "pre_5_years_count = pre_year_count.rolling(5).mean()"
   ]
  },
  {
   "cell_type": "markdown",
   "id": "8f8d3800",
   "metadata": {},
   "source": [
    "#### Calculate the female percent increase and average ratio gap for every 5 years"
   ]
  },
  {
   "cell_type": "code",
   "execution_count": 208,
   "id": "214b75bb",
   "metadata": {},
   "outputs": [],
   "source": [
    "athlete_count_df['female_per_increase'] = athlete_count_df.female_percent - pre_5_years_count.female_percent"
   ]
  },
  {
   "cell_type": "code",
   "execution_count": 209,
   "id": "4e3401bf",
   "metadata": {},
   "outputs": [],
   "source": [
    "athlete_count_df['pre_5_yrs_ratio_gap_avg'] = pre_5_years_count.ratio_gap"
   ]
  },
  {
   "cell_type": "code",
   "execution_count": 210,
   "id": "5a56c8e0",
   "metadata": {
    "scrolled": false
   },
   "outputs": [
    {
     "data": {
      "text/html": [
       "<div>\n",
       "<style scoped>\n",
       "    .dataframe tbody tr th:only-of-type {\n",
       "        vertical-align: middle;\n",
       "    }\n",
       "\n",
       "    .dataframe tbody tr th {\n",
       "        vertical-align: top;\n",
       "    }\n",
       "\n",
       "    .dataframe thead th {\n",
       "        text-align: right;\n",
       "    }\n",
       "</style>\n",
       "<table border=\"1\" class=\"dataframe\">\n",
       "  <thead>\n",
       "    <tr style=\"text-align: right;\">\n",
       "      <th></th>\n",
       "      <th>Year</th>\n",
       "      <th>Season</th>\n",
       "      <th>Male</th>\n",
       "      <th>Female</th>\n",
       "      <th>female_percent</th>\n",
       "      <th>male_percent</th>\n",
       "      <th>ratio_gap</th>\n",
       "      <th>female_per_increase</th>\n",
       "      <th>pre_5_yrs_ratio_gap_avg</th>\n",
       "    </tr>\n",
       "  </thead>\n",
       "  <tbody>\n",
       "    <tr>\n",
       "      <th>52</th>\n",
       "      <td>2020.0</td>\n",
       "      <td>Summer</td>\n",
       "      <td>6002</td>\n",
       "      <td>5495.0</td>\n",
       "      <td>47.795077</td>\n",
       "      <td>52.204923</td>\n",
       "      <td>4.409846</td>\n",
       "      <td>4.535889</td>\n",
       "      <td>13.481625</td>\n",
       "    </tr>\n",
       "  </tbody>\n",
       "</table>\n",
       "</div>"
      ],
      "text/plain": [
       "      Year  Season  Male  Female  female_percent  male_percent  ratio_gap  \\\n",
       "52  2020.0  Summer  6002  5495.0       47.795077     52.204923   4.409846   \n",
       "\n",
       "    female_per_increase  pre_5_yrs_ratio_gap_avg  \n",
       "52             4.535889                13.481625  "
      ]
     },
     "execution_count": 210,
     "metadata": {},
     "output_type": "execute_result"
    }
   ],
   "source": [
    "athlete_count_df.tail(1)"
   ]
  },
  {
   "cell_type": "markdown",
   "id": "7f66940e",
   "metadata": {},
   "source": [
    "#### Fill NaNs"
   ]
  },
  {
   "cell_type": "code",
   "execution_count": 211,
   "id": "3ee2b404",
   "metadata": {
    "scrolled": false
   },
   "outputs": [
    {
     "data": {
      "text/plain": [
       "5"
      ]
     },
     "execution_count": 211,
     "metadata": {},
     "output_type": "execute_result"
    }
   ],
   "source": [
    "athlete_count_df.female_per_increase.isna().sum()"
   ]
  },
  {
   "cell_type": "code",
   "execution_count": 212,
   "id": "0edcc0ce",
   "metadata": {},
   "outputs": [],
   "source": [
    "athlete_count_df.female_per_increase.replace(to_replace=np.nan, value=0, inplace=True)"
   ]
  },
  {
   "cell_type": "code",
   "execution_count": 213,
   "id": "605ddbaa",
   "metadata": {},
   "outputs": [],
   "source": [
    "athlete_count_df.pre_5_yrs_ratio_gap_avg.replace(to_replace=np.nan, value=100, inplace=True)"
   ]
  },
  {
   "cell_type": "code",
   "execution_count": 214,
   "id": "561a5c28",
   "metadata": {
    "scrolled": false
   },
   "outputs": [
    {
     "data": {
      "text/plain": [
       "Year                       False\n",
       "Season                     False\n",
       "Male                       False\n",
       "Female                     False\n",
       "female_percent             False\n",
       "male_percent               False\n",
       "ratio_gap                  False\n",
       "female_per_increase        False\n",
       "pre_5_yrs_ratio_gap_avg    False\n",
       "dtype: bool"
      ]
     },
     "execution_count": 214,
     "metadata": {},
     "output_type": "execute_result"
    }
   ],
   "source": [
    "athlete_count_df.isna().any()"
   ]
  },
  {
   "cell_type": "code",
   "execution_count": 215,
   "id": "bfdc7cd8",
   "metadata": {
    "scrolled": false
   },
   "outputs": [
    {
     "data": {
      "text/html": [
       "<div>\n",
       "<style scoped>\n",
       "    .dataframe tbody tr th:only-of-type {\n",
       "        vertical-align: middle;\n",
       "    }\n",
       "\n",
       "    .dataframe tbody tr th {\n",
       "        vertical-align: top;\n",
       "    }\n",
       "\n",
       "    .dataframe thead th {\n",
       "        text-align: right;\n",
       "    }\n",
       "</style>\n",
       "<table border=\"1\" class=\"dataframe\">\n",
       "  <thead>\n",
       "    <tr style=\"text-align: right;\">\n",
       "      <th></th>\n",
       "      <th>Year</th>\n",
       "      <th>Season</th>\n",
       "      <th>Male</th>\n",
       "      <th>Female</th>\n",
       "      <th>female_percent</th>\n",
       "      <th>male_percent</th>\n",
       "      <th>ratio_gap</th>\n",
       "      <th>female_per_increase</th>\n",
       "      <th>pre_5_yrs_ratio_gap_avg</th>\n",
       "    </tr>\n",
       "  </thead>\n",
       "  <tbody>\n",
       "    <tr>\n",
       "      <th>0</th>\n",
       "      <td>1896.0</td>\n",
       "      <td>Summer</td>\n",
       "      <td>380</td>\n",
       "      <td>0.0</td>\n",
       "      <td>0.000000</td>\n",
       "      <td>100.000000</td>\n",
       "      <td>100.000000</td>\n",
       "      <td>0.0</td>\n",
       "      <td>100.0</td>\n",
       "    </tr>\n",
       "    <tr>\n",
       "      <th>1</th>\n",
       "      <td>1900.0</td>\n",
       "      <td>Summer</td>\n",
       "      <td>1903</td>\n",
       "      <td>33.0</td>\n",
       "      <td>1.704545</td>\n",
       "      <td>98.295455</td>\n",
       "      <td>96.590909</td>\n",
       "      <td>0.0</td>\n",
       "      <td>100.0</td>\n",
       "    </tr>\n",
       "    <tr>\n",
       "      <th>2</th>\n",
       "      <td>1904.0</td>\n",
       "      <td>Summer</td>\n",
       "      <td>1285</td>\n",
       "      <td>16.0</td>\n",
       "      <td>1.229823</td>\n",
       "      <td>98.770177</td>\n",
       "      <td>97.540354</td>\n",
       "      <td>0.0</td>\n",
       "      <td>100.0</td>\n",
       "    </tr>\n",
       "    <tr>\n",
       "      <th>3</th>\n",
       "      <td>1906.0</td>\n",
       "      <td>Summer</td>\n",
       "      <td>1722</td>\n",
       "      <td>11.0</td>\n",
       "      <td>0.634737</td>\n",
       "      <td>99.365263</td>\n",
       "      <td>98.730525</td>\n",
       "      <td>0.0</td>\n",
       "      <td>100.0</td>\n",
       "    </tr>\n",
       "    <tr>\n",
       "      <th>4</th>\n",
       "      <td>1908.0</td>\n",
       "      <td>Summer</td>\n",
       "      <td>3054</td>\n",
       "      <td>47.0</td>\n",
       "      <td>1.515640</td>\n",
       "      <td>98.484360</td>\n",
       "      <td>96.968720</td>\n",
       "      <td>0.0</td>\n",
       "      <td>100.0</td>\n",
       "    </tr>\n",
       "  </tbody>\n",
       "</table>\n",
       "</div>"
      ],
      "text/plain": [
       "     Year  Season  Male  Female  female_percent  male_percent   ratio_gap  \\\n",
       "0  1896.0  Summer   380     0.0        0.000000    100.000000  100.000000   \n",
       "1  1900.0  Summer  1903    33.0        1.704545     98.295455   96.590909   \n",
       "2  1904.0  Summer  1285    16.0        1.229823     98.770177   97.540354   \n",
       "3  1906.0  Summer  1722    11.0        0.634737     99.365263   98.730525   \n",
       "4  1908.0  Summer  3054    47.0        1.515640     98.484360   96.968720   \n",
       "\n",
       "   female_per_increase  pre_5_yrs_ratio_gap_avg  \n",
       "0                  0.0                    100.0  \n",
       "1                  0.0                    100.0  \n",
       "2                  0.0                    100.0  \n",
       "3                  0.0                    100.0  \n",
       "4                  0.0                    100.0  "
      ]
     },
     "execution_count": 215,
     "metadata": {},
     "output_type": "execute_result"
    }
   ],
   "source": [
    "athlete_count_df.head()"
   ]
  },
  {
   "cell_type": "markdown",
   "id": "3cb58870",
   "metadata": {},
   "source": [
    "#### Fig 12  : Moving average of female percent increase over the years"
   ]
  },
  {
   "cell_type": "code",
   "execution_count": 216,
   "id": "c374a35a",
   "metadata": {
    "scrolled": false
   },
   "outputs": [
    {
     "data": {
      "text/plain": [
       "<seaborn.axisgrid.FacetGrid at 0x7fda5c23e5b0>"
      ]
     },
     "execution_count": 216,
     "metadata": {},
     "output_type": "execute_result"
    },
    {
     "data": {
      "image/png": "[encoded data removed]",
      "text/plain": [
       "<Figure size 1158.12x360 with 1 Axes>"
      ]
     },
     "metadata": {
      "needs_background": "light"
     },
     "output_type": "display_data"
    }
   ],
   "source": [
    "sns.catplot(x='Year', y='female_per_increase',hue='Season', kind = 'point',\\\n",
    "            data = athlete_count_df, aspect = 3).set_xticklabels(rotation=90)"
   ]
  },
  {
   "cell_type": "markdown",
   "id": "b31e5ec5",
   "metadata": {},
   "source": [
    "#### Fig 13 : Normalized : Moving average of ratio gap over the years"
   ]
  },
  {
   "cell_type": "code",
   "execution_count": 217,
   "id": "17ebddd7",
   "metadata": {
    "scrolled": true
   },
   "outputs": [
    {
     "data": {
      "text/plain": [
       "<seaborn.axisgrid.FacetGrid at 0x7fda41a20cd0>"
      ]
     },
     "execution_count": 217,
     "metadata": {},
     "output_type": "execute_result"
    },
    {
     "data": {
      "image/png": "[encoded data removed]",
      "text/plain": [
       "<Figure size 1158.12x360 with 1 Axes>"
      ]
     },
     "metadata": {
      "needs_background": "light"
     },
     "output_type": "display_data"
    }
   ],
   "source": [
    "sns.catplot(x='Year', y='pre_5_yrs_ratio_gap_avg', hue='Season', kind = 'point',\\\n",
    "            data = athlete_count_df, aspect = 3).set_xticklabels(rotation=90)"
   ]
  },
  {
   "cell_type": "markdown",
   "id": "a9e00470",
   "metadata": {},
   "source": [
    "#### Average female percent increase"
   ]
  },
  {
   "cell_type": "code",
   "execution_count": 218,
   "id": "c576fedf",
   "metadata": {
    "scrolled": true
   },
   "outputs": [
    {
     "data": {
      "text/plain": [
       "2.475097567967837"
      ]
     },
     "execution_count": 218,
     "metadata": {},
     "output_type": "execute_result"
    }
   ],
   "source": [
    "avg_female_per_increase = athlete_count_df.female_per_increase.mean()\n",
    "avg_female_per_increase"
   ]
  },
  {
   "cell_type": "markdown",
   "id": "011648a8",
   "metadata": {},
   "source": [
    "### Classification Decision Tree"
   ]
  },
  {
   "cell_type": "markdown",
   "id": "0bb61e7b",
   "metadata": {},
   "source": [
    "#### Question: Will the female percentage increase in the 2022 winter olympics?"
   ]
  },
  {
   "cell_type": "markdown",
   "id": "45c117ea",
   "metadata": {},
   "source": [
    "#### Convert all the columns to numerical values or binary"
   ]
  },
  {
   "cell_type": "code",
   "execution_count": 219,
   "id": "5042716a",
   "metadata": {
    "scrolled": true
   },
   "outputs": [],
   "source": [
    "athlete_count_df['female_per_inc_binary'] = (athlete_count_df.female_per_increase > 0) + 0.0"
   ]
  },
  {
   "cell_type": "code",
   "execution_count": 220,
   "id": "ae4c2338",
   "metadata": {
    "scrolled": true
   },
   "outputs": [],
   "source": [
    "df = athlete_count_df"
   ]
  },
  {
   "cell_type": "markdown",
   "id": "9741da72",
   "metadata": {},
   "source": [
    "#### Assign X and Y"
   ]
  },
  {
   "cell_type": "code",
   "execution_count": 221,
   "id": "e24a83d8",
   "metadata": {
    "scrolled": true
   },
   "outputs": [
    {
     "data": {
      "text/html": [
       "<div>\n",
       "<style scoped>\n",
       "    .dataframe tbody tr th:only-of-type {\n",
       "        vertical-align: middle;\n",
       "    }\n",
       "\n",
       "    .dataframe tbody tr th {\n",
       "        vertical-align: top;\n",
       "    }\n",
       "\n",
       "    .dataframe thead th {\n",
       "        text-align: right;\n",
       "    }\n",
       "</style>\n",
       "<table border=\"1\" class=\"dataframe\">\n",
       "  <thead>\n",
       "    <tr style=\"text-align: right;\">\n",
       "      <th></th>\n",
       "      <th>Year</th>\n",
       "      <th>pre_5_yrs_ratio_gap_avg</th>\n",
       "    </tr>\n",
       "  </thead>\n",
       "  <tbody>\n",
       "    <tr>\n",
       "      <th>52</th>\n",
       "      <td>2020.0</td>\n",
       "      <td>13.481625</td>\n",
       "    </tr>\n",
       "  </tbody>\n",
       "</table>\n",
       "</div>"
      ],
      "text/plain": [
       "      Year  pre_5_yrs_ratio_gap_avg\n",
       "52  2020.0                13.481625"
      ]
     },
     "execution_count": 221,
     "metadata": {},
     "output_type": "execute_result"
    }
   ],
   "source": [
    "Y = df.female_per_inc_binary\n",
    "X = df.drop(['female_per_inc_binary',\\\n",
    "             'female_per_increase', 'Male',\\\n",
    "             'female_percent', 'male_percent', 'Female', 'ratio_gap', 'Season'],axis=1)\n",
    "X.tail(1)"
   ]
  },
  {
   "cell_type": "code",
   "execution_count": 222,
   "id": "5c9c86df",
   "metadata": {},
   "outputs": [
    {
     "data": {
      "text/plain": [
       "array([0., 1.])"
      ]
     },
     "execution_count": 222,
     "metadata": {},
     "output_type": "execute_result"
    }
   ],
   "source": [
    "Y.unique()"
   ]
  },
  {
   "cell_type": "markdown",
   "id": "34d789f4",
   "metadata": {},
   "source": [
    "#### Build the tree"
   ]
  },
  {
   "cell_type": "code",
   "execution_count": 223,
   "id": "172997e0",
   "metadata": {},
   "outputs": [],
   "source": [
    "dt = tree.DecisionTreeClassifier(max_depth=3)"
   ]
  },
  {
   "cell_type": "code",
   "execution_count": 224,
   "id": "012349a6",
   "metadata": {
    "scrolled": true
   },
   "outputs": [
    {
     "data": {
      "text/plain": [
       "DecisionTreeClassifier(max_depth=3)"
      ]
     },
     "execution_count": 224,
     "metadata": {},
     "output_type": "execute_result"
    }
   ],
   "source": [
    "dt.fit(X,Y)"
   ]
  },
  {
   "cell_type": "code",
   "execution_count": 225,
   "id": "8ef84fd5",
   "metadata": {
    "scrolled": true
   },
   "outputs": [
    {
     "data": {
      "text/plain": [
       "['Year', 'pre_5_yrs_ratio_gap_avg']"
      ]
     },
     "execution_count": 225,
     "metadata": {},
     "output_type": "execute_result"
    }
   ],
   "source": [
    "dt_feature_names = list(X.columns)\n",
    "dt_feature_names"
   ]
  },
  {
   "cell_type": "code",
   "execution_count": 226,
   "id": "5fbeee51",
   "metadata": {
    "scrolled": true
   },
   "outputs": [
    {
     "data": {
      "text/plain": [
       "['0.0', '1.0']"
      ]
     },
     "execution_count": 226,
     "metadata": {},
     "output_type": "execute_result"
    }
   ],
   "source": [
    "dt_target_names = [str(s) for s in Y.unique()]\n",
    "dt_target_names"
   ]
  },
  {
   "cell_type": "markdown",
   "id": "99a3b987",
   "metadata": {},
   "source": [
    "#### Fig 14: Visualize the tree"
   ]
  },
  {
   "cell_type": "code",
   "execution_count": 227,
   "id": "b2095995",
   "metadata": {
    "scrolled": true
   },
   "outputs": [
    {
     "data": {
      "image/png": "[encoded data removed]",
      "text/plain": [
       "<IPython.core.display.Image object>"
      ]
     },
     "execution_count": 227,
     "metadata": {},
     "output_type": "execute_result"
    }
   ],
   "source": [
    "tree.export_graphviz(dt, out_file='tree.dot', \n",
    "    feature_names=dt_feature_names, class_names=dt_target_names,\n",
    "    filled=True)  \n",
    "graph = pydotplus.graph_from_dot_file('tree.dot')\n",
    "Image(graph.create_png())"
   ]
  },
  {
   "cell_type": "markdown",
   "id": "9c45d4e9",
   "metadata": {},
   "source": [
    "### The ratio_gap in 2020 is 11.15%\n",
    "\n",
    "#### We can predict the female percentage change in the 2022 Winter Olympics using the the above value."
   ]
  },
  {
   "cell_type": "code",
   "execution_count": 228,
   "id": "2e715d0f",
   "metadata": {
    "scrolled": false
   },
   "outputs": [
    {
     "data": {
      "text/plain": [
       "11.146874184322332"
      ]
     },
     "execution_count": 228,
     "metadata": {},
     "output_type": "execute_result"
    }
   ],
   "source": [
    "df.ratio_gap.tail(5).mean()"
   ]
  },
  {
   "cell_type": "code",
   "execution_count": 229,
   "id": "1e171032",
   "metadata": {
    "scrolled": true
   },
   "outputs": [
    {
     "data": {
      "text/plain": [
       "47.79507697660259"
      ]
     },
     "execution_count": 229,
     "metadata": {},
     "output_type": "execute_result"
    }
   ],
   "source": [
    "df.female_percent.values[-1]"
   ]
  },
  {
   "cell_type": "markdown",
   "id": "514b38ad",
   "metadata": {},
   "source": [
    "### The female representation in the 2022 Winter Olympics will not increase more than 47.80% "
   ]
  },
  {
   "cell_type": "markdown",
   "id": "b4d28dd6",
   "metadata": {},
   "source": [
    "### Regression"
   ]
  },
  {
   "cell_type": "markdown",
   "id": "a11d0fe1",
   "metadata": {},
   "source": [
    "#### Question: What will be the percentage change in female representation in the 2022 Winter Olympics?"
   ]
  },
  {
   "cell_type": "markdown",
   "id": "24a0e331",
   "metadata": {},
   "source": [
    "#### Assign X and Y"
   ]
  },
  {
   "cell_type": "code",
   "execution_count": 230,
   "id": "87bb7fef",
   "metadata": {},
   "outputs": [],
   "source": [
    "Y = df.female_per_increase\n",
    "X = df.drop(['female_per_inc_binary',\\\n",
    "             'female_per_increase', 'Male',\\\n",
    "             'female_percent', 'male_percent', 'Female', 'ratio_gap', 'Season'],axis=1)"
   ]
  },
  {
   "cell_type": "code",
   "execution_count": 231,
   "id": "02a8eb13",
   "metadata": {
    "scrolled": true
   },
   "outputs": [
    {
     "data": {
      "text/html": [
       "<div>\n",
       "<style scoped>\n",
       "    .dataframe tbody tr th:only-of-type {\n",
       "        vertical-align: middle;\n",
       "    }\n",
       "\n",
       "    .dataframe tbody tr th {\n",
       "        vertical-align: top;\n",
       "    }\n",
       "\n",
       "    .dataframe thead th {\n",
       "        text-align: right;\n",
       "    }\n",
       "</style>\n",
       "<table border=\"1\" class=\"dataframe\">\n",
       "  <thead>\n",
       "    <tr style=\"text-align: right;\">\n",
       "      <th></th>\n",
       "      <th>Year</th>\n",
       "      <th>pre_5_yrs_ratio_gap_avg</th>\n",
       "    </tr>\n",
       "  </thead>\n",
       "  <tbody>\n",
       "    <tr>\n",
       "      <th>52</th>\n",
       "      <td>2020.0</td>\n",
       "      <td>13.481625</td>\n",
       "    </tr>\n",
       "  </tbody>\n",
       "</table>\n",
       "</div>"
      ],
      "text/plain": [
       "      Year  pre_5_yrs_ratio_gap_avg\n",
       "52  2020.0                13.481625"
      ]
     },
     "execution_count": 231,
     "metadata": {},
     "output_type": "execute_result"
    }
   ],
   "source": [
    "X.tail(1)"
   ]
  },
  {
   "cell_type": "code",
   "execution_count": 232,
   "id": "5e728ac3",
   "metadata": {},
   "outputs": [
    {
     "data": {
      "text/plain": [
       "49"
      ]
     },
     "execution_count": 232,
     "metadata": {},
     "output_type": "execute_result"
    }
   ],
   "source": [
    "Y.nunique()"
   ]
  },
  {
   "cell_type": "markdown",
   "id": "72977bc9",
   "metadata": {},
   "source": [
    "#### Build the tree"
   ]
  },
  {
   "cell_type": "code",
   "execution_count": 233,
   "id": "cf26f276",
   "metadata": {},
   "outputs": [
    {
     "data": {
      "text/plain": [
       "DecisionTreeRegressor(max_depth=2)"
      ]
     },
     "execution_count": 233,
     "metadata": {},
     "output_type": "execute_result"
    }
   ],
   "source": [
    "dt = sk.tree.DecisionTreeRegressor(max_depth = 2)\n",
    "dt.fit(X,Y)"
   ]
  },
  {
   "cell_type": "code",
   "execution_count": 234,
   "id": "4fe3678b",
   "metadata": {},
   "outputs": [
    {
     "data": {
      "text/plain": [
       "['Year', 'pre_5_yrs_ratio_gap_avg']"
      ]
     },
     "execution_count": 234,
     "metadata": {},
     "output_type": "execute_result"
    }
   ],
   "source": [
    "dt_feature_names = list(X.columns)\n",
    "dt_feature_names "
   ]
  },
  {
   "cell_type": "code",
   "execution_count": 235,
   "id": "88458380",
   "metadata": {
    "scrolled": true
   },
   "outputs": [
    {
     "data": {
      "text/plain": [
       "array([b'0.0', b'1.1365160999227126', b'1.6744452889273544',\n",
       "       b'2.93156662455413', b'1.2779225964100163'], dtype='|S32')"
      ]
     },
     "execution_count": 235,
     "metadata": {},
     "output_type": "execute_result"
    }
   ],
   "source": [
    "dt_target_names = np.array(Y.unique(),dtype=np.string_)\n",
    "dt_target_names[:5]"
   ]
  },
  {
   "cell_type": "markdown",
   "id": "09691e74",
   "metadata": {},
   "source": [
    "#### Fig 15 : Visualize Regression"
   ]
  },
  {
   "cell_type": "code",
   "execution_count": 236,
   "id": "a805e219",
   "metadata": {
    "scrolled": true
   },
   "outputs": [
    {
     "data": {
      "image/png": "[encoded data removed]",
      "text/plain": [
       "<IPython.core.display.Image object>"
      ]
     },
     "execution_count": 236,
     "metadata": {},
     "output_type": "execute_result"
    }
   ],
   "source": [
    "tree.export_graphviz(dt, out_file='tree.dot', \n",
    "    feature_names=dt_feature_names, class_names=dt_target_names,\n",
    "    filled=True)  \n",
    "graph = pydotplus.graph_from_dot_file('tree.dot')\n",
    "Image(graph.create_png())"
   ]
  },
  {
   "cell_type": "markdown",
   "id": "936f3e86",
   "metadata": {},
   "source": [
    "### The ratio_gap in 2020 is 11.15%\n",
    "\n",
    "#### We can predict the female percentage change in the 2022 Winter Olympics using the the above value."
   ]
  },
  {
   "cell_type": "code",
   "execution_count": 237,
   "id": "51862797",
   "metadata": {
    "scrolled": true
   },
   "outputs": [
    {
     "data": {
      "text/plain": [
       "11.146874184322332"
      ]
     },
     "execution_count": 237,
     "metadata": {},
     "output_type": "execute_result"
    }
   ],
   "source": [
    "df.ratio_gap.tail(5).mean()"
   ]
  },
  {
   "cell_type": "markdown",
   "id": "f500707b",
   "metadata": {},
   "source": [
    "#### Female representation in 2020 Summer Olympics (Tokyo) is 47.80%"
   ]
  },
  {
   "cell_type": "code",
   "execution_count": 238,
   "id": "820011af",
   "metadata": {
    "scrolled": true
   },
   "outputs": [
    {
     "data": {
      "text/plain": [
       "47.79507697660259"
      ]
     },
     "execution_count": 238,
     "metadata": {},
     "output_type": "execute_result"
    }
   ],
   "source": [
    "df.female_percent.values[-1]"
   ]
  },
  {
   "cell_type": "markdown",
   "id": "907b95fc",
   "metadata": {},
   "source": [
    "#### Conclusion from Machine Learning 3B:"
   ]
  },
  {
   "cell_type": "markdown",
   "id": "66104752",
   "metadata": {},
   "source": [
    "The female representation in the 2022 Winter Olympics will go down by 0.805%. \n",
    "\n",
    "Female representation will be around 46.995%"
   ]
  },
  {
   "cell_type": "markdown",
   "id": "04543e6e",
   "metadata": {},
   "source": [
    "According to the regression decision tree, 2022 Olympics might have a female representation of around 46.995%. The classification decision tree confirms this by showing that the female representation will not go above 47.80%."
   ]
  },
  {
   "cell_type": "markdown",
   "id": "fdd427a4",
   "metadata": {},
   "source": [
    "### Managerial Insights 3B: "
   ]
  },
  {
   "cell_type": "markdown",
   "id": "7bf60789",
   "metadata": {},
   "source": [
    "**From the olympic point of view it is evident that the female representation has been growing at a slower rate in Winter Olympics when compared to Summer the Olympics. To mitigate this effect the Olympics committe could do the following:**\n",
    "- They can outreach/ adovcate for more female participants to join for the Winter Olympics.\n",
    "- Invite for young children who are female to watch the Olympics live maybe thorugh a Raffle system. \n",
    "- Help bring attention to the gender diaprity in the Winter Olympics.\n",
    "\n",
    "**From the Country's perspective they can help improve the female partcipation via:**\n",
    "- Advocating for more females to partcipate in the winter olympics sports\n",
    "- increase resources to funding more women in the winter sports\n",
    "- creating programs to help adovcate/ train children to learn winter sports to help increase the chance for female partcipants to go the winter olympics."
   ]
  },
  {
   "cell_type": "code",
   "execution_count": null,
   "id": "da274a09",
   "metadata": {},
   "outputs": [],
   "source": []
  }
 ],
 "metadata": {
  "kernelspec": {
   "display_name": "Python 3 (ipykernel)",
   "language": "python",
   "name": "python3"
  },
  "language_info": {
   "codemirror_mode": {
    "name": "ipython",
    "version": 3
   },
   "file_extension": ".py",
   "mimetype": "text/x-python",
   "name": "python",
   "nbconvert_exporter": "python",
   "pygments_lexer": "ipython3",
   "version": "3.9.7"
  }
 },
 "nbformat": 4,
 "nbformat_minor": 5
}
